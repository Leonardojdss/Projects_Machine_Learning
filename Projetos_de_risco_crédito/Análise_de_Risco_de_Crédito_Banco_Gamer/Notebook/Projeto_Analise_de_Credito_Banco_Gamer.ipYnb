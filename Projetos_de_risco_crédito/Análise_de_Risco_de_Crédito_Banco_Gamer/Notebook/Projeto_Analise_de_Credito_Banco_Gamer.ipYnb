{
 "cells": [
  {
   "cell_type": "markdown",
   "metadata": {},
   "source": [
    "# BANCO GAMER\n",
    "\n",
    "Banco mundialmente conhecido por realizar empréstimo para pessoas apaixonadas por games de diversas classes sociais.\n",
    "\n",
    "Este projeto tem como objetivo definir a variavel target de acordo com as políticas e requisitos definidas pelos diretores e gerentes do banco e estudar os modelos de classificação e random forest na análise de crédito."
   ]
  },
  {
   "cell_type": "markdown",
   "metadata": {},
   "source": [
    "# 0 - IMPORTAÇÃO DO DATASET"
   ]
  },
  {
   "cell_type": "code",
   "execution_count": 1,
   "metadata": {},
   "outputs": [],
   "source": [
    "# importacação de bibliotecas\n",
    "\n",
    "import pandas as pd #dataframe\n",
    "import seaborn as sns \n",
    "import matplotlib.pyplot as plt #graficos\n",
    "import numpy as np #modelagem\n",
    "from sklearn.ensemble import RandomForestClassifier #modelo random forest\n",
    "from xgboost import XGBClassifier #modelo de classificação\n",
    "from sklearn.preprocessing import LabelEncoder #transformar string para inteiros\n",
    "from sklearn.model_selection import train_test_split #separar o dataset de treino e teste\n",
    "from sklearn.metrics import confusion_matrix #medir métrica\n",
    "from sklearn.metrics import classification_report #medir métrica\n",
    "from sklearn.metrics import accuracy_score #medir métrica"
   ]
  },
  {
   "cell_type": "code",
   "execution_count": 2,
   "metadata": {},
   "outputs": [
    {
     "name": "stdout",
     "output_type": "stream",
     "text": [
      "<class 'pandas.core.frame.DataFrame'>\n"
     ]
    },
    {
     "data": {
      "text/html": [
       "<div>\n",
       "<style scoped>\n",
       "    .dataframe tbody tr th:only-of-type {\n",
       "        vertical-align: middle;\n",
       "    }\n",
       "\n",
       "    .dataframe tbody tr th {\n",
       "        vertical-align: top;\n",
       "    }\n",
       "\n",
       "    .dataframe thead th {\n",
       "        text-align: right;\n",
       "    }\n",
       "</style>\n",
       "<table border=\"1\" class=\"dataframe\">\n",
       "  <thead>\n",
       "    <tr style=\"text-align: right;\">\n",
       "      <th></th>\n",
       "      <th>person_age</th>\n",
       "      <th>person_income</th>\n",
       "      <th>person_home_ownership</th>\n",
       "      <th>person_emp_length</th>\n",
       "      <th>loan_intent</th>\n",
       "      <th>loan_amnt</th>\n",
       "      <th>loan_percent_income</th>\n",
       "      <th>cb_person_default_on_file</th>\n",
       "    </tr>\n",
       "  </thead>\n",
       "  <tbody>\n",
       "    <tr>\n",
       "      <th>0</th>\n",
       "      <td>22</td>\n",
       "      <td>59000</td>\n",
       "      <td>RENT</td>\n",
       "      <td>123.0</td>\n",
       "      <td>PERSONAL</td>\n",
       "      <td>35000</td>\n",
       "      <td>0.59</td>\n",
       "      <td>Y</td>\n",
       "    </tr>\n",
       "    <tr>\n",
       "      <th>1</th>\n",
       "      <td>21</td>\n",
       "      <td>9600</td>\n",
       "      <td>OWN</td>\n",
       "      <td>5.0</td>\n",
       "      <td>EDUCATION</td>\n",
       "      <td>1000</td>\n",
       "      <td>0.10</td>\n",
       "      <td>N</td>\n",
       "    </tr>\n",
       "    <tr>\n",
       "      <th>2</th>\n",
       "      <td>25</td>\n",
       "      <td>9600</td>\n",
       "      <td>MORTGAGE</td>\n",
       "      <td>1.0</td>\n",
       "      <td>MEDICAL</td>\n",
       "      <td>5500</td>\n",
       "      <td>0.57</td>\n",
       "      <td>N</td>\n",
       "    </tr>\n",
       "    <tr>\n",
       "      <th>3</th>\n",
       "      <td>23</td>\n",
       "      <td>65500</td>\n",
       "      <td>RENT</td>\n",
       "      <td>4.0</td>\n",
       "      <td>MEDICAL</td>\n",
       "      <td>35000</td>\n",
       "      <td>0.53</td>\n",
       "      <td>N</td>\n",
       "    </tr>\n",
       "    <tr>\n",
       "      <th>4</th>\n",
       "      <td>24</td>\n",
       "      <td>54400</td>\n",
       "      <td>RENT</td>\n",
       "      <td>8.0</td>\n",
       "      <td>MEDICAL</td>\n",
       "      <td>35000</td>\n",
       "      <td>0.55</td>\n",
       "      <td>Y</td>\n",
       "    </tr>\n",
       "  </tbody>\n",
       "</table>\n",
       "</div>"
      ],
      "text/plain": [
       "   person_age  person_income person_home_ownership  person_emp_length  \\\n",
       "0          22          59000                  RENT              123.0   \n",
       "1          21           9600                   OWN                5.0   \n",
       "2          25           9600              MORTGAGE                1.0   \n",
       "3          23          65500                  RENT                4.0   \n",
       "4          24          54400                  RENT                8.0   \n",
       "\n",
       "  loan_intent  loan_amnt  loan_percent_income cb_person_default_on_file  \n",
       "0    PERSONAL      35000                 0.59                         Y  \n",
       "1   EDUCATION       1000                 0.10                         N  \n",
       "2     MEDICAL       5500                 0.57                         N  \n",
       "3     MEDICAL      35000                 0.53                         N  \n",
       "4     MEDICAL      35000                 0.55                         Y  "
      ]
     },
     "execution_count": 2,
     "metadata": {},
     "output_type": "execute_result"
    }
   ],
   "source": [
    "# Importação do arquivo\n",
    "\n",
    "import pandas as pd\n",
    "\n",
    "file_path = \"credit_risk_dataset_original.csv\"\n",
    "dataset_credit_risk = pd.read_csv(file_path)\n",
    "\n",
    "print(type(dataset_credit_risk))\n",
    "dataset_credit_risk.head(5)"
   ]
  },
  {
   "cell_type": "code",
   "execution_count": 3,
   "metadata": {},
   "outputs": [
    {
     "data": {
      "text/plain": [
       "'Dicionario dos dados'"
      ]
     },
     "execution_count": 3,
     "metadata": {},
     "output_type": "execute_result"
    }
   ],
   "source": [
    "\"\"\"Dicionario dos dados\"\"\"\n",
    "\n",
    "# person_age - Idade (X = Caracteristicas)\n",
    "# person_income - Renda Anual (X = Caracteristicas)\n",
    "# person_home_ownership - Casa própria (X = Caracteristicas)\n",
    "# person_emp_length - Duração do emprego (em anos) (X = Caracteristicas)\n",
    "# loan_intent - Intenção de empréstimo (X = Caracteristicas)\n",
    "# loan_amnt - Valor do empréstimo (X = Caracteristicas)\n",
    "# loan_percent_income - Percentual de renda (X = Caracteristicas)\n",
    "# cb_person_default_on_file - Inadimplência histórica (X = Caracteristicas)"
   ]
  },
  {
   "cell_type": "markdown",
   "metadata": {},
   "source": [
    "# 1 - ANÁLISE EXPLORATÓRIA"
   ]
  },
  {
   "cell_type": "code",
   "execution_count": 4,
   "metadata": {},
   "outputs": [
    {
     "data": {
      "text/plain": [
       "person_age                     0\n",
       "person_income                  0\n",
       "person_home_ownership          0\n",
       "person_emp_length            895\n",
       "loan_intent                    0\n",
       "loan_amnt                      0\n",
       "loan_percent_income            0\n",
       "cb_person_default_on_file      0\n",
       "dtype: int64"
      ]
     },
     "execution_count": 4,
     "metadata": {},
     "output_type": "execute_result"
    }
   ],
   "source": [
    "# Verifica registros invalidos que possuem campos sem informacao \n",
    "\n",
    "contagem = dataset_credit_risk.isnull().sum()\n",
    "contagem"
   ]
  },
  {
   "cell_type": "code",
   "execution_count": 5,
   "metadata": {},
   "outputs": [
    {
     "name": "stdout",
     "output_type": "stream",
     "text": [
      "Existem registros duplicados, precisa tratar na modelagem\n"
     ]
    }
   ],
   "source": [
    "# Verifica registros duplicados\n",
    "\n",
    "validacao_de_duplicados = dataset_credit_risk.duplicated().sum()\n",
    "\n",
    "if validacao_de_duplicados == 0:\n",
    "    print(\"ótimo, Nao existem registros duplicados\")\n",
    "else:\n",
    "    print(\"Existem registros duplicados, precisa tratar na modelagem\")"
   ]
  },
  {
   "cell_type": "code",
   "execution_count": 6,
   "metadata": {},
   "outputs": [
    {
     "name": "stdout",
     "output_type": "stream",
     "text": [
      "<class 'pandas.core.frame.DataFrame'>\n",
      "RangeIndex: 32581 entries, 0 to 32580\n",
      "Data columns (total 8 columns):\n",
      " #   Column                     Non-Null Count  Dtype  \n",
      "---  ------                     --------------  -----  \n",
      " 0   person_age                 32581 non-null  int64  \n",
      " 1   person_income              32581 non-null  int64  \n",
      " 2   person_home_ownership      32581 non-null  object \n",
      " 3   person_emp_length          31686 non-null  float64\n",
      " 4   loan_intent                32581 non-null  object \n",
      " 5   loan_amnt                  32581 non-null  int64  \n",
      " 6   loan_percent_income        32581 non-null  float64\n",
      " 7   cb_person_default_on_file  32581 non-null  object \n",
      "dtypes: float64(2), int64(3), object(3)\n",
      "memory usage: 2.0+ MB\n"
     ]
    }
   ],
   "source": [
    "# Avaliando os tipos das minhas variaveis\n",
    "\n",
    "dataset_credit_risk.info()"
   ]
  },
  {
   "cell_type": "code",
   "execution_count": 7,
   "metadata": {},
   "outputs": [
    {
     "data": {
      "text/html": [
       "<div>\n",
       "<style scoped>\n",
       "    .dataframe tbody tr th:only-of-type {\n",
       "        vertical-align: middle;\n",
       "    }\n",
       "\n",
       "    .dataframe tbody tr th {\n",
       "        vertical-align: top;\n",
       "    }\n",
       "\n",
       "    .dataframe thead th {\n",
       "        text-align: right;\n",
       "    }\n",
       "</style>\n",
       "<table border=\"1\" class=\"dataframe\">\n",
       "  <thead>\n",
       "    <tr style=\"text-align: right;\">\n",
       "      <th></th>\n",
       "      <th>estatísticas descritivas</th>\n",
       "    </tr>\n",
       "  </thead>\n",
       "  <tbody>\n",
       "    <tr>\n",
       "      <th>count</th>\n",
       "      <td>32581.00</td>\n",
       "    </tr>\n",
       "    <tr>\n",
       "      <th>mean</th>\n",
       "      <td>9589.37</td>\n",
       "    </tr>\n",
       "    <tr>\n",
       "      <th>std</th>\n",
       "      <td>6322.09</td>\n",
       "    </tr>\n",
       "    <tr>\n",
       "      <th>min</th>\n",
       "      <td>500.00</td>\n",
       "    </tr>\n",
       "    <tr>\n",
       "      <th>25%</th>\n",
       "      <td>5000.00</td>\n",
       "    </tr>\n",
       "    <tr>\n",
       "      <th>50%</th>\n",
       "      <td>8000.00</td>\n",
       "    </tr>\n",
       "    <tr>\n",
       "      <th>75%</th>\n",
       "      <td>12200.00</td>\n",
       "    </tr>\n",
       "    <tr>\n",
       "      <th>max</th>\n",
       "      <td>35000.00</td>\n",
       "    </tr>\n",
       "  </tbody>\n",
       "</table>\n",
       "</div>"
      ],
      "text/plain": [
       "       estatísticas descritivas\n",
       "count                  32581.00\n",
       "mean                    9589.37\n",
       "std                     6322.09\n",
       "min                      500.00\n",
       "25%                     5000.00\n",
       "50%                     8000.00\n",
       "75%                    12200.00\n",
       "max                    35000.00"
      ]
     },
     "execution_count": 7,
     "metadata": {},
     "output_type": "execute_result"
    }
   ],
   "source": [
    "#Analisando como está a aleatoriedade de pedidos de crédito para para atingir um\n",
    "#grupo de pessoas onde a possuo pouco aleatoriedade atingindo a massa\n",
    "\n",
    "valores_unicos = dataset_credit_risk[\"loan_amnt\"]\n",
    "valores_unicos = pd.DataFrame(valores_unicos, columns=[\"loan_amnt\"])\n",
    "valores_unicos = valores_unicos.describe().round(2)\n",
    "valores_unicos = valores_unicos.rename(columns={'loan_amnt':'estatísticas descritivas'})\n",
    "valores_unicos"
   ]
  },
  {
   "cell_type": "code",
   "execution_count": 8,
   "metadata": {},
   "outputs": [
    {
     "data": {
      "text/plain": [
       "{'whiskers': [<matplotlib.lines.Line2D at 0x7f5dd0d58580>,\n",
       "  <matplotlib.lines.Line2D at 0x7f5dd0d58820>],\n",
       " 'caps': [<matplotlib.lines.Line2D at 0x7f5dd0d58ac0>,\n",
       "  <matplotlib.lines.Line2D at 0x7f5dd0d58c40>],\n",
       " 'boxes': [<matplotlib.lines.Line2D at 0x7f5dd0d582e0>],\n",
       " 'medians': [<matplotlib.lines.Line2D at 0x7f5dd0d58ee0>],\n",
       " 'fliers': [<matplotlib.lines.Line2D at 0x7f5dd0d59180>],\n",
       " 'means': []}"
      ]
     },
     "execution_count": 8,
     "metadata": {},
     "output_type": "execute_result"
    },
    {
     "data": {
      "image/png": "[encoded data removed]",
      "text/plain": [
       "<Figure size 640x480 with 1 Axes>"
      ]
     },
     "metadata": {},
     "output_type": "display_data"
    }
   ],
   "source": [
    "#Plotando as estatísticas descritivas\n",
    "\n",
    "fig = plt.boxplot(valores_unicos)\n",
    "fig"
   ]
  },
  {
   "cell_type": "markdown",
   "metadata": {},
   "source": [
    "- Com o gráfico é possível analisar que não possuímos quase nenhum outlier, facilitando o trabalhar de identificar a massa que \n",
    "será concentrado a política de crédito, ou seja o banco assumiu como estratégia realizar empréstimo para um grupo \n",
    "onde se concentra a maioria dos pedidos, não tem muita aleatoridade. De acordo com o boxplot entre o primeiro quartil e o terceiro quartia as solicitações de crédito estão concentradas a maiorias das\n",
    "massas."
   ]
  },
  {
   "cell_type": "code",
   "execution_count": 9,
   "metadata": {},
   "outputs": [
    {
     "data": {
      "text/plain": [
       "count    32581.00\n",
       "mean        27.73\n",
       "std          6.35\n",
       "min         20.00\n",
       "25%         23.00\n",
       "50%         26.00\n",
       "75%         30.00\n",
       "max        144.00\n",
       "Name: person_age, dtype: float64"
      ]
     },
     "execution_count": 9,
     "metadata": {},
     "output_type": "execute_result"
    }
   ],
   "source": [
    "# Avaliando a distribuição dos dados e entender se existe possíveis viesses\n",
    "\n",
    "idade = dataset_credit_risk[\"person_age\"]\n",
    "idade.describe().round(2)\n"
   ]
  },
  {
   "cell_type": "code",
   "execution_count": 10,
   "metadata": {},
   "outputs": [
    {
     "data": {
      "text/plain": [
       "{'whiskers': [<matplotlib.lines.Line2D at 0x7f5dd0969450>,\n",
       "  <matplotlib.lines.Line2D at 0x7f5dd096aad0>],\n",
       " 'caps': [<matplotlib.lines.Line2D at 0x7f5dd096ad70>,\n",
       "  <matplotlib.lines.Line2D at 0x7f5dd096b010>],\n",
       " 'boxes': [<matplotlib.lines.Line2D at 0x7f5dd096a6b0>],\n",
       " 'medians': [<matplotlib.lines.Line2D at 0x7f5dd096b2b0>],\n",
       " 'fliers': [<matplotlib.lines.Line2D at 0x7f5dd096b550>],\n",
       " 'means': []}"
      ]
     },
     "execution_count": 10,
     "metadata": {},
     "output_type": "execute_result"
    },
    {
     "data": {
      "image/png": "[encoded data removed]",
      "text/plain": [
       "<Figure size 640x480 with 1 Axes>"
      ]
     },
     "metadata": {},
     "output_type": "display_data"
    }
   ],
   "source": [
    "fig = plt.boxplot(idade)\n",
    "fig"
   ]
  },
  {
   "cell_type": "code",
   "execution_count": 11,
   "metadata": {},
   "outputs": [
    {
     "data": {
      "text/html": [
       "<div>\n",
       "<style scoped>\n",
       "    .dataframe tbody tr th:only-of-type {\n",
       "        vertical-align: middle;\n",
       "    }\n",
       "\n",
       "    .dataframe tbody tr th {\n",
       "        vertical-align: top;\n",
       "    }\n",
       "\n",
       "    .dataframe thead th {\n",
       "        text-align: right;\n",
       "    }\n",
       "</style>\n",
       "<table border=\"1\" class=\"dataframe\">\n",
       "  <thead>\n",
       "    <tr style=\"text-align: right;\">\n",
       "      <th></th>\n",
       "      <th>person_age</th>\n",
       "    </tr>\n",
       "  </thead>\n",
       "  <tbody>\n",
       "    <tr>\n",
       "      <th>0</th>\n",
       "      <td>22</td>\n",
       "    </tr>\n",
       "    <tr>\n",
       "      <th>1</th>\n",
       "      <td>21</td>\n",
       "    </tr>\n",
       "    <tr>\n",
       "      <th>2</th>\n",
       "      <td>25</td>\n",
       "    </tr>\n",
       "    <tr>\n",
       "      <th>3</th>\n",
       "      <td>23</td>\n",
       "    </tr>\n",
       "    <tr>\n",
       "      <th>4</th>\n",
       "      <td>24</td>\n",
       "    </tr>\n",
       "  </tbody>\n",
       "</table>\n",
       "</div>"
      ],
      "text/plain": [
       "   person_age\n",
       "0          22\n",
       "1          21\n",
       "2          25\n",
       "3          23\n",
       "4          24"
      ]
     },
     "execution_count": 11,
     "metadata": {},
     "output_type": "execute_result"
    }
   ],
   "source": [
    "#Filtrando pessoas com idade inferior a 45 anos\n",
    "\n",
    "idade = dataset_credit_risk[\"person_age\"][dataset_credit_risk[\"person_age\"] <= 45]\n",
    "idade = pd.DataFrame(idade)\n",
    "idade.head()"
   ]
  },
  {
   "cell_type": "code",
   "execution_count": 12,
   "metadata": {},
   "outputs": [
    {
     "data": {
      "text/plain": [
       "{'whiskers': [<matplotlib.lines.Line2D at 0x7f5dd09e1ff0>,\n",
       "  <matplotlib.lines.Line2D at 0x7f5dd09e2290>],\n",
       " 'caps': [<matplotlib.lines.Line2D at 0x7f5dd09e2530>,\n",
       "  <matplotlib.lines.Line2D at 0x7f5dd09e27d0>],\n",
       " 'boxes': [<matplotlib.lines.Line2D at 0x7f5dd09e1e70>],\n",
       " 'medians': [<matplotlib.lines.Line2D at 0x7f5dd09e2a70>],\n",
       " 'fliers': [<matplotlib.lines.Line2D at 0x7f5dd09e2d10>],\n",
       " 'means': []}"
      ]
     },
     "execution_count": 12,
     "metadata": {},
     "output_type": "execute_result"
    },
    {
     "data": {
      "image/png": "[encoded data removed]",
      "text/plain": [
       "<Figure size 640x480 with 1 Axes>"
      ]
     },
     "metadata": {},
     "output_type": "display_data"
    }
   ],
   "source": [
    "#Plotando a visualização\n",
    "\n",
    "fig = plt.boxplot(idade)\n",
    "fig"
   ]
  },
  {
   "cell_type": "markdown",
   "metadata": {},
   "source": [
    "* Após alterar a idade reduzindo a visualização para demonstrar o gráfico até idade 45 anos é possivel avaliar que a quantidade\n",
    "de outliers diminuiu de forma considerável"
   ]
  },
  {
   "cell_type": "code",
   "execution_count": 13,
   "metadata": {},
   "outputs": [
    {
     "data": {
      "text/html": [
       "<div>\n",
       "<style scoped>\n",
       "    .dataframe tbody tr th:only-of-type {\n",
       "        vertical-align: middle;\n",
       "    }\n",
       "\n",
       "    .dataframe tbody tr th {\n",
       "        vertical-align: top;\n",
       "    }\n",
       "\n",
       "    .dataframe thead th {\n",
       "        text-align: right;\n",
       "    }\n",
       "</style>\n",
       "<table border=\"1\" class=\"dataframe\">\n",
       "  <thead>\n",
       "    <tr style=\"text-align: right;\">\n",
       "      <th></th>\n",
       "      <th>loan_percent_income</th>\n",
       "    </tr>\n",
       "  </thead>\n",
       "  <tbody>\n",
       "    <tr>\n",
       "      <th>count</th>\n",
       "      <td>32581.00</td>\n",
       "    </tr>\n",
       "    <tr>\n",
       "      <th>mean</th>\n",
       "      <td>0.17</td>\n",
       "    </tr>\n",
       "    <tr>\n",
       "      <th>std</th>\n",
       "      <td>0.11</td>\n",
       "    </tr>\n",
       "    <tr>\n",
       "      <th>min</th>\n",
       "      <td>0.00</td>\n",
       "    </tr>\n",
       "    <tr>\n",
       "      <th>25%</th>\n",
       "      <td>0.09</td>\n",
       "    </tr>\n",
       "    <tr>\n",
       "      <th>50%</th>\n",
       "      <td>0.15</td>\n",
       "    </tr>\n",
       "    <tr>\n",
       "      <th>75%</th>\n",
       "      <td>0.23</td>\n",
       "    </tr>\n",
       "    <tr>\n",
       "      <th>max</th>\n",
       "      <td>0.83</td>\n",
       "    </tr>\n",
       "  </tbody>\n",
       "</table>\n",
       "</div>"
      ],
      "text/plain": [
       "       loan_percent_income\n",
       "count             32581.00\n",
       "mean                  0.17\n",
       "std                   0.11\n",
       "min                   0.00\n",
       "25%                   0.09\n",
       "50%                   0.15\n",
       "75%                   0.23\n",
       "max                   0.83"
      ]
     },
     "execution_count": 13,
     "metadata": {},
     "output_type": "execute_result"
    }
   ],
   "source": [
    "#Avaliando o percentual de endividamento por conta do empréstimo\n",
    "\n",
    "endividamento = dataset_credit_risk[\"loan_percent_income\"]\n",
    "endividamento = pd.DataFrame(endividamento)\n",
    "\n",
    "#Estatisticas descritivas\n",
    "\n",
    "endividamento.describe().round(2)\n"
   ]
  },
  {
   "cell_type": "code",
   "execution_count": 14,
   "metadata": {},
   "outputs": [
    {
     "data": {
      "image/png": "[encoded data removed]",
      "text/plain": [
       "<Figure size 640x480 with 1 Axes>"
      ]
     },
     "metadata": {},
     "output_type": "display_data"
    }
   ],
   "source": [
    "#Plotando a visualização\n",
    "\n",
    "fig = plt.boxplot(endividamento)"
   ]
  },
  {
   "cell_type": "code",
   "execution_count": 15,
   "metadata": {},
   "outputs": [
    {
     "data": {
      "image/png": "[encoded data removed]",
      "text/plain": [
       "<Figure size 640x480 with 1 Axes>"
      ]
     },
     "metadata": {},
     "output_type": "display_data"
    }
   ],
   "source": [
    "#Avaliando a distribuição com percentual de 40%\n",
    "\n",
    "endividamento = dataset_credit_risk[dataset_credit_risk[\"loan_percent_income\"] < 0.40 ]\n",
    "endividamento = endividamento[\"loan_percent_income\"]\n",
    "\n",
    "fig = plt.boxplot(endividamento)\n"
   ]
  },
  {
   "cell_type": "markdown",
   "metadata": {},
   "source": [
    "* É possivel avaliar que abaixo de 40% de renda comprometido não existe mais outliers, por definição do banco acredito que seja mais seguro oferta empréstimo para cliente não comprometa sua renda por completo."
   ]
  },
  {
   "cell_type": "markdown",
   "metadata": {},
   "source": [
    "# 2 - Definição da Políticas de crédito e Modelagem\n",
    "\n",
    "Objetivo é definir o perfil de pessoa onde irei aprovar um crédito ou não, Após análise exploratória os diretores e gerente do banco chegaram nas seguintes políticas:\n",
    "\n",
    "* Todos os requisitos precisam ser satisfeitos para possuirem a variavel target = 1\n",
    "\n",
    "Target = 1 (Cliente onde iremos aprovar crédito) e Target = 0 (Cliente onde não possui o perfil desejado pelo banco)\n",
    "\n",
    "1 - Limite de crédito:\n",
    "\n",
    "Minimo R$ 8.000,00 e Máximo R$ 12.200,00 (mais público entre Q2 - Q3)\n",
    "\n",
    "2 - Inadimplência passada\n",
    "\n",
    "Clientes que tem registro de inadimplência anterior não terá crédito aprovado\n",
    "\n",
    "se cb_person_default_on_file = Y então o crédito será negado, caso contrario o crédito ser\n",
    "\n",
    "3 - Emprego\n",
    "\n",
    "Possuir emprego fixo por 1 ano seguidos\n",
    "\n",
    "4 - Idades\n",
    "\n",
    "Possuir idade igual ou inferior a 45 anos\n",
    "\n",
    "5 - Percentual de renda\n",
    "\n",
    "Não será aprovado empréstimo que comprometa mais que 24% da renda anual\n",
    "\n"
   ]
  },
  {
   "cell_type": "code",
   "execution_count": 16,
   "metadata": {},
   "outputs": [],
   "source": [
    "# Remover registros duplicados\n",
    "\n",
    "dataset_credit_risk.drop_duplicates(keep=\"first\", inplace=True)"
   ]
  },
  {
   "cell_type": "code",
   "execution_count": 17,
   "metadata": {},
   "outputs": [],
   "source": [
    "# Aplicar as políticas do banco para obter a variavel target\n",
    "\n",
    "# A - Limite de crédito \n",
    "\n",
    "dataset_credit_risk[\"credit\"] = np.where((dataset_credit_risk[\"loan_amnt\"] >= 8000) & (dataset_credit_risk[\"loan_amnt\"] <= 12000), 1, 0)\n",
    "\n",
    "# B - inadimplencia anterior\n",
    "\n",
    "dataset_credit_risk[\"inadimplencia\"] = np.where((dataset_credit_risk[\"cb_person_default_on_file\"] == \"Y\"), 0, 1)\n",
    "\n",
    "# C - Emprego\n",
    "\n",
    "dataset_credit_risk[\"emprego\"] = np.where((dataset_credit_risk[\"person_emp_length\"] >= 1.0), 1, 0)\n",
    "\n",
    "# D - Idade\n",
    "\n",
    "dataset_credit_risk[\"idade\"] = np.where((dataset_credit_risk[\"person_age\"] <= 45), 1, 0)\n",
    "\n",
    "# E - Percentual de renda\n",
    "\n",
    "dataset_credit_risk[\"renda\"] = np.where((dataset_credit_risk[\"loan_percent_income\"] <= 0.24), 1, 0)"
   ]
  },
  {
   "cell_type": "code",
   "execution_count": 18,
   "metadata": {},
   "outputs": [
    {
     "data": {
      "text/plain": [
       "credit\n",
       "0    23044\n",
       "1     8851\n",
       "Name: count, dtype: int64"
      ]
     },
     "execution_count": 18,
     "metadata": {},
     "output_type": "execute_result"
    }
   ],
   "source": [
    "dataset_credit_risk[\"credit\"].value_counts()"
   ]
  },
  {
   "cell_type": "code",
   "execution_count": 19,
   "metadata": {},
   "outputs": [
    {
     "data": {
      "text/plain": [
       "inadimplencia\n",
       "1    26209\n",
       "0     5686\n",
       "Name: count, dtype: int64"
      ]
     },
     "execution_count": 19,
     "metadata": {},
     "output_type": "execute_result"
    }
   ],
   "source": [
    "dataset_credit_risk[\"inadimplencia\"].value_counts()"
   ]
  },
  {
   "cell_type": "code",
   "execution_count": 20,
   "metadata": {},
   "outputs": [
    {
     "data": {
      "text/plain": [
       "emprego\n",
       "1    26998\n",
       "0     4897\n",
       "Name: count, dtype: int64"
      ]
     },
     "execution_count": 20,
     "metadata": {},
     "output_type": "execute_result"
    }
   ],
   "source": [
    "dataset_credit_risk[\"emprego\"].value_counts()"
   ]
  },
  {
   "cell_type": "code",
   "execution_count": 21,
   "metadata": {},
   "outputs": [
    {
     "data": {
      "text/plain": [
       "idade\n",
       "1    31264\n",
       "0      631\n",
       "Name: count, dtype: int64"
      ]
     },
     "execution_count": 21,
     "metadata": {},
     "output_type": "execute_result"
    }
   ],
   "source": [
    "dataset_credit_risk[\"idade\"].value_counts()"
   ]
  },
  {
   "cell_type": "code",
   "execution_count": 22,
   "metadata": {},
   "outputs": [
    {
     "data": {
      "text/plain": [
       "renda\n",
       "1    25039\n",
       "0     6856\n",
       "Name: count, dtype: int64"
      ]
     },
     "execution_count": 22,
     "metadata": {},
     "output_type": "execute_result"
    }
   ],
   "source": [
    "dataset_credit_risk[\"renda\"].value_counts()"
   ]
  },
  {
   "cell_type": "code",
   "execution_count": 23,
   "metadata": {},
   "outputs": [
    {
     "data": {
      "text/html": [
       "<div>\n",
       "<style scoped>\n",
       "    .dataframe tbody tr th:only-of-type {\n",
       "        vertical-align: middle;\n",
       "    }\n",
       "\n",
       "    .dataframe tbody tr th {\n",
       "        vertical-align: top;\n",
       "    }\n",
       "\n",
       "    .dataframe thead th {\n",
       "        text-align: right;\n",
       "    }\n",
       "</style>\n",
       "<table border=\"1\" class=\"dataframe\">\n",
       "  <thead>\n",
       "    <tr style=\"text-align: right;\">\n",
       "      <th></th>\n",
       "      <th>person_age</th>\n",
       "      <th>person_income</th>\n",
       "      <th>person_home_ownership</th>\n",
       "      <th>person_emp_length</th>\n",
       "      <th>loan_intent</th>\n",
       "      <th>loan_amnt</th>\n",
       "      <th>loan_percent_income</th>\n",
       "      <th>cb_person_default_on_file</th>\n",
       "      <th>credit</th>\n",
       "      <th>inadimplencia</th>\n",
       "      <th>emprego</th>\n",
       "      <th>idade</th>\n",
       "      <th>renda</th>\n",
       "      <th>target</th>\n",
       "    </tr>\n",
       "  </thead>\n",
       "  <tbody>\n",
       "    <tr>\n",
       "      <th>0</th>\n",
       "      <td>22</td>\n",
       "      <td>59000</td>\n",
       "      <td>RENT</td>\n",
       "      <td>123.0</td>\n",
       "      <td>PERSONAL</td>\n",
       "      <td>35000</td>\n",
       "      <td>0.59</td>\n",
       "      <td>Y</td>\n",
       "      <td>0</td>\n",
       "      <td>0</td>\n",
       "      <td>1</td>\n",
       "      <td>1</td>\n",
       "      <td>0</td>\n",
       "      <td>0</td>\n",
       "    </tr>\n",
       "    <tr>\n",
       "      <th>1</th>\n",
       "      <td>21</td>\n",
       "      <td>9600</td>\n",
       "      <td>OWN</td>\n",
       "      <td>5.0</td>\n",
       "      <td>EDUCATION</td>\n",
       "      <td>1000</td>\n",
       "      <td>0.10</td>\n",
       "      <td>N</td>\n",
       "      <td>0</td>\n",
       "      <td>1</td>\n",
       "      <td>1</td>\n",
       "      <td>1</td>\n",
       "      <td>1</td>\n",
       "      <td>0</td>\n",
       "    </tr>\n",
       "    <tr>\n",
       "      <th>2</th>\n",
       "      <td>25</td>\n",
       "      <td>9600</td>\n",
       "      <td>MORTGAGE</td>\n",
       "      <td>1.0</td>\n",
       "      <td>MEDICAL</td>\n",
       "      <td>5500</td>\n",
       "      <td>0.57</td>\n",
       "      <td>N</td>\n",
       "      <td>0</td>\n",
       "      <td>1</td>\n",
       "      <td>1</td>\n",
       "      <td>1</td>\n",
       "      <td>0</td>\n",
       "      <td>0</td>\n",
       "    </tr>\n",
       "    <tr>\n",
       "      <th>3</th>\n",
       "      <td>23</td>\n",
       "      <td>65500</td>\n",
       "      <td>RENT</td>\n",
       "      <td>4.0</td>\n",
       "      <td>MEDICAL</td>\n",
       "      <td>35000</td>\n",
       "      <td>0.53</td>\n",
       "      <td>N</td>\n",
       "      <td>0</td>\n",
       "      <td>1</td>\n",
       "      <td>1</td>\n",
       "      <td>1</td>\n",
       "      <td>0</td>\n",
       "      <td>0</td>\n",
       "    </tr>\n",
       "    <tr>\n",
       "      <th>4</th>\n",
       "      <td>24</td>\n",
       "      <td>54400</td>\n",
       "      <td>RENT</td>\n",
       "      <td>8.0</td>\n",
       "      <td>MEDICAL</td>\n",
       "      <td>35000</td>\n",
       "      <td>0.55</td>\n",
       "      <td>Y</td>\n",
       "      <td>0</td>\n",
       "      <td>0</td>\n",
       "      <td>1</td>\n",
       "      <td>1</td>\n",
       "      <td>0</td>\n",
       "      <td>0</td>\n",
       "    </tr>\n",
       "  </tbody>\n",
       "</table>\n",
       "</div>"
      ],
      "text/plain": [
       "   person_age  person_income person_home_ownership  person_emp_length  \\\n",
       "0          22          59000                  RENT              123.0   \n",
       "1          21           9600                   OWN                5.0   \n",
       "2          25           9600              MORTGAGE                1.0   \n",
       "3          23          65500                  RENT                4.0   \n",
       "4          24          54400                  RENT                8.0   \n",
       "\n",
       "  loan_intent  loan_amnt  loan_percent_income cb_person_default_on_file  \\\n",
       "0    PERSONAL      35000                 0.59                         Y   \n",
       "1   EDUCATION       1000                 0.10                         N   \n",
       "2     MEDICAL       5500                 0.57                         N   \n",
       "3     MEDICAL      35000                 0.53                         N   \n",
       "4     MEDICAL      35000                 0.55                         Y   \n",
       "\n",
       "   credit  inadimplencia  emprego  idade  renda  target  \n",
       "0       0              0        1      1      0       0  \n",
       "1       0              1        1      1      1       0  \n",
       "2       0              1        1      1      0       0  \n",
       "3       0              1        1      1      0       0  \n",
       "4       0              0        1      1      0       0  "
      ]
     },
     "execution_count": 23,
     "metadata": {},
     "output_type": "execute_result"
    }
   ],
   "source": [
    "# Definição da variavel target\n",
    "\n",
    "dataset_credit_risk[\"target\"] = np.where((dataset_credit_risk[\"credit\"] == 1) & (dataset_credit_risk[\"emprego\"] == 1)\n",
    " & (dataset_credit_risk[\"inadimplencia\"] == 1) & (dataset_credit_risk[\"idade\"] == 1) & (dataset_credit_risk[\"renda\"] == 1), 1, 0)\n",
    "dataset_credit_risk.head()"
   ]
  },
  {
   "cell_type": "code",
   "execution_count": 24,
   "metadata": {},
   "outputs": [
    {
     "data": {
      "text/html": [
       "<div>\n",
       "<style scoped>\n",
       "    .dataframe tbody tr th:only-of-type {\n",
       "        vertical-align: middle;\n",
       "    }\n",
       "\n",
       "    .dataframe tbody tr th {\n",
       "        vertical-align: top;\n",
       "    }\n",
       "\n",
       "    .dataframe thead th {\n",
       "        text-align: right;\n",
       "    }\n",
       "</style>\n",
       "<table border=\"1\" class=\"dataframe\">\n",
       "  <thead>\n",
       "    <tr style=\"text-align: right;\">\n",
       "      <th></th>\n",
       "      <th>person_age</th>\n",
       "      <th>person_income</th>\n",
       "      <th>person_home_ownership</th>\n",
       "      <th>person_emp_length</th>\n",
       "      <th>loan_intent</th>\n",
       "      <th>loan_amnt</th>\n",
       "      <th>loan_percent_income</th>\n",
       "      <th>cb_person_default_on_file</th>\n",
       "      <th>credit</th>\n",
       "      <th>inadimplencia</th>\n",
       "      <th>emprego</th>\n",
       "      <th>idade</th>\n",
       "      <th>renda</th>\n",
       "      <th>target</th>\n",
       "    </tr>\n",
       "  </thead>\n",
       "  <tbody>\n",
       "    <tr>\n",
       "      <th>44</th>\n",
       "      <td>26</td>\n",
       "      <td>300000</td>\n",
       "      <td>OWN</td>\n",
       "      <td>9.0</td>\n",
       "      <td>HOMEIMPROVEMENT</td>\n",
       "      <td>10000</td>\n",
       "      <td>0.03</td>\n",
       "      <td>N</td>\n",
       "      <td>1</td>\n",
       "      <td>1</td>\n",
       "      <td>1</td>\n",
       "      <td>1</td>\n",
       "      <td>1</td>\n",
       "      <td>1</td>\n",
       "    </tr>\n",
       "    <tr>\n",
       "      <th>61</th>\n",
       "      <td>22</td>\n",
       "      <td>275000</td>\n",
       "      <td>OWN</td>\n",
       "      <td>6.0</td>\n",
       "      <td>VENTURE</td>\n",
       "      <td>12000</td>\n",
       "      <td>0.04</td>\n",
       "      <td>N</td>\n",
       "      <td>1</td>\n",
       "      <td>1</td>\n",
       "      <td>1</td>\n",
       "      <td>1</td>\n",
       "      <td>1</td>\n",
       "      <td>1</td>\n",
       "    </tr>\n",
       "    <tr>\n",
       "      <th>68</th>\n",
       "      <td>24</td>\n",
       "      <td>255000</td>\n",
       "      <td>MORTGAGE</td>\n",
       "      <td>9.0</td>\n",
       "      <td>EDUCATION</td>\n",
       "      <td>9600</td>\n",
       "      <td>0.04</td>\n",
       "      <td>N</td>\n",
       "      <td>1</td>\n",
       "      <td>1</td>\n",
       "      <td>1</td>\n",
       "      <td>1</td>\n",
       "      <td>1</td>\n",
       "      <td>1</td>\n",
       "    </tr>\n",
       "    <tr>\n",
       "      <th>141</th>\n",
       "      <td>26</td>\n",
       "      <td>215000</td>\n",
       "      <td>MORTGAGE</td>\n",
       "      <td>11.0</td>\n",
       "      <td>EDUCATION</td>\n",
       "      <td>12000</td>\n",
       "      <td>0.06</td>\n",
       "      <td>N</td>\n",
       "      <td>1</td>\n",
       "      <td>1</td>\n",
       "      <td>1</td>\n",
       "      <td>1</td>\n",
       "      <td>1</td>\n",
       "      <td>1</td>\n",
       "    </tr>\n",
       "    <tr>\n",
       "      <th>165</th>\n",
       "      <td>24</td>\n",
       "      <td>200000</td>\n",
       "      <td>RENT</td>\n",
       "      <td>8.0</td>\n",
       "      <td>MEDICAL</td>\n",
       "      <td>12000</td>\n",
       "      <td>0.06</td>\n",
       "      <td>N</td>\n",
       "      <td>1</td>\n",
       "      <td>1</td>\n",
       "      <td>1</td>\n",
       "      <td>1</td>\n",
       "      <td>1</td>\n",
       "      <td>1</td>\n",
       "    </tr>\n",
       "    <tr>\n",
       "      <th>...</th>\n",
       "      <td>...</td>\n",
       "      <td>...</td>\n",
       "      <td>...</td>\n",
       "      <td>...</td>\n",
       "      <td>...</td>\n",
       "      <td>...</td>\n",
       "      <td>...</td>\n",
       "      <td>...</td>\n",
       "      <td>...</td>\n",
       "      <td>...</td>\n",
       "      <td>...</td>\n",
       "      <td>...</td>\n",
       "      <td>...</td>\n",
       "      <td>...</td>\n",
       "    </tr>\n",
       "    <tr>\n",
       "      <th>32238</th>\n",
       "      <td>40</td>\n",
       "      <td>86500</td>\n",
       "      <td>MORTGAGE</td>\n",
       "      <td>2.0</td>\n",
       "      <td>DEBTCONSOLIDATION</td>\n",
       "      <td>10000</td>\n",
       "      <td>0.12</td>\n",
       "      <td>N</td>\n",
       "      <td>1</td>\n",
       "      <td>1</td>\n",
       "      <td>1</td>\n",
       "      <td>1</td>\n",
       "      <td>1</td>\n",
       "      <td>1</td>\n",
       "    </tr>\n",
       "    <tr>\n",
       "      <th>32245</th>\n",
       "      <td>36</td>\n",
       "      <td>93000</td>\n",
       "      <td>RENT</td>\n",
       "      <td>1.0</td>\n",
       "      <td>MEDICAL</td>\n",
       "      <td>12000</td>\n",
       "      <td>0.13</td>\n",
       "      <td>N</td>\n",
       "      <td>1</td>\n",
       "      <td>1</td>\n",
       "      <td>1</td>\n",
       "      <td>1</td>\n",
       "      <td>1</td>\n",
       "      <td>1</td>\n",
       "    </tr>\n",
       "    <tr>\n",
       "      <th>32251</th>\n",
       "      <td>36</td>\n",
       "      <td>61000</td>\n",
       "      <td>MORTGAGE</td>\n",
       "      <td>2.0</td>\n",
       "      <td>VENTURE</td>\n",
       "      <td>10000</td>\n",
       "      <td>0.16</td>\n",
       "      <td>N</td>\n",
       "      <td>1</td>\n",
       "      <td>1</td>\n",
       "      <td>1</td>\n",
       "      <td>1</td>\n",
       "      <td>1</td>\n",
       "      <td>1</td>\n",
       "    </tr>\n",
       "    <tr>\n",
       "      <th>32261</th>\n",
       "      <td>37</td>\n",
       "      <td>46680</td>\n",
       "      <td>MORTGAGE</td>\n",
       "      <td>6.0</td>\n",
       "      <td>VENTURE</td>\n",
       "      <td>8000</td>\n",
       "      <td>0.17</td>\n",
       "      <td>N</td>\n",
       "      <td>1</td>\n",
       "      <td>1</td>\n",
       "      <td>1</td>\n",
       "      <td>1</td>\n",
       "      <td>1</td>\n",
       "      <td>1</td>\n",
       "    </tr>\n",
       "    <tr>\n",
       "      <th>32287</th>\n",
       "      <td>36</td>\n",
       "      <td>44000</td>\n",
       "      <td>RENT</td>\n",
       "      <td>4.0</td>\n",
       "      <td>DEBTCONSOLIDATION</td>\n",
       "      <td>8000</td>\n",
       "      <td>0.18</td>\n",
       "      <td>N</td>\n",
       "      <td>1</td>\n",
       "      <td>1</td>\n",
       "      <td>1</td>\n",
       "      <td>1</td>\n",
       "      <td>1</td>\n",
       "      <td>1</td>\n",
       "    </tr>\n",
       "  </tbody>\n",
       "</table>\n",
       "<p>4923 rows × 14 columns</p>\n",
       "</div>"
      ],
      "text/plain": [
       "       person_age  person_income person_home_ownership  person_emp_length  \\\n",
       "44             26         300000                   OWN                9.0   \n",
       "61             22         275000                   OWN                6.0   \n",
       "68             24         255000              MORTGAGE                9.0   \n",
       "141            26         215000              MORTGAGE               11.0   \n",
       "165            24         200000                  RENT                8.0   \n",
       "...           ...            ...                   ...                ...   \n",
       "32238          40          86500              MORTGAGE                2.0   \n",
       "32245          36          93000                  RENT                1.0   \n",
       "32251          36          61000              MORTGAGE                2.0   \n",
       "32261          37          46680              MORTGAGE                6.0   \n",
       "32287          36          44000                  RENT                4.0   \n",
       "\n",
       "             loan_intent  loan_amnt  loan_percent_income  \\\n",
       "44       HOMEIMPROVEMENT      10000                 0.03   \n",
       "61               VENTURE      12000                 0.04   \n",
       "68             EDUCATION       9600                 0.04   \n",
       "141            EDUCATION      12000                 0.06   \n",
       "165              MEDICAL      12000                 0.06   \n",
       "...                  ...        ...                  ...   \n",
       "32238  DEBTCONSOLIDATION      10000                 0.12   \n",
       "32245            MEDICAL      12000                 0.13   \n",
       "32251            VENTURE      10000                 0.16   \n",
       "32261            VENTURE       8000                 0.17   \n",
       "32287  DEBTCONSOLIDATION       8000                 0.18   \n",
       "\n",
       "      cb_person_default_on_file  credit  inadimplencia  emprego  idade  renda  \\\n",
       "44                            N       1              1        1      1      1   \n",
       "61                            N       1              1        1      1      1   \n",
       "68                            N       1              1        1      1      1   \n",
       "141                           N       1              1        1      1      1   \n",
       "165                           N       1              1        1      1      1   \n",
       "...                         ...     ...            ...      ...    ...    ...   \n",
       "32238                         N       1              1        1      1      1   \n",
       "32245                         N       1              1        1      1      1   \n",
       "32251                         N       1              1        1      1      1   \n",
       "32261                         N       1              1        1      1      1   \n",
       "32287                         N       1              1        1      1      1   \n",
       "\n",
       "       target  \n",
       "44          1  \n",
       "61          1  \n",
       "68          1  \n",
       "141         1  \n",
       "165         1  \n",
       "...       ...  \n",
       "32238       1  \n",
       "32245       1  \n",
       "32251       1  \n",
       "32261       1  \n",
       "32287       1  \n",
       "\n",
       "[4923 rows x 14 columns]"
      ]
     },
     "execution_count": 24,
     "metadata": {},
     "output_type": "execute_result"
    }
   ],
   "source": [
    "# Verificando se a variavel target foi definida corretamente\n",
    "\n",
    "dataset_credit_risk[dataset_credit_risk[\"target\"] == 1]"
   ]
  },
  {
   "cell_type": "code",
   "execution_count": 25,
   "metadata": {},
   "outputs": [],
   "source": [
    "#Removendo as colunas auxiliares\n",
    "\n",
    "dataset_credit_risk = dataset_credit_risk[[\"person_age\", \"person_income\", \"person_home_ownership\", \"person_emp_length\",\n",
    "\"loan_intent\", \"loan_amnt\", \"loan_percent_income\", \"cb_person_default_on_file\",\"target\"]]"
   ]
  },
  {
   "cell_type": "code",
   "execution_count": 26,
   "metadata": {},
   "outputs": [
    {
     "name": "stdout",
     "output_type": "stream",
     "text": [
      "<class 'pandas.core.frame.DataFrame'>\n",
      "Index: 31895 entries, 0 to 32578\n",
      "Data columns (total 9 columns):\n",
      " #   Column                     Non-Null Count  Dtype\n",
      "---  ------                     --------------  -----\n",
      " 0   person_age                 31895 non-null  int64\n",
      " 1   person_income              31895 non-null  int64\n",
      " 2   person_home_ownership      31895 non-null  int64\n",
      " 3   person_emp_length          31895 non-null  int64\n",
      " 4   loan_intent                31895 non-null  int64\n",
      " 5   loan_amnt                  31895 non-null  int64\n",
      " 6   loan_percent_income        31895 non-null  int64\n",
      " 7   cb_person_default_on_file  31895 non-null  int64\n",
      " 8   target                     31895 non-null  int64\n",
      "dtypes: int64(9)\n",
      "memory usage: 2.4 MB\n"
     ]
    }
   ],
   "source": [
    "# Converter campos strings para numéricos para que o algoritmo possa calcular\n",
    "\n",
    "for label in [\"person_age\", \"person_income\", \"person_home_ownership\", \"person_emp_length\",\n",
    "\"loan_intent\", \"loan_amnt\", \"loan_percent_income\", \"cb_person_default_on_file\",\"target\"]:\n",
    "    dataset_credit_risk[label] = LabelEncoder().fit_transform(dataset_credit_risk[label])\n",
    "\n",
    "dataset_credit_risk.info()"
   ]
  },
  {
   "cell_type": "code",
   "execution_count": 27,
   "metadata": {},
   "outputs": [
    {
     "data": {
      "text/html": [
       "<div>\n",
       "<style scoped>\n",
       "    .dataframe tbody tr th:only-of-type {\n",
       "        vertical-align: middle;\n",
       "    }\n",
       "\n",
       "    .dataframe tbody tr th {\n",
       "        vertical-align: top;\n",
       "    }\n",
       "\n",
       "    .dataframe thead th {\n",
       "        text-align: right;\n",
       "    }\n",
       "</style>\n",
       "<table border=\"1\" class=\"dataframe\">\n",
       "  <thead>\n",
       "    <tr style=\"text-align: right;\">\n",
       "      <th></th>\n",
       "      <th>person_age</th>\n",
       "      <th>person_income</th>\n",
       "      <th>person_home_ownership</th>\n",
       "      <th>person_emp_length</th>\n",
       "      <th>loan_intent</th>\n",
       "      <th>loan_amnt</th>\n",
       "      <th>loan_percent_income</th>\n",
       "      <th>cb_person_default_on_file</th>\n",
       "    </tr>\n",
       "  </thead>\n",
       "  <tbody>\n",
       "    <tr>\n",
       "      <th>0</th>\n",
       "      <td>2</td>\n",
       "      <td>2238</td>\n",
       "      <td>3</td>\n",
       "      <td>35</td>\n",
       "      <td>4</td>\n",
       "      <td>752</td>\n",
       "      <td>59</td>\n",
       "      <td>1</td>\n",
       "    </tr>\n",
       "    <tr>\n",
       "      <th>1</th>\n",
       "      <td>1</td>\n",
       "      <td>25</td>\n",
       "      <td>2</td>\n",
       "      <td>5</td>\n",
       "      <td>1</td>\n",
       "      <td>7</td>\n",
       "      <td>10</td>\n",
       "      <td>0</td>\n",
       "    </tr>\n",
       "    <tr>\n",
       "      <th>2</th>\n",
       "      <td>5</td>\n",
       "      <td>25</td>\n",
       "      <td>0</td>\n",
       "      <td>1</td>\n",
       "      <td>3</td>\n",
       "      <td>176</td>\n",
       "      <td>57</td>\n",
       "      <td>0</td>\n",
       "    </tr>\n",
       "    <tr>\n",
       "      <th>3</th>\n",
       "      <td>3</td>\n",
       "      <td>2539</td>\n",
       "      <td>3</td>\n",
       "      <td>4</td>\n",
       "      <td>3</td>\n",
       "      <td>752</td>\n",
       "      <td>53</td>\n",
       "      <td>0</td>\n",
       "    </tr>\n",
       "    <tr>\n",
       "      <th>4</th>\n",
       "      <td>4</td>\n",
       "      <td>1980</td>\n",
       "      <td>3</td>\n",
       "      <td>8</td>\n",
       "      <td>3</td>\n",
       "      <td>752</td>\n",
       "      <td>55</td>\n",
       "      <td>1</td>\n",
       "    </tr>\n",
       "  </tbody>\n",
       "</table>\n",
       "</div>"
      ],
      "text/plain": [
       "   person_age  person_income  person_home_ownership  person_emp_length  \\\n",
       "0           2           2238                      3                 35   \n",
       "1           1             25                      2                  5   \n",
       "2           5             25                      0                  1   \n",
       "3           3           2539                      3                  4   \n",
       "4           4           1980                      3                  8   \n",
       "\n",
       "   loan_intent  loan_amnt  loan_percent_income  cb_person_default_on_file  \n",
       "0            4        752                   59                          1  \n",
       "1            1          7                   10                          0  \n",
       "2            3        176                   57                          0  \n",
       "3            3        752                   53                          0  \n",
       "4            3        752                   55                          1  "
      ]
     },
     "execution_count": 27,
     "metadata": {},
     "output_type": "execute_result"
    }
   ],
   "source": [
    "# Separando as variaveis X (x = caracteristicas)\n",
    "\n",
    "x = dataset_credit_risk[[\"person_age\", \"person_income\", \"person_home_ownership\", \"person_emp_length\",\n",
    "\"loan_intent\", \"loan_amnt\", \"loan_percent_income\", \"cb_person_default_on_file\"]]\n",
    "x.head()"
   ]
  },
  {
   "cell_type": "code",
   "execution_count": 28,
   "metadata": {},
   "outputs": [
    {
     "data": {
      "image/png": "[encoded data removed]",
      "text/plain": [
       "<Figure size 1000x1000 with 2 Axes>"
      ]
     },
     "metadata": {},
     "output_type": "display_data"
    }
   ],
   "source": [
    "# Calculando as correlacoes\n",
    "\n",
    "correlacoes = x.corr()\n",
    "\n",
    "# plotando a correlacao\n",
    "\n",
    "plt.figure(figsize=(10,10))\n",
    "sns.heatmap(data=correlacoes, annot=True)\n",
    "plt.show()"
   ]
  },
  {
   "cell_type": "code",
   "execution_count": 29,
   "metadata": {},
   "outputs": [
    {
     "data": {
      "text/plain": [
       "list"
      ]
     },
     "execution_count": 29,
     "metadata": {},
     "output_type": "execute_result"
    }
   ],
   "source": [
    "# Separando as variaveis Y (y = variavel target)\n",
    "\n",
    "# converter a variavel target um array e criar a coluna Y\n",
    " \n",
    "y = dataset_credit_risk[\"target\"].values.tolist()\n",
    "type(y)"
   ]
  },
  {
   "cell_type": "code",
   "execution_count": 30,
   "metadata": {},
   "outputs": [],
   "source": [
    "# Separando o dataset em treino e teste\n",
    "\n",
    "# Vamos seperar em 30%, ou seja 70% sera uma usada para testar\n",
    "\n",
    "x_train, x_test, y_train, y_test = train_test_split(x, y, test_size=0.3)"
   ]
  },
  {
   "cell_type": "markdown",
   "metadata": {},
   "source": [
    "# 4 - Construindo Modelos de Machile Learning\n",
    "\n",
    "* Será criado um modelo de classificação e random forest e comparar os seus desempenhos."
   ]
  },
  {
   "cell_type": "code",
   "execution_count": 31,
   "metadata": {},
   "outputs": [],
   "source": [
    "# Criando os Modelos de ML\n",
    "\n",
    "model_RF = RandomForestClassifier(n_estimators=1000) #1000 arvores de decisao\n",
    "\n",
    "model_XCB = XGBClassifier(n_estimators=1000, learning_rate=0.01)"
   ]
  },
  {
   "cell_type": "code",
   "execution_count": 32,
   "metadata": {},
   "outputs": [
    {
     "name": "stdout",
     "output_type": "stream",
     "text": [
      "RandomForestClassifier(n_estimators=1000)\n",
      "XGBClassifier(base_score=None, booster=None, callbacks=None,\n",
      "              colsample_bylevel=None, colsample_bynode=None,\n",
      "              colsample_bytree=None, device=None, early_stopping_rounds=None,\n",
      "              enable_categorical=False, eval_metric=None, feature_types=None,\n",
      "              gamma=None, grow_policy=None, importance_type=None,\n",
      "              interaction_constraints=None, learning_rate=0.01, max_bin=None,\n",
      "              max_cat_threshold=None, max_cat_to_onehot=None,\n",
      "              max_delta_step=None, max_depth=None, max_leaves=None,\n",
      "              min_child_weight=None, missing=nan, monotone_constraints=None,\n",
      "              multi_strategy=None, n_estimators=1000, n_jobs=None,\n",
      "              num_parallel_tree=None, random_state=None, ...)\n"
     ]
    }
   ],
   "source": [
    "# Treinando os modelos com os dados\n",
    "\n",
    "model_RF = model_RF.fit(x_train, y_train)\n",
    "print(model_RF)\n",
    "\n",
    "model_XCB = model_XCB.fit(x_train, y_train)\n",
    "print(model_XCB)"
   ]
  },
  {
   "cell_type": "markdown",
   "metadata": {},
   "source": [
    "# 5 - Metrificando os Modelos de ML\n"
   ]
  },
  {
   "cell_type": "code",
   "execution_count": 33,
   "metadata": {},
   "outputs": [
    {
     "name": "stdout",
     "output_type": "stream",
     "text": [
      "Acurácia de Random Forest: 99.9895495872\n",
      "Acurácia de XGBoost: 99.9895495872\n"
     ]
    }
   ],
   "source": [
    "# avaliando a acurácia dos Modelos de ML\n",
    "\n",
    "accuracy_score_RF = model_RF.score(x_test, y_test)\n",
    "accuracy_score_RF = float(accuracy_score_RF)\n",
    "print(\"Acurácia de Random Forest:\", round(accuracy_score_RF * 100,10))\n",
    "\n",
    "accuracy_score_XCB = model_XCB.score(x_test, y_test)\n",
    "accuracy_score_XCB = float(accuracy_score_XCB)\n",
    "print(\"Acurácia de XGBoost:\", round(accuracy_score_RF * 100,10))"
   ]
  },
  {
   "cell_type": "code",
   "execution_count": 55,
   "metadata": {},
   "outputs": [
    {
     "name": "stdout",
     "output_type": "stream",
     "text": [
      "[[8109    0]\n",
      " [   1 1459]]\n"
     ]
    }
   ],
   "source": [
    "# Avaliando a confusion Matrix e o classification Report\n",
    "\n",
    "#RandomForest\n",
    "mod_RF = model_RF.predict(x_test)\n",
    "cm_RF = confusion_matrix(mod_RF, y_test)\n",
    "print(cm_RF)\n",
    "cr_RM = classification_report(mod_RF, y_test, output_dict=True)"
   ]
  },
  {
   "cell_type": "code",
   "execution_count": 56,
   "metadata": {},
   "outputs": [
    {
     "data": {
      "text/html": [
       "<div>\n",
       "<style scoped>\n",
       "    .dataframe tbody tr th:only-of-type {\n",
       "        vertical-align: middle;\n",
       "    }\n",
       "\n",
       "    .dataframe tbody tr th {\n",
       "        vertical-align: top;\n",
       "    }\n",
       "\n",
       "    .dataframe thead th {\n",
       "        text-align: right;\n",
       "    }\n",
       "</style>\n",
       "<table border=\"1\" class=\"dataframe\">\n",
       "  <thead>\n",
       "    <tr style=\"text-align: right;\">\n",
       "      <th></th>\n",
       "      <th>0</th>\n",
       "      <th>1</th>\n",
       "      <th>accuracy</th>\n",
       "    </tr>\n",
       "  </thead>\n",
       "  <tbody>\n",
       "    <tr>\n",
       "      <th>precision</th>\n",
       "      <td>0.999877</td>\n",
       "      <td>1.000000</td>\n",
       "      <td>0.999895</td>\n",
       "    </tr>\n",
       "    <tr>\n",
       "      <th>recall</th>\n",
       "      <td>1.000000</td>\n",
       "      <td>0.999315</td>\n",
       "      <td>0.999895</td>\n",
       "    </tr>\n",
       "    <tr>\n",
       "      <th>f1-score</th>\n",
       "      <td>0.999938</td>\n",
       "      <td>0.999657</td>\n",
       "      <td>0.999895</td>\n",
       "    </tr>\n",
       "    <tr>\n",
       "      <th>support</th>\n",
       "      <td>8109.000000</td>\n",
       "      <td>1460.000000</td>\n",
       "      <td>0.999895</td>\n",
       "    </tr>\n",
       "  </tbody>\n",
       "</table>\n",
       "</div>"
      ],
      "text/plain": [
       "                     0            1  accuracy\n",
       "precision     0.999877     1.000000  0.999895\n",
       "recall        1.000000     0.999315  0.999895\n",
       "f1-score      0.999938     0.999657  0.999895\n",
       "support    8109.000000  1460.000000  0.999895"
      ]
     },
     "execution_count": 56,
     "metadata": {},
     "output_type": "execute_result"
    }
   ],
   "source": [
    "# Convertendo dict para dataframe\n",
    "df_result_RF = pd.DataFrame(cr_RM) \n",
    "df_result_RF = df_result_RF.drop(columns=['macro avg', 'weighted avg'])\n",
    "df_result_RF"
   ]
  },
  {
   "cell_type": "code",
   "execution_count": 51,
   "metadata": {},
   "outputs": [
    {
     "name": "stdout",
     "output_type": "stream",
     "text": [
      "[[8102    1]\n",
      " [   8 1458]]\n"
     ]
    }
   ],
   "source": [
    "# Avaliando a confusion Matrix e o classification Report\n",
    "\n",
    "#XGBoost\n",
    "mod_XCB = model_XCB.predict(x_test)\n",
    "cm_XCB = confusion_matrix(mod_XCB, y_test)\n",
    "print(cm_XCB)\n",
    "cr_XCB = classification_report(mod_XCB, y_test, output_dict=True)\n"
   ]
  },
  {
   "cell_type": "code",
   "execution_count": 52,
   "metadata": {},
   "outputs": [
    {
     "data": {
      "text/html": [
       "<div>\n",
       "<style scoped>\n",
       "    .dataframe tbody tr th:only-of-type {\n",
       "        vertical-align: middle;\n",
       "    }\n",
       "\n",
       "    .dataframe tbody tr th {\n",
       "        vertical-align: top;\n",
       "    }\n",
       "\n",
       "    .dataframe thead th {\n",
       "        text-align: right;\n",
       "    }\n",
       "</style>\n",
       "<table border=\"1\" class=\"dataframe\">\n",
       "  <thead>\n",
       "    <tr style=\"text-align: right;\">\n",
       "      <th></th>\n",
       "      <th>0</th>\n",
       "      <th>1</th>\n",
       "      <th>accuracy</th>\n",
       "    </tr>\n",
       "  </thead>\n",
       "  <tbody>\n",
       "    <tr>\n",
       "      <th>precision</th>\n",
       "      <td>0.999014</td>\n",
       "      <td>0.999315</td>\n",
       "      <td>0.999059</td>\n",
       "    </tr>\n",
       "    <tr>\n",
       "      <th>recall</th>\n",
       "      <td>0.999877</td>\n",
       "      <td>0.994543</td>\n",
       "      <td>0.999059</td>\n",
       "    </tr>\n",
       "    <tr>\n",
       "      <th>f1-score</th>\n",
       "      <td>0.999445</td>\n",
       "      <td>0.996923</td>\n",
       "      <td>0.999059</td>\n",
       "    </tr>\n",
       "    <tr>\n",
       "      <th>support</th>\n",
       "      <td>8103.000000</td>\n",
       "      <td>1466.000000</td>\n",
       "      <td>0.999059</td>\n",
       "    </tr>\n",
       "  </tbody>\n",
       "</table>\n",
       "</div>"
      ],
      "text/plain": [
       "                     0            1  accuracy\n",
       "precision     0.999014     0.999315  0.999059\n",
       "recall        0.999877     0.994543  0.999059\n",
       "f1-score      0.999445     0.996923  0.999059\n",
       "support    8103.000000  1466.000000  0.999059"
      ]
     },
     "execution_count": 52,
     "metadata": {},
     "output_type": "execute_result"
    }
   ],
   "source": [
    "# Convertendo dict para dataframe\n",
    "df_result_XCB = pd.DataFrame(cr_XCB) \n",
    "df_result_XCB = df_result_XCB.drop(columns=['macro avg', 'weighted avg'])\n",
    "df_result_XCB"
   ]
  },
  {
   "cell_type": "markdown",
   "metadata": {},
   "source": [
    "# 6 - Conclusão\n",
    "\n",
    "Após uma densa análise do dataset pude vivenciar uma experiência que simula atividade de um cientista de dados, estou buscando vivenciar esses desafios para que eu possa estar compatível com os requisitos de uma posição de cientista de dados, executar este estudo para mim foi importante pois puder passar por diversas etapas chegando até a etapa mais gloriosa, sendo o momento de teste e aferir as performance dos modelos que selecionei, no meu exemplo ambos os modelos tiveram resultados semelhantes, caso contrario o modelo a ser selecionado para implantar em produção com certeza é o que apresenta as melhores métricas, é importante que destacar que avaliar diversos modelos é importante para que se obtenha a melhor performance."
   ]
  }
 ],
 "metadata": {
  "kernelspec": {
   "display_name": "Python 3",
   "language": "python",
   "name": "python3"
  },
  "language_info": {
   "codemirror_mode": {
    "name": "ipython",
    "version": 3
   },
   "file_extension": ".py",
   "mimetype": "text/x-python",
   "name": "python",
   "nbconvert_exporter": "python",
   "pygments_lexer": "ipython3",
   "version": "3.10.12"
  }
 },
 "nbformat": 4,
 "nbformat_minor": 2
}
