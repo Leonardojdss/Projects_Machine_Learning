{
 "cells": [
  {
   "cell_type": "markdown",
   "metadata": {},
   "source": [
    "# 0 - PROJETO imobiliária\n",
    "\n",
    "Precificação de imoveis residenciais com modelos preditivos, este projeto tem como objetivo utilizar uma base de estudo de imoveis e valores fictícios como treinamente e teste, assim então treinar três modelos de ML e validar o desempenho de ambos os modelo.\n",
    "\n",
    "* Observação, os outputs destacados em vermelho são mensagens do spark de alarme ou processamento e não um erro.  "
   ]
  },
  {
   "cell_type": "markdown",
   "metadata": {},
   "source": [
    "# 1 - INSTANCIANDO O SPARK e LIBs"
   ]
  },
  {
   "cell_type": "code",
   "execution_count": 1,
   "metadata": {},
   "outputs": [],
   "source": [
    "# Criar uma variavel de ambiente apontando para a instalacao do spark e java\n",
    "\n",
    "import os \n",
    "\n",
    "os.environ[\"SPARK_HOME\"] = \"/home/leonardojdss/spark/spark-3.5.1-bin-hadoop3\"\n",
    "os.environ[\"JAVA_HOME\"] = \"/usr/lib/jvm/java-8-openjdk-amd64\""
   ]
  },
  {
   "cell_type": "code",
   "execution_count": 2,
   "metadata": {},
   "outputs": [
    {
     "name": "stderr",
     "output_type": "stream",
     "text": [
      "your 131072x1 screen size is bogus. expect trouble\n",
      "24/08/21 21:30:28 WARN Utils: Your hostname, DESKTOP-SGB43IG resolves to a loopback address: 127.0.1.1; using 172.24.73.240 instead (on interface eth0)\n",
      "24/08/21 21:30:28 WARN Utils: Set SPARK_LOCAL_IP if you need to bind to another address\n",
      "Setting default log level to \"WARN\".\n",
      "To adjust logging level use sc.setLogLevel(newLevel). For SparkR, use setLogLevel(newLevel).\n",
      "24/08/21 21:30:29 WARN NativeCodeLoader: Unable to load native-hadoop library for your platform... using builtin-java classes where applicable\n"
     ]
    },
    {
     "data": {
      "text/html": [
       "\n",
       "            <div>\n",
       "                <p><b>SparkSession - in-memory</b></p>\n",
       "                \n",
       "        <div>\n",
       "            <p><b>SparkContext</b></p>\n",
       "\n",
       "            <p><a href=\"http://172.24.73.240:4040\">Spark UI</a></p>\n",
       "\n",
       "            <dl>\n",
       "              <dt>Version</dt>\n",
       "                <dd><code>v3.5.1</code></dd>\n",
       "              <dt>Master</dt>\n",
       "                <dd><code>local[*]</code></dd>\n",
       "              <dt>AppName</dt>\n",
       "                <dd><code>pyspark-shell</code></dd>\n",
       "            </dl>\n",
       "        </div>\n",
       "        \n",
       "            </div>\n",
       "        "
      ],
      "text/plain": [
       "<pyspark.sql.session.SparkSession at 0x7f02163b4520>"
      ]
     },
     "execution_count": 2,
     "metadata": {},
     "output_type": "execute_result"
    }
   ],
   "source": [
    "from pyspark.sql import SparkSession\n",
    "from pyspark.sql.types import IntegerType, DoubleType\n",
    "from pyspark.sql import functions as f\n",
    "spark = SparkSession.builder.master('local[*]').getOrCreate()\n",
    "spark"
   ]
  },
  {
   "cell_type": "markdown",
   "metadata": {},
   "source": [
    "# 2 - Manipulação dos dados & Exploração"
   ]
  },
  {
   "cell_type": "markdown",
   "metadata": {},
   "source": [
    "### 2.1 Carga de dado"
   ]
  },
  {
   "cell_type": "code",
   "execution_count": 3,
   "metadata": {},
   "outputs": [
    {
     "name": "stderr",
     "output_type": "stream",
     "text": [
      "                                                                                \r"
     ]
    }
   ],
   "source": [
    "# Leitura do arquivo Json Imoveis\n",
    "\n",
    "# Leitura da fonte de dados\n",
    "path_imoveis = \"/home/leonardojdss/Documentos/trilha_spark_apache_python/02_Spark_ML_regressao/Fonte_Dados/imoveis.json\"\n",
    "dados_imoveis_original = spark.read.json(path_imoveis)"
   ]
  },
  {
   "cell_type": "code",
   "execution_count": 4,
   "metadata": {},
   "outputs": [
    {
     "data": {
      "text/plain": [
       "DataFrame[ident: struct<customerID:string,source:string>, listing: struct<address:struct<city:string,location:struct<lat:double,lon:double>,neighborhood:string,zone:string>,features:struct<bathrooms:bigint,bedrooms:bigint,floors:bigint,parkingSpaces:bigint,suites:bigint,totalAreas:string,unitFloor:bigint,unitsOnTheFloor:bigint,usableAreas:string>,prices:struct<price:string,tax:struct<condo:string,iptu:string>>,types:struct<unit:string,usage:string>>]"
      ]
     },
     "execution_count": 4,
     "metadata": {},
     "output_type": "execute_result"
    }
   ],
   "source": [
    "# Analisando o que se tornou o objeto dados\n",
    "\n",
    "dados_imoveis_original"
   ]
  },
  {
   "cell_type": "code",
   "execution_count": 5,
   "metadata": {},
   "outputs": [
    {
     "name": "stderr",
     "output_type": "stream",
     "text": [
      "[Stage 1:>                                                          (0 + 1) / 1]\r"
     ]
    },
    {
     "name": "stdout",
     "output_type": "stream",
     "text": [
      "+--------------------------+-----------------------------------------------------------------------------------------------------------------------------------------------------------------+\n",
      "|ident                     |listing                                                                                                                                                          |\n",
      "+--------------------------+-----------------------------------------------------------------------------------------------------------------------------------------------------------------+\n",
      "|{775564-BOJSMVON, Website}|{{Rio de Janeiro, {-22.909429, -43.413557}, Taquara, Zona Oeste}, {0, 0, 0, 1, 0, 62, 0, 0, 62}, {45000, {150, 0}}, {Outros, Residencial}}                       |\n",
      "|{660895-AUENKNYY, Website}|{{Rio de Janeiro, {-22.869698, -43.509141}, Santíssimo, Zona Oeste}, {1, 2, 0, 1, 0, 0, 0, 0, 44}, {45000, {120, 0}}, {Apartamento, Residencial}}                |\n",
      "|{751522-JESYFEQL, Website}|{{Rio de Janeiro, {-22.986927, -43.646786}, Pedra de Guaratiba, Zona Oeste}, {0, 0, 0, 0, 0, 132, 0, 0, 132}, {50000, {100, 0}}, {Outros, Residencial}}          |\n",
      "|{714052-GAAEWYKS, Website}|{{Rio de Janeiro, {-22.881977, -43.330818}, Cascadura, Zona Norte}, {1, 0, 0, 0, 0, 32, 3, 0, 32}, {45000, {468, 346}}, {Outros, Comercial}}                     |\n",
      "|{568886-ZIBFOMCC, Website}|{{Rio de Janeiro, {-23.027653, -43.480742}, Recreio dos Bandeirantes, Zona Oeste}, {2, 3, 3, 1, 1, 0, 2, 4, 60}, {50000, {400, 120}}, {Apartamento, Residencial}}|\n",
      "|{526755-OBLTYTEN, Website}|{{Rio de Janeiro, {-22.966059, -43.571183}, Guaratiba, Zona Oeste}, {0, 0, 0, 0, 0, 200, 0, 0, 200}, {50000, {0, NULL}}, {Outros, Residencial}}                  |\n",
      "|{593569-CJLMNFGW, Website}|{{Rio de Janeiro, {-22.939028, -43.3453}, Freguesia (Jacarepaguá), Zona Oeste}, {1, 0, 0, 0, 0, 25, 2, 0, 25}, {50000, {801, 211}}, {Outros, Comercial}}         |\n",
      "|{989181-RYJOLMCU, Website}|{{Rio de Janeiro, {-22.841509, -43.278855}, Penha, Zona Norte}, {1, 0, 0, 0, 0, 23, 0, 0, 23}, {50000, {230, NULL}}, {Outros, Comercial}}                        |\n",
      "|{145372-EZKAKSWM, Website}|{{Rio de Janeiro, {-22.835609, -43.392253}, Ricardo de Albuquerque, Zona Norte}, {0, 0, 0, 0, 0, 60, 0, 0, 60}, {45000, {NULL, NULL}}, {Outros, Comercial}}      |\n",
      "|{792086-NWNQTDYL, Website}|{{Rio de Janeiro, {-22.885306, -43.253044}, Jacarezinho, Zona Norte}, {1, 1, 0, 1, 0, 35, 0, 0, 33}, {45336, {0, 0}}, {Apartamento, Residencial}}                |\n",
      "|{339622-MNZGLKTZ, Website}|{{Rio de Janeiro, {-22.990425, -43.635505}, Guaratiba, Zona Oeste}, {0, 0, 0, 0, 0, 120, 0, 0, 120}, {45000, {0, 0}}, {Outros, Residencial}}                     |\n",
      "|{952338-SVULQMXR, Website}|{{Rio de Janeiro, {-22.877982, -43.651456}, Santa Cruz, Zona Oeste}, {0, 0, 0, 0, 0, 468, 0, 0, 468}, {45000, {0, 0}}, {Outros, Residencial}}                    |\n",
      "|{570439-LDICQOXZ, Website}|{{Rio de Janeiro, {-22.998183, -43.504337}, Vargem Grande, Zona Oeste}, {0, 0, 0, 0, 0, 180, 1, 0, 180}, {50000, {0, 0}}, {Outros, Residencial}}                 |\n",
      "|{684023-YTBNKLLO, Website}|{{Rio de Janeiro, {-22.843794, -43.512464}, Bangu, Zona Oeste}, {0, 0, 0, 0, 0, 128, 0, 0, 128}, {50000, {0, 0}}, {Outros, Residencial}}                         |\n",
      "|{629412-VKUMMAVR, Website}|{{Rio de Janeiro, {-22.91077, -43.37182}, Tanque, Zona Oeste}, {0, 0, 0, 0, 0, 82, 1, 0, 82}, {45000, {300, 0}}, {Outros, Residencial}}                          |\n",
      "|{041590-HMJIRKDX, Website}|{{Rio de Janeiro, {-22.910099, -43.17797}, Centro, Zona Central}, {0, 0, 0, 1, 0, 5, 0, 0, 5}, {45000, {0, 0}}, {Outros, Comercial}}                             |\n",
      "|{870098-XTRYJAGY, Website}|{{Rio de Janeiro, {-22.867219, -43.335067}, Madureira, Zona Norte}, {1, 0, 0, 0, 0, 350, 0, 0, 350}, {50000, {0, 1600}}, {Outros, Comercial}}                    |\n",
      "|{951104-MACIAPIS, Website}|{{Rio de Janeiro, {-22.897014, -43.201575}, Santo Cristo, Zona Central}, {2, 3, 20, 1, 1, 0, 20, 19, 70}, {45000, {350, 120}}, {Apartamento, Residencial}}       |\n",
      "|{375665-GHMFEZXX, Website}|{{Rio de Janeiro, {-22.902419, -43.20952}, Santo Cristo, Zona Central}, {2, 3, 20, 1, 1, 0, 20, 19, 70}, {50000, {350, 120}}, {Apartamento, Residencial}}        |\n",
      "|{441711-LRTWHRUA, Website}|{{Rio de Janeiro, {-22.989852, -43.623097}, Pedra de Guaratiba, Zona Oeste}, {1, 1, 0, 0, 0, 45, 2, 0, 37}, {50000, {0, 0}}, {Apartamento, Residencial}}         |\n",
      "+--------------------------+-----------------------------------------------------------------------------------------------------------------------------------------------------------------+\n",
      "only showing top 20 rows\n",
      "\n"
     ]
    },
    {
     "name": "stderr",
     "output_type": "stream",
     "text": [
      "                                                                                \r"
     ]
    }
   ],
   "source": [
    "# Analisando os dados de imoveis\n",
    "\n",
    "dados_imoveis_original.show(truncate=False)\n",
    "\n",
    "# Observe que por ser um json a forma que o spark configura o arquivo é colocando em colunas, estão em colunas nomeadas como ident e listing \n",
    "# porque é o cojunto mais superior da identação do json"
   ]
  },
  {
   "cell_type": "code",
   "execution_count": 6,
   "metadata": {},
   "outputs": [
    {
     "name": "stdout",
     "output_type": "stream",
     "text": [
      "Iremos trabalhar com: 73615 Linhas\n"
     ]
    }
   ],
   "source": [
    "# Contar a quantidade de dados que iremos trabalhar\n",
    "\n",
    "print(\"Iremos trabalhar com:\",dados_imoveis_original.count(), \"Linhas\")"
   ]
  },
  {
   "cell_type": "markdown",
   "metadata": {},
   "source": [
    "### 2.2 Seleção de features\n",
    "\n",
    "* O objetivo será analisar o DataSet e extrair quais colunas (features) devem permanecer para que eu possar construir um modelo de regressão que seja eficiente com os meus dados, um ponto que precisa ficar claro nessa etapa de seleção é justamento a seleção da colunas que realmente fazem sentido serem estudadas pelo modelo, porque não necessariamente mais colunas significa que meu modelo vai ser melhor, existem colunas que na verdade podem até criar viés, por isso é importante selecionar as coluna que fazem sentido para as regras de negócios."
   ]
  },
  {
   "cell_type": "code",
   "execution_count": 7,
   "metadata": {},
   "outputs": [
    {
     "name": "stdout",
     "output_type": "stream",
     "text": [
      "root\n",
      " |-- ident: struct (nullable = true)\n",
      " |    |-- customerID: string (nullable = true)\n",
      " |    |-- source: string (nullable = true)\n",
      " |-- listing: struct (nullable = true)\n",
      " |    |-- address: struct (nullable = true)\n",
      " |    |    |-- city: string (nullable = true)\n",
      " |    |    |-- location: struct (nullable = true)\n",
      " |    |    |    |-- lat: double (nullable = true)\n",
      " |    |    |    |-- lon: double (nullable = true)\n",
      " |    |    |-- neighborhood: string (nullable = true)\n",
      " |    |    |-- zone: string (nullable = true)\n",
      " |    |-- features: struct (nullable = true)\n",
      " |    |    |-- bathrooms: long (nullable = true)\n",
      " |    |    |-- bedrooms: long (nullable = true)\n",
      " |    |    |-- floors: long (nullable = true)\n",
      " |    |    |-- parkingSpaces: long (nullable = true)\n",
      " |    |    |-- suites: long (nullable = true)\n",
      " |    |    |-- totalAreas: string (nullable = true)\n",
      " |    |    |-- unitFloor: long (nullable = true)\n",
      " |    |    |-- unitsOnTheFloor: long (nullable = true)\n",
      " |    |    |-- usableAreas: string (nullable = true)\n",
      " |    |-- prices: struct (nullable = true)\n",
      " |    |    |-- price: string (nullable = true)\n",
      " |    |    |-- tax: struct (nullable = true)\n",
      " |    |    |    |-- condo: string (nullable = true)\n",
      " |    |    |    |-- iptu: string (nullable = true)\n",
      " |    |-- types: struct (nullable = true)\n",
      " |    |    |-- unit: string (nullable = true)\n",
      " |    |    |-- usage: string (nullable = true)\n",
      "\n"
     ]
    }
   ],
   "source": [
    "# Analisando o schema do json\n",
    "\n",
    "dados_imoveis_original.printSchema()"
   ]
  },
  {
   "cell_type": "code",
   "execution_count": 8,
   "metadata": {},
   "outputs": [
    {
     "name": "stderr",
     "output_type": "stream",
     "text": [
      "[Stage 5:>                                                          (0 + 1) / 1]\r"
     ]
    },
    {
     "name": "stdout",
     "output_type": "stream",
     "text": [
      "+---------------+--------------------------------------------------------------------------------+-------------------------------+---------------------+--------------------------+\n",
      "|customerID     |address                                                                         |features                       |prices               |types                     |\n",
      "+---------------+--------------------------------------------------------------------------------+-------------------------------+---------------------+--------------------------+\n",
      "|775564-BOJSMVON|{Rio de Janeiro, {-22.909429, -43.413557}, Taquara, Zona Oeste}                 |{0, 0, 0, 1, 0, 62, 0, 0, 62}  |{45000, {150, 0}}    |{Outros, Residencial}     |\n",
      "|660895-AUENKNYY|{Rio de Janeiro, {-22.869698, -43.509141}, Santíssimo, Zona Oeste}              |{1, 2, 0, 1, 0, 0, 0, 0, 44}   |{45000, {120, 0}}    |{Apartamento, Residencial}|\n",
      "|751522-JESYFEQL|{Rio de Janeiro, {-22.986927, -43.646786}, Pedra de Guaratiba, Zona Oeste}      |{0, 0, 0, 0, 0, 132, 0, 0, 132}|{50000, {100, 0}}    |{Outros, Residencial}     |\n",
      "|714052-GAAEWYKS|{Rio de Janeiro, {-22.881977, -43.330818}, Cascadura, Zona Norte}               |{1, 0, 0, 0, 0, 32, 3, 0, 32}  |{45000, {468, 346}}  |{Outros, Comercial}       |\n",
      "|568886-ZIBFOMCC|{Rio de Janeiro, {-23.027653, -43.480742}, Recreio dos Bandeirantes, Zona Oeste}|{2, 3, 3, 1, 1, 0, 2, 4, 60}   |{50000, {400, 120}}  |{Apartamento, Residencial}|\n",
      "|526755-OBLTYTEN|{Rio de Janeiro, {-22.966059, -43.571183}, Guaratiba, Zona Oeste}               |{0, 0, 0, 0, 0, 200, 0, 0, 200}|{50000, {0, NULL}}   |{Outros, Residencial}     |\n",
      "|593569-CJLMNFGW|{Rio de Janeiro, {-22.939028, -43.3453}, Freguesia (Jacarepaguá), Zona Oeste}   |{1, 0, 0, 0, 0, 25, 2, 0, 25}  |{50000, {801, 211}}  |{Outros, Comercial}       |\n",
      "|989181-RYJOLMCU|{Rio de Janeiro, {-22.841509, -43.278855}, Penha, Zona Norte}                   |{1, 0, 0, 0, 0, 23, 0, 0, 23}  |{50000, {230, NULL}} |{Outros, Comercial}       |\n",
      "|145372-EZKAKSWM|{Rio de Janeiro, {-22.835609, -43.392253}, Ricardo de Albuquerque, Zona Norte}  |{0, 0, 0, 0, 0, 60, 0, 0, 60}  |{45000, {NULL, NULL}}|{Outros, Comercial}       |\n",
      "|792086-NWNQTDYL|{Rio de Janeiro, {-22.885306, -43.253044}, Jacarezinho, Zona Norte}             |{1, 1, 0, 1, 0, 35, 0, 0, 33}  |{45336, {0, 0}}      |{Apartamento, Residencial}|\n",
      "|339622-MNZGLKTZ|{Rio de Janeiro, {-22.990425, -43.635505}, Guaratiba, Zona Oeste}               |{0, 0, 0, 0, 0, 120, 0, 0, 120}|{45000, {0, 0}}      |{Outros, Residencial}     |\n",
      "|952338-SVULQMXR|{Rio de Janeiro, {-22.877982, -43.651456}, Santa Cruz, Zona Oeste}              |{0, 0, 0, 0, 0, 468, 0, 0, 468}|{45000, {0, 0}}      |{Outros, Residencial}     |\n",
      "|570439-LDICQOXZ|{Rio de Janeiro, {-22.998183, -43.504337}, Vargem Grande, Zona Oeste}           |{0, 0, 0, 0, 0, 180, 1, 0, 180}|{50000, {0, 0}}      |{Outros, Residencial}     |\n",
      "|684023-YTBNKLLO|{Rio de Janeiro, {-22.843794, -43.512464}, Bangu, Zona Oeste}                   |{0, 0, 0, 0, 0, 128, 0, 0, 128}|{50000, {0, 0}}      |{Outros, Residencial}     |\n",
      "|629412-VKUMMAVR|{Rio de Janeiro, {-22.91077, -43.37182}, Tanque, Zona Oeste}                    |{0, 0, 0, 0, 0, 82, 1, 0, 82}  |{45000, {300, 0}}    |{Outros, Residencial}     |\n",
      "|041590-HMJIRKDX|{Rio de Janeiro, {-22.910099, -43.17797}, Centro, Zona Central}                 |{0, 0, 0, 1, 0, 5, 0, 0, 5}    |{45000, {0, 0}}      |{Outros, Comercial}       |\n",
      "|870098-XTRYJAGY|{Rio de Janeiro, {-22.867219, -43.335067}, Madureira, Zona Norte}               |{1, 0, 0, 0, 0, 350, 0, 0, 350}|{50000, {0, 1600}}   |{Outros, Comercial}       |\n",
      "|951104-MACIAPIS|{Rio de Janeiro, {-22.897014, -43.201575}, Santo Cristo, Zona Central}          |{2, 3, 20, 1, 1, 0, 20, 19, 70}|{45000, {350, 120}}  |{Apartamento, Residencial}|\n",
      "|375665-GHMFEZXX|{Rio de Janeiro, {-22.902419, -43.20952}, Santo Cristo, Zona Central}           |{2, 3, 20, 1, 1, 0, 20, 19, 70}|{50000, {350, 120}}  |{Apartamento, Residencial}|\n",
      "|441711-LRTWHRUA|{Rio de Janeiro, {-22.989852, -43.623097}, Pedra de Guaratiba, Zona Oeste}      |{1, 1, 0, 0, 0, 45, 2, 0, 37}  |{50000, {0, 0}}      |{Apartamento, Residencial}|\n",
      "+---------------+--------------------------------------------------------------------------------+-------------------------------+---------------------+--------------------------+\n",
      "only showing top 20 rows\n",
      "\n"
     ]
    },
    {
     "name": "stderr",
     "output_type": "stream",
     "text": [
      "                                                                                \r"
     ]
    }
   ],
   "source": [
    "# Analisando os dados com uma perspectiva colunar \n",
    "\n",
    "dados_imoveis_original.\\\n",
    "    select('ident.customerID','listing.*')\\\n",
    "    .show(truncate=False)\n"
   ]
  },
  {
   "cell_type": "code",
   "execution_count": 9,
   "metadata": {},
   "outputs": [
    {
     "name": "stderr",
     "output_type": "stream",
     "text": [
      "[Stage 6:>                                                          (0 + 1) / 1]\r"
     ]
    },
    {
     "name": "stdout",
     "output_type": "stream",
     "text": [
      "+---------------+-----------+-----------+---------+--------+------+-------------+------+----------+---------+---------------+-----------+--------------+------------------------+------------------------+------------+-----+-----+----+\n",
      "|customerID     |unit       |usage      |bathrooms|bedrooms|floors|parkingSpaces|suites|totalAreas|unitFloor|unitsOnTheFloor|usableAreas|city          |location                |neighborhood            |zone        |price|condo|iptu|\n",
      "+---------------+-----------+-----------+---------+--------+------+-------------+------+----------+---------+---------------+-----------+--------------+------------------------+------------------------+------------+-----+-----+----+\n",
      "|775564-BOJSMVON|Outros     |Residencial|0        |0       |0     |1            |0     |62        |0        |0              |62         |Rio de Janeiro|{-22.909429, -43.413557}|Taquara                 |Zona Oeste  |45000|150  |0   |\n",
      "|660895-AUENKNYY|Apartamento|Residencial|1        |2       |0     |1            |0     |0         |0        |0              |44         |Rio de Janeiro|{-22.869698, -43.509141}|Santíssimo              |Zona Oeste  |45000|120  |0   |\n",
      "|751522-JESYFEQL|Outros     |Residencial|0        |0       |0     |0            |0     |132       |0        |0              |132        |Rio de Janeiro|{-22.986927, -43.646786}|Pedra de Guaratiba      |Zona Oeste  |50000|100  |0   |\n",
      "|714052-GAAEWYKS|Outros     |Comercial  |1        |0       |0     |0            |0     |32        |3        |0              |32         |Rio de Janeiro|{-22.881977, -43.330818}|Cascadura               |Zona Norte  |45000|468  |346 |\n",
      "|568886-ZIBFOMCC|Apartamento|Residencial|2        |3       |3     |1            |1     |0         |2        |4              |60         |Rio de Janeiro|{-23.027653, -43.480742}|Recreio dos Bandeirantes|Zona Oeste  |50000|400  |120 |\n",
      "|526755-OBLTYTEN|Outros     |Residencial|0        |0       |0     |0            |0     |200       |0        |0              |200        |Rio de Janeiro|{-22.966059, -43.571183}|Guaratiba               |Zona Oeste  |50000|0    |NULL|\n",
      "|593569-CJLMNFGW|Outros     |Comercial  |1        |0       |0     |0            |0     |25        |2        |0              |25         |Rio de Janeiro|{-22.939028, -43.3453}  |Freguesia (Jacarepaguá) |Zona Oeste  |50000|801  |211 |\n",
      "|989181-RYJOLMCU|Outros     |Comercial  |1        |0       |0     |0            |0     |23        |0        |0              |23         |Rio de Janeiro|{-22.841509, -43.278855}|Penha                   |Zona Norte  |50000|230  |NULL|\n",
      "|145372-EZKAKSWM|Outros     |Comercial  |0        |0       |0     |0            |0     |60        |0        |0              |60         |Rio de Janeiro|{-22.835609, -43.392253}|Ricardo de Albuquerque  |Zona Norte  |45000|NULL |NULL|\n",
      "|792086-NWNQTDYL|Apartamento|Residencial|1        |1       |0     |1            |0     |35        |0        |0              |33         |Rio de Janeiro|{-22.885306, -43.253044}|Jacarezinho             |Zona Norte  |45336|0    |0   |\n",
      "|339622-MNZGLKTZ|Outros     |Residencial|0        |0       |0     |0            |0     |120       |0        |0              |120        |Rio de Janeiro|{-22.990425, -43.635505}|Guaratiba               |Zona Oeste  |45000|0    |0   |\n",
      "|952338-SVULQMXR|Outros     |Residencial|0        |0       |0     |0            |0     |468       |0        |0              |468        |Rio de Janeiro|{-22.877982, -43.651456}|Santa Cruz              |Zona Oeste  |45000|0    |0   |\n",
      "|570439-LDICQOXZ|Outros     |Residencial|0        |0       |0     |0            |0     |180       |1        |0              |180        |Rio de Janeiro|{-22.998183, -43.504337}|Vargem Grande           |Zona Oeste  |50000|0    |0   |\n",
      "|684023-YTBNKLLO|Outros     |Residencial|0        |0       |0     |0            |0     |128       |0        |0              |128        |Rio de Janeiro|{-22.843794, -43.512464}|Bangu                   |Zona Oeste  |50000|0    |0   |\n",
      "|629412-VKUMMAVR|Outros     |Residencial|0        |0       |0     |0            |0     |82        |1        |0              |82         |Rio de Janeiro|{-22.91077, -43.37182}  |Tanque                  |Zona Oeste  |45000|300  |0   |\n",
      "|041590-HMJIRKDX|Outros     |Comercial  |0        |0       |0     |1            |0     |5         |0        |0              |5          |Rio de Janeiro|{-22.910099, -43.17797} |Centro                  |Zona Central|45000|0    |0   |\n",
      "|870098-XTRYJAGY|Outros     |Comercial  |1        |0       |0     |0            |0     |350       |0        |0              |350        |Rio de Janeiro|{-22.867219, -43.335067}|Madureira               |Zona Norte  |50000|0    |1600|\n",
      "|951104-MACIAPIS|Apartamento|Residencial|2        |3       |20    |1            |1     |0         |20       |19             |70         |Rio de Janeiro|{-22.897014, -43.201575}|Santo Cristo            |Zona Central|45000|350  |120 |\n",
      "|375665-GHMFEZXX|Apartamento|Residencial|2        |3       |20    |1            |1     |0         |20       |19             |70         |Rio de Janeiro|{-22.902419, -43.20952} |Santo Cristo            |Zona Central|50000|350  |120 |\n",
      "|441711-LRTWHRUA|Apartamento|Residencial|1        |1       |0     |0            |0     |45        |2        |0              |37         |Rio de Janeiro|{-22.989852, -43.623097}|Pedra de Guaratiba      |Zona Oeste  |50000|0    |0   |\n",
      "+---------------+-----------+-----------+---------+--------+------+-------------+------+----------+---------+---------------+-----------+--------------+------------------------+------------------------+------------+-----+-----+----+\n",
      "only showing top 20 rows\n",
      "\n"
     ]
    },
    {
     "name": "stderr",
     "output_type": "stream",
     "text": [
      "                                                                                \r"
     ]
    }
   ],
   "source": [
    "# Analisando os dados com uma perspectiva colunar, avaliando algumas identações inferiores\n",
    "\n",
    "dados_imoveis_original\\\n",
    "    .select('ident.customerID', 'listing.types.*', 'listing.features.*', 'listing.address.*', 'listing.prices.price', 'listing.prices.tax.*')\\\n",
    "    .show(truncate=False)"
   ]
  },
  {
   "cell_type": "code",
   "execution_count": 10,
   "metadata": {},
   "outputs": [
    {
     "name": "stderr",
     "output_type": "stream",
     "text": [
      "[Stage 7:>                                                          (0 + 1) / 1]\r"
     ]
    },
    {
     "name": "stdout",
     "output_type": "stream",
     "text": [
      "+---------------+-----------+-----------+---------+--------+------+-------------+------+---------+---------------+-----------+------------------------+------------+-----+-----+----+\n",
      "|customerID     |unit       |usage      |bathrooms|bedrooms|floors|parkingSpaces|suites|unitFloor|unitsOnTheFloor|usableAreas|neighborhood            |zone        |price|condo|iptu|\n",
      "+---------------+-----------+-----------+---------+--------+------+-------------+------+---------+---------------+-----------+------------------------+------------+-----+-----+----+\n",
      "|775564-BOJSMVON|Outros     |Residencial|0        |0       |0     |1            |0     |0        |0              |62         |Taquara                 |Zona Oeste  |45000|150  |0   |\n",
      "|660895-AUENKNYY|Apartamento|Residencial|1        |2       |0     |1            |0     |0        |0              |44         |Santíssimo              |Zona Oeste  |45000|120  |0   |\n",
      "|751522-JESYFEQL|Outros     |Residencial|0        |0       |0     |0            |0     |0        |0              |132        |Pedra de Guaratiba      |Zona Oeste  |50000|100  |0   |\n",
      "|714052-GAAEWYKS|Outros     |Comercial  |1        |0       |0     |0            |0     |3        |0              |32         |Cascadura               |Zona Norte  |45000|468  |346 |\n",
      "|568886-ZIBFOMCC|Apartamento|Residencial|2        |3       |3     |1            |1     |2        |4              |60         |Recreio dos Bandeirantes|Zona Oeste  |50000|400  |120 |\n",
      "|526755-OBLTYTEN|Outros     |Residencial|0        |0       |0     |0            |0     |0        |0              |200        |Guaratiba               |Zona Oeste  |50000|0    |NULL|\n",
      "|593569-CJLMNFGW|Outros     |Comercial  |1        |0       |0     |0            |0     |2        |0              |25         |Freguesia (Jacarepaguá) |Zona Oeste  |50000|801  |211 |\n",
      "|989181-RYJOLMCU|Outros     |Comercial  |1        |0       |0     |0            |0     |0        |0              |23         |Penha                   |Zona Norte  |50000|230  |NULL|\n",
      "|145372-EZKAKSWM|Outros     |Comercial  |0        |0       |0     |0            |0     |0        |0              |60         |Ricardo de Albuquerque  |Zona Norte  |45000|NULL |NULL|\n",
      "|792086-NWNQTDYL|Apartamento|Residencial|1        |1       |0     |1            |0     |0        |0              |33         |Jacarezinho             |Zona Norte  |45336|0    |0   |\n",
      "|339622-MNZGLKTZ|Outros     |Residencial|0        |0       |0     |0            |0     |0        |0              |120        |Guaratiba               |Zona Oeste  |45000|0    |0   |\n",
      "|952338-SVULQMXR|Outros     |Residencial|0        |0       |0     |0            |0     |0        |0              |468        |Santa Cruz              |Zona Oeste  |45000|0    |0   |\n",
      "|570439-LDICQOXZ|Outros     |Residencial|0        |0       |0     |0            |0     |1        |0              |180        |Vargem Grande           |Zona Oeste  |50000|0    |0   |\n",
      "|684023-YTBNKLLO|Outros     |Residencial|0        |0       |0     |0            |0     |0        |0              |128        |Bangu                   |Zona Oeste  |50000|0    |0   |\n",
      "|629412-VKUMMAVR|Outros     |Residencial|0        |0       |0     |0            |0     |1        |0              |82         |Tanque                  |Zona Oeste  |45000|300  |0   |\n",
      "|041590-HMJIRKDX|Outros     |Comercial  |0        |0       |0     |1            |0     |0        |0              |5          |Centro                  |Zona Central|45000|0    |0   |\n",
      "|870098-XTRYJAGY|Outros     |Comercial  |1        |0       |0     |0            |0     |0        |0              |350        |Madureira               |Zona Norte  |50000|0    |1600|\n",
      "|951104-MACIAPIS|Apartamento|Residencial|2        |3       |20    |1            |1     |20       |19             |70         |Santo Cristo            |Zona Central|45000|350  |120 |\n",
      "|375665-GHMFEZXX|Apartamento|Residencial|2        |3       |20    |1            |1     |20       |19             |70         |Santo Cristo            |Zona Central|50000|350  |120 |\n",
      "|441711-LRTWHRUA|Apartamento|Residencial|1        |1       |0     |0            |0     |2        |0              |37         |Pedra de Guaratiba      |Zona Oeste  |50000|0    |0   |\n",
      "+---------------+-----------+-----------+---------+--------+------+-------------+------+---------+---------------+-----------+------------------------+------------+-----+-----+----+\n",
      "only showing top 20 rows\n",
      "\n"
     ]
    },
    {
     "name": "stderr",
     "output_type": "stream",
     "text": [
      "                                                                                \r"
     ]
    }
   ],
   "source": [
    "# Analisando os dados com uma perspectiva colunar, removendo algumas colunas que não fazem muito sentido serem estudadas\n",
    "\n",
    "# Colunas selecionadas estão no select e as colunas removidas estão no drop\n",
    "\n",
    "dados_imoveis_original\\\n",
    "    .select('ident.customerID', 'listing.types.*', 'listing.features.*', 'listing.address.*', 'listing.prices.price', 'listing.prices.tax.*')\\\n",
    "    .drop('city', 'location', 'totalAreas')\\\n",
    "    .show(truncate=False)"
   ]
  },
  {
   "cell_type": "code",
   "execution_count": 11,
   "metadata": {},
   "outputs": [],
   "source": [
    "# Features selecionadas, agora devemos aplicar essa seleção ao dataset\n",
    "\n",
    "dataset_imoveis = dados_imoveis_original\\\n",
    "    .select('ident.customerID', 'listing.types.*', 'listing.features.*', 'listing.address.*', 'listing.prices.price', 'listing.prices.tax.*')\\\n",
    "    .drop('city', 'location', 'totalAreas')\n"
   ]
  },
  {
   "cell_type": "markdown",
   "metadata": {},
   "source": [
    "### 2.3 Tratamento do DataSet"
   ]
  },
  {
   "cell_type": "code",
   "execution_count": 12,
   "metadata": {},
   "outputs": [
    {
     "name": "stdout",
     "output_type": "stream",
     "text": [
      "root\n",
      " |-- customerID: string (nullable = true)\n",
      " |-- unit: string (nullable = true)\n",
      " |-- usage: string (nullable = true)\n",
      " |-- bathrooms: long (nullable = true)\n",
      " |-- bedrooms: long (nullable = true)\n",
      " |-- floors: long (nullable = true)\n",
      " |-- parkingSpaces: long (nullable = true)\n",
      " |-- suites: long (nullable = true)\n",
      " |-- unitFloor: long (nullable = true)\n",
      " |-- unitsOnTheFloor: long (nullable = true)\n",
      " |-- usableAreas: string (nullable = true)\n",
      " |-- neighborhood: string (nullable = true)\n",
      " |-- zone: string (nullable = true)\n",
      " |-- price: string (nullable = true)\n",
      " |-- condo: string (nullable = true)\n",
      " |-- iptu: string (nullable = true)\n",
      "\n"
     ]
    }
   ],
   "source": [
    "# Analisando os tipos de cada coluna, essa análise é importante para aferir se tipagem realmente está correta\n",
    "\n",
    "dataset_imoveis.printSchema()"
   ]
  },
  {
   "cell_type": "markdown",
   "metadata": {},
   "source": [
    "* Após essa validação, podemos concluir que usableAreas, price, condo e iptu não deveria ser uma string, e sim double e integer"
   ]
  },
  {
   "cell_type": "code",
   "execution_count": 13,
   "metadata": {},
   "outputs": [],
   "source": [
    "# Alterando os tipos de usableAreas, price, condo e iptu\n",
    "\n",
    "# usableAreas > Tipo IntegerType\n",
    "# price > Tipo DoubleType\n",
    "# condo > Tipo DoubleType\n",
    "# iptu > Tipo IntegerType\n",
    "\n",
    "dataset_imoveis = dataset_imoveis\\\n",
    "    .withColumn('usableAreas', dataset_imoveis.usableAreas.cast(IntegerType()))\\\n",
    "    .withColumn('price', dataset_imoveis.price.cast(DoubleType()))\\\n",
    "    .withColumn('condo', dataset_imoveis.condo.cast(DoubleType()))\\\n",
    "    .withColumn('iptu', dataset_imoveis.iptu.cast(IntegerType()))"
   ]
  },
  {
   "cell_type": "code",
   "execution_count": 14,
   "metadata": {},
   "outputs": [
    {
     "name": "stderr",
     "output_type": "stream",
     "text": [
      "[Stage 8:>                                                          (0 + 1) / 1]\r"
     ]
    },
    {
     "name": "stdout",
     "output_type": "stream",
     "text": [
      "+---------------+-----------+-----------+---------+--------+------+-------------+------+---------+---------------+-----------+--------------------+------------+-------+-----+----+\n",
      "|     customerID|       unit|      usage|bathrooms|bedrooms|floors|parkingSpaces|suites|unitFloor|unitsOnTheFloor|usableAreas|        neighborhood|        zone|  price|condo|iptu|\n",
      "+---------------+-----------+-----------+---------+--------+------+-------------+------+---------+---------------+-----------+--------------------+------------+-------+-----+----+\n",
      "|775564-BOJSMVON|     Outros|Residencial|        0|       0|     0|            1|     0|        0|              0|         62|             Taquara|  Zona Oeste|45000.0|150.0|   0|\n",
      "|660895-AUENKNYY|Apartamento|Residencial|        1|       2|     0|            1|     0|        0|              0|         44|          Santíssimo|  Zona Oeste|45000.0|120.0|   0|\n",
      "|751522-JESYFEQL|     Outros|Residencial|        0|       0|     0|            0|     0|        0|              0|        132|  Pedra de Guaratiba|  Zona Oeste|50000.0|100.0|   0|\n",
      "|714052-GAAEWYKS|     Outros|  Comercial|        1|       0|     0|            0|     0|        3|              0|         32|           Cascadura|  Zona Norte|45000.0|468.0| 346|\n",
      "|568886-ZIBFOMCC|Apartamento|Residencial|        2|       3|     3|            1|     1|        2|              4|         60|Recreio dos Bande...|  Zona Oeste|50000.0|400.0| 120|\n",
      "|526755-OBLTYTEN|     Outros|Residencial|        0|       0|     0|            0|     0|        0|              0|        200|           Guaratiba|  Zona Oeste|50000.0|  0.0|NULL|\n",
      "|593569-CJLMNFGW|     Outros|  Comercial|        1|       0|     0|            0|     0|        2|              0|         25|Freguesia (Jacare...|  Zona Oeste|50000.0|801.0| 211|\n",
      "|989181-RYJOLMCU|     Outros|  Comercial|        1|       0|     0|            0|     0|        0|              0|         23|               Penha|  Zona Norte|50000.0|230.0|NULL|\n",
      "|145372-EZKAKSWM|     Outros|  Comercial|        0|       0|     0|            0|     0|        0|              0|         60|Ricardo de Albuqu...|  Zona Norte|45000.0| NULL|NULL|\n",
      "|792086-NWNQTDYL|Apartamento|Residencial|        1|       1|     0|            1|     0|        0|              0|         33|         Jacarezinho|  Zona Norte|45336.0|  0.0|   0|\n",
      "|339622-MNZGLKTZ|     Outros|Residencial|        0|       0|     0|            0|     0|        0|              0|        120|           Guaratiba|  Zona Oeste|45000.0|  0.0|   0|\n",
      "|952338-SVULQMXR|     Outros|Residencial|        0|       0|     0|            0|     0|        0|              0|        468|          Santa Cruz|  Zona Oeste|45000.0|  0.0|   0|\n",
      "|570439-LDICQOXZ|     Outros|Residencial|        0|       0|     0|            0|     0|        1|              0|        180|       Vargem Grande|  Zona Oeste|50000.0|  0.0|   0|\n",
      "|684023-YTBNKLLO|     Outros|Residencial|        0|       0|     0|            0|     0|        0|              0|        128|               Bangu|  Zona Oeste|50000.0|  0.0|   0|\n",
      "|629412-VKUMMAVR|     Outros|Residencial|        0|       0|     0|            0|     0|        1|              0|         82|              Tanque|  Zona Oeste|45000.0|300.0|   0|\n",
      "|041590-HMJIRKDX|     Outros|  Comercial|        0|       0|     0|            1|     0|        0|              0|          5|              Centro|Zona Central|45000.0|  0.0|   0|\n",
      "|870098-XTRYJAGY|     Outros|  Comercial|        1|       0|     0|            0|     0|        0|              0|        350|           Madureira|  Zona Norte|50000.0|  0.0|1600|\n",
      "|951104-MACIAPIS|Apartamento|Residencial|        2|       3|    20|            1|     1|       20|             19|         70|        Santo Cristo|Zona Central|45000.0|350.0| 120|\n",
      "|375665-GHMFEZXX|Apartamento|Residencial|        2|       3|    20|            1|     1|       20|             19|         70|        Santo Cristo|Zona Central|50000.0|350.0| 120|\n",
      "|441711-LRTWHRUA|Apartamento|Residencial|        1|       1|     0|            0|     0|        2|              0|         37|  Pedra de Guaratiba|  Zona Oeste|50000.0|  0.0|   0|\n",
      "+---------------+-----------+-----------+---------+--------+------+-------------+------+---------+---------------+-----------+--------------------+------------+-------+-----+----+\n",
      "only showing top 20 rows\n",
      "\n"
     ]
    },
    {
     "name": "stderr",
     "output_type": "stream",
     "text": [
      "                                                                                \r"
     ]
    }
   ],
   "source": [
    "# Analisando o DataSet após alteração\n",
    "\n",
    "dataset_imoveis.show()"
   ]
  },
  {
   "cell_type": "code",
   "execution_count": 15,
   "metadata": {},
   "outputs": [
    {
     "name": "stderr",
     "output_type": "stream",
     "text": [
      "[Stage 9:=================================================>         (5 + 1) / 6]\r"
     ]
    },
    {
     "name": "stdout",
     "output_type": "stream",
     "text": [
      "+-----------+-----+\n",
      "|      usage|count|\n",
      "+-----------+-----+\n",
      "|  Comercial| 4019|\n",
      "|Residencial|69596|\n",
      "+-----------+-----+\n",
      "\n"
     ]
    },
    {
     "name": "stderr",
     "output_type": "stream",
     "text": [
      "                                                                                \r"
     ]
    }
   ],
   "source": [
    "# Analisando os DataSet para entender como está a distribuição dos tipos de agrupamentos que pode existir na coluna usage\n",
    "\n",
    "dataset_imoveis\\\n",
    "    .select(\"usage\")\\\n",
    "    .groupBy(\"usage\")\\\n",
    "    .count()\\\n",
    "    .show()"
   ]
  },
  {
   "cell_type": "markdown",
   "metadata": {},
   "source": [
    "* Será necessario remover do DataSet todos os dados que pertence ao grupo de imoveis comerciais, nosso objetivo é prever o preços de imoveis residenciais. "
   ]
  },
  {
   "cell_type": "code",
   "execution_count": 16,
   "metadata": {},
   "outputs": [],
   "source": [
    "# Removendo os dados que pertence ao grupo de imoveis comerciais\n",
    "\n",
    "dataset_imoveis = dataset_imoveis\\\n",
    "    .select(\"*\")\\\n",
    "    .where('usage==\"Residencial\"')"
   ]
  },
  {
   "cell_type": "code",
   "execution_count": 17,
   "metadata": {},
   "outputs": [
    {
     "name": "stderr",
     "output_type": "stream",
     "text": [
      "[Stage 12:================================================>         (5 + 1) / 6]\r"
     ]
    },
    {
     "name": "stdout",
     "output_type": "stream",
     "text": [
      "+-----------+-----+\n",
      "|       unit|count|\n",
      "+-----------+-----+\n",
      "|     Outros| 1190|\n",
      "|Apartamento|59106|\n",
      "|       Casa| 9300|\n",
      "+-----------+-----+\n",
      "\n"
     ]
    },
    {
     "name": "stderr",
     "output_type": "stream",
     "text": [
      "                                                                                \r"
     ]
    }
   ],
   "source": [
    "# Analisando os DataSet para entender como está a distribuição dos tipos de agrupamentos que pode existir na coluna unit\n",
    "\n",
    "dataset_imoveis\\\n",
    "    .select(\"unit\")\\\n",
    "    .groupBy(\"unit\")\\\n",
    "    .count()\\\n",
    "    .show()"
   ]
  },
  {
   "cell_type": "code",
   "execution_count": 18,
   "metadata": {},
   "outputs": [
    {
     "name": "stderr",
     "output_type": "stream",
     "text": [
      "[Stage 15:================================================>         (5 + 1) / 6]\r"
     ]
    },
    {
     "name": "stdout",
     "output_type": "stream",
     "text": [
      "+------------+-----+\n",
      "|        zone|count|\n",
      "+------------+-----+\n",
      "|  Zona Norte|14379|\n",
      "|  Zona Oeste|35523|\n",
      "|Zona Central| 1002|\n",
      "|    Zona Sul|18535|\n",
      "|            |  157|\n",
      "+------------+-----+\n",
      "\n"
     ]
    },
    {
     "name": "stderr",
     "output_type": "stream",
     "text": [
      "                                                                                \r"
     ]
    }
   ],
   "source": [
    "# Analisando os DataSet para entender como está a distribuição dos tipos de agrupamentos que pode existir na coluna zone\n",
    "\n",
    "dataset_imoveis\\\n",
    "    .select(\"zone\")\\\n",
    "    .groupBy(\"zone\")\\\n",
    "    .count()\\\n",
    "    .show()"
   ]
  },
  {
   "cell_type": "code",
   "execution_count": 19,
   "metadata": {},
   "outputs": [
    {
     "name": "stderr",
     "output_type": "stream",
     "text": [
      "[Stage 18:================================================>         (5 + 1) / 6]\r"
     ]
    },
    {
     "name": "stdout",
     "output_type": "stream",
     "text": [
      "+----------+----+-----+---------+--------+------+-------------+------+---------+---------------+-----------+------------+----+-----+-----+----+\n",
      "|customerID|unit|usage|bathrooms|bedrooms|floors|parkingSpaces|suites|unitFloor|unitsOnTheFloor|usableAreas|neighborhood|zone|price|condo|iptu|\n",
      "+----------+----+-----+---------+--------+------+-------------+------+---------+---------------+-----------+------------+----+-----+-----+----+\n",
      "|         0|   0|    0|        0|       0|     0|            0|     0|        0|              0|          0|           0|   0|    0| 6061|8726|\n",
      "+----------+----+-----+---------+--------+------+-------------+------+---------+---------------+-----------+------------+----+-----+-----+----+\n",
      "\n"
     ]
    },
    {
     "name": "stderr",
     "output_type": "stream",
     "text": [
      "                                                                                \r"
     ]
    }
   ],
   "source": [
    "# Analisando as colunas que possuem dados faltantes, contagem de nulos ou nan por colunas\n",
    "\n",
    "dataset_imoveis\\\n",
    "    .select([f.count(f.when(f.isnull(c) | f.isnan(c), True)).alias(c) for c in dataset_imoveis.columns])\\\n",
    "    .show()"
   ]
  },
  {
   "cell_type": "markdown",
   "metadata": {},
   "source": [
    "* Como observado no resultado da contagem, existem muitos valores nulos ou NaN nas colunas condo e iptu, remover esses dados não é um caminho porque são muitas repetições, o melhor caminho será atribuir um valor nessas colunas, no spark é possivel inserir o valor 0 nas null"
   ]
  },
  {
   "cell_type": "code",
   "execution_count": 20,
   "metadata": {},
   "outputs": [],
   "source": [
    "#Substituindo os valores de nulos em socios\n",
    "\n",
    "# Método para inteiros (integer)\n",
    "dataset_imoveis = dataset_imoveis.na.fill(0)\n",
    "\n",
    "# fill(0) = 0, então o valor substituido do nulo será 0 em todos os campos"
   ]
  },
  {
   "cell_type": "code",
   "execution_count": 21,
   "metadata": {},
   "outputs": [
    {
     "name": "stderr",
     "output_type": "stream",
     "text": [
      "[Stage 21:================================================>         (5 + 1) / 6]\r"
     ]
    },
    {
     "name": "stdout",
     "output_type": "stream",
     "text": [
      "+------------+-----+\n",
      "|        zone|count|\n",
      "+------------+-----+\n",
      "|  Zona Norte|14379|\n",
      "|  Zona Oeste|35523|\n",
      "|Zona Central| 1002|\n",
      "|    Zona Sul|18535|\n",
      "|            |  157|\n",
      "+------------+-----+\n",
      "\n"
     ]
    },
    {
     "name": "stderr",
     "output_type": "stream",
     "text": [
      "                                                                                \r"
     ]
    }
   ],
   "source": [
    "# Analisando as colunas que possuem dados faltantes, dados faltando que não são nulo\n",
    "\n",
    "dataset_imoveis\\\n",
    "    .select(\"zone\")\\\n",
    "    .groupBy(\"zone\")\\\n",
    "    .count()\\\n",
    "    .show()"
   ]
  },
  {
   "cell_type": "markdown",
   "metadata": {},
   "source": [
    "* Podemos analisar que na coluna zone, existem 157 observações (linhas) vazias, são strings vazias, o melhor caminho será remover do meu dataset essas observações (linhas), podemos fazer essa ação devido a quantidade ser pequena."
   ]
  },
  {
   "cell_type": "code",
   "execution_count": 22,
   "metadata": {},
   "outputs": [],
   "source": [
    "# Removendo as 157 linhas que contem o campo zone vazio\n",
    "\n",
    "dataset_imoveis = dataset_imoveis\\\n",
    "    .select(\"*\")\\\n",
    "    .where('zone!=\"\"')\n",
    "\n",
    "# ou\n",
    "# dataset_imoveis = dataset_imoveis\\\n",
    "#    .where(f.col('zone') != '')\n"
   ]
  },
  {
   "cell_type": "markdown",
   "metadata": {},
   "source": [
    "# 3 - Modelos de Machine Learning\n",
    "\n",
    "### 3.1 Modelo Regressão Linear\n",
    "### 3.1.1 Preparando os dados"
   ]
  },
  {
   "cell_type": "markdown",
   "metadata": {},
   "source": [
    "Para trabalhar com regressão linear, não podemos passar os dados da forma como eles são gerados, no sentido de que ao passar strings o modelo não trabalha muito bem, a solução desse problema é transformar os dados em variaveis dummy.\n",
    "\n",
    "Variáveis dummy representam categorias categóricas em um formato binário, facilitando a análise de dados, exemplo:\n",
    "\n",
    "Na coluna zone do nosso dataset possui quatro grupos sendo eles Zona Norte, Zona Oeste, Zona Central e Zona Sul, ao realizar os processo de dummy zona norte se transform em 0, Zona Oeste em 1, Zona Central em 3....... Desta forma o modelo consegue trabalhar com mais facilidade, por que ele entende os numeros e as combinações desses numeros nas varias colunas do dataset."
   ]
  },
  {
   "cell_type": "code",
   "execution_count": 23,
   "metadata": {},
   "outputs": [
    {
     "name": "stderr",
     "output_type": "stream",
     "text": [
      "[Stage 24:>                                                         (0 + 1) / 1]\r"
     ]
    },
    {
     "name": "stdout",
     "output_type": "stream",
     "text": [
      "+---------------+-----------+-----------+---------+--------+------+-------------+------+---------+---------------+-----------+------------------------+----------+-------+-----+----+\n",
      "|customerID     |unit       |usage      |bathrooms|bedrooms|floors|parkingSpaces|suites|unitFloor|unitsOnTheFloor|usableAreas|neighborhood            |zone      |price  |condo|iptu|\n",
      "+---------------+-----------+-----------+---------+--------+------+-------------+------+---------+---------------+-----------+------------------------+----------+-------+-----+----+\n",
      "|775564-BOJSMVON|Outros     |Residencial|0        |0       |0     |1            |0     |0        |0              |62         |Taquara                 |Zona Oeste|45000.0|150.0|0   |\n",
      "|660895-AUENKNYY|Apartamento|Residencial|1        |2       |0     |1            |0     |0        |0              |44         |Santíssimo              |Zona Oeste|45000.0|120.0|0   |\n",
      "|751522-JESYFEQL|Outros     |Residencial|0        |0       |0     |0            |0     |0        |0              |132        |Pedra de Guaratiba      |Zona Oeste|50000.0|100.0|0   |\n",
      "|568886-ZIBFOMCC|Apartamento|Residencial|2        |3       |3     |1            |1     |2        |4              |60         |Recreio dos Bandeirantes|Zona Oeste|50000.0|400.0|120 |\n",
      "|526755-OBLTYTEN|Outros     |Residencial|0        |0       |0     |0            |0     |0        |0              |200        |Guaratiba               |Zona Oeste|50000.0|0.0  |0   |\n",
      "+---------------+-----------+-----------+---------+--------+------+-------------+------+---------+---------------+-----------+------------------------+----------+-------+-----+----+\n",
      "\n"
     ]
    },
    {
     "name": "stderr",
     "output_type": "stream",
     "text": [
      "                                                                                \r"
     ]
    }
   ],
   "source": [
    "\n",
    "dataset_imoveis.limit(5).show(truncate=False)"
   ]
  },
  {
   "cell_type": "code",
   "execution_count": 24,
   "metadata": {},
   "outputs": [
    {
     "name": "stderr",
     "output_type": "stream",
     "text": [
      "                                                                                \r"
     ]
    }
   ],
   "source": [
    "# Criando as variaves para os textos da coluna unit\n",
    "\n",
    "unit = dataset_imoveis\\\n",
    "    .groupBy(\"customerID\")\\\n",
    "    .pivot('unit')\\\n",
    "    .agg(f.lit(1))\\\n",
    "    .na\\\n",
    "    .fill(0)"
   ]
  },
  {
   "cell_type": "code",
   "execution_count": 25,
   "metadata": {},
   "outputs": [
    {
     "name": "stderr",
     "output_type": "stream",
     "text": [
      "                                                                                \r"
     ]
    }
   ],
   "source": [
    "# Criando as variaves para os textos da coluna zone\n",
    "\n",
    "zone = dataset_imoveis\\\n",
    "    .groupBy(\"customerID\")\\\n",
    "    .pivot('zone')\\\n",
    "    .agg(f.lit(1))\\\n",
    "    .na\\\n",
    "    .fill(0)"
   ]
  },
  {
   "cell_type": "code",
   "execution_count": 26,
   "metadata": {},
   "outputs": [],
   "source": [
    "# unindo as informações de unit e zone ao dataset\n",
    "\n",
    "dataset_imoveis = dataset_imoveis\\\n",
    "    .join(unit, 'customerID', how='inner')\\\n",
    "    .join(zone, 'customerID', how='inner')"
   ]
  },
  {
   "cell_type": "code",
   "execution_count": 27,
   "metadata": {},
   "outputs": [
    {
     "name": "stderr",
     "output_type": "stream",
     "text": [
      "[Stage 53:>                                                         (0 + 1) / 1]\r"
     ]
    },
    {
     "name": "stdout",
     "output_type": "stream",
     "text": [
      "+---------------+-----------+-----------+---------+--------+------+-------------+------+---------+---------------+-----------+--------------------+------------+-------+-----+----+-----------+----+------+------------+----------+----------+--------+\n",
      "|     customerID|       unit|      usage|bathrooms|bedrooms|floors|parkingSpaces|suites|unitFloor|unitsOnTheFloor|usableAreas|        neighborhood|        zone|  price|condo|iptu|Apartamento|Casa|Outros|Zona Central|Zona Norte|Zona Oeste|Zona Sul|\n",
      "+---------------+-----------+-----------+---------+--------+------+-------------+------+---------+---------------+-----------+--------------------+------------+-------+-----+----+-----------+----+------+------------+----------+----------+--------+\n",
      "|775564-BOJSMVON|     Outros|Residencial|        0|       0|     0|            1|     0|        0|              0|         62|             Taquara|  Zona Oeste|45000.0|150.0|   0|          0|   0|     1|           0|         0|         1|       0|\n",
      "|660895-AUENKNYY|Apartamento|Residencial|        1|       2|     0|            1|     0|        0|              0|         44|          Santíssimo|  Zona Oeste|45000.0|120.0|   0|          1|   0|     0|           0|         0|         1|       0|\n",
      "|751522-JESYFEQL|     Outros|Residencial|        0|       0|     0|            0|     0|        0|              0|        132|  Pedra de Guaratiba|  Zona Oeste|50000.0|100.0|   0|          0|   0|     1|           0|         0|         1|       0|\n",
      "|568886-ZIBFOMCC|Apartamento|Residencial|        2|       3|     3|            1|     1|        2|              4|         60|Recreio dos Bande...|  Zona Oeste|50000.0|400.0| 120|          1|   0|     0|           0|         0|         1|       0|\n",
      "|526755-OBLTYTEN|     Outros|Residencial|        0|       0|     0|            0|     0|        0|              0|        200|           Guaratiba|  Zona Oeste|50000.0|  0.0|   0|          0|   0|     1|           0|         0|         1|       0|\n",
      "|792086-NWNQTDYL|Apartamento|Residencial|        1|       1|     0|            1|     0|        0|              0|         33|         Jacarezinho|  Zona Norte|45336.0|  0.0|   0|          1|   0|     0|           0|         1|         0|       0|\n",
      "|339622-MNZGLKTZ|     Outros|Residencial|        0|       0|     0|            0|     0|        0|              0|        120|           Guaratiba|  Zona Oeste|45000.0|  0.0|   0|          0|   0|     1|           0|         0|         1|       0|\n",
      "|952338-SVULQMXR|     Outros|Residencial|        0|       0|     0|            0|     0|        0|              0|        468|          Santa Cruz|  Zona Oeste|45000.0|  0.0|   0|          0|   0|     1|           0|         0|         1|       0|\n",
      "|570439-LDICQOXZ|     Outros|Residencial|        0|       0|     0|            0|     0|        1|              0|        180|       Vargem Grande|  Zona Oeste|50000.0|  0.0|   0|          0|   0|     1|           0|         0|         1|       0|\n",
      "|684023-YTBNKLLO|     Outros|Residencial|        0|       0|     0|            0|     0|        0|              0|        128|               Bangu|  Zona Oeste|50000.0|  0.0|   0|          0|   0|     1|           0|         0|         1|       0|\n",
      "|629412-VKUMMAVR|     Outros|Residencial|        0|       0|     0|            0|     0|        1|              0|         82|              Tanque|  Zona Oeste|45000.0|300.0|   0|          0|   0|     1|           0|         0|         1|       0|\n",
      "|951104-MACIAPIS|Apartamento|Residencial|        2|       3|    20|            1|     1|       20|             19|         70|        Santo Cristo|Zona Central|45000.0|350.0| 120|          1|   0|     0|           1|         0|         0|       0|\n",
      "|375665-GHMFEZXX|Apartamento|Residencial|        2|       3|    20|            1|     1|       20|             19|         70|        Santo Cristo|Zona Central|50000.0|350.0| 120|          1|   0|     0|           1|         0|         0|       0|\n",
      "|441711-LRTWHRUA|Apartamento|Residencial|        1|       1|     0|            0|     0|        2|              0|         37|  Pedra de Guaratiba|  Zona Oeste|50000.0|  0.0|   0|          1|   0|     0|           0|         0|         1|       0|\n",
      "|221946-ENAQETGD|     Outros|Residencial|        0|       0|     0|            0|     0|        0|              0|        120|           Guaratiba|  Zona Oeste|45020.0|  0.0|   0|          0|   0|     1|           0|         0|         1|       0|\n",
      "|023787-PTASXXTL|     Outros|Residencial|        0|       0|     0|            0|     0|        0|              0|        120|           Guaratiba|  Zona Oeste|45040.0|  0.0|   0|          0|   0|     1|           0|         0|         1|       0|\n",
      "|385687-SWOBLUWG|     Outros|Residencial|        0|       0|     0|            0|     0|        0|              0|        150|          Santa Cruz|  Zona Oeste|45000.0|  0.0|   0|          0|   0|     1|           0|         0|         1|       0|\n",
      "|037953-VZOABKON|Apartamento|Residencial|        1|       2|     0|            1|     0|        0|              0|         30|         Coelho Neto|  Zona Norte|45000.0|  0.0|   0|          1|   0|     0|           0|         1|         0|       0|\n",
      "|913561-GIAMXOYU|     Outros|Residencial|        0|       0|     0|            0|     0|        0|              0|        128|           Guaratiba|  Zona Oeste|45000.0|  0.0|   0|          0|   0|     1|           0|         0|         1|       0|\n",
      "|511928-EYKXPKBU|     Outros|Residencial|        0|       0|     0|            0|     0|        0|              0|        120|           Guaratiba|  Zona Oeste|45070.0|  0.0|   0|          0|   0|     1|           0|         0|         1|       0|\n",
      "+---------------+-----------+-----------+---------+--------+------+-------------+------+---------+---------------+-----------+--------------------+------------+-------+-----+----+-----------+----+------+------------+----------+----------+--------+\n",
      "only showing top 20 rows\n",
      "\n"
     ]
    },
    {
     "name": "stderr",
     "output_type": "stream",
     "text": [
      "                                                                                \r"
     ]
    }
   ],
   "source": [
    "# Analisando os dados após a junção\n",
    "\n",
    "dataset_imoveis.show()"
   ]
  },
  {
   "cell_type": "code",
   "execution_count": 28,
   "metadata": {},
   "outputs": [],
   "source": [
    "# A variavel target no Spark deve ser chamada de label, então deve ser renomeada a coluna price para labe\n",
    "\n",
    "dataset_imoveis = dataset_imoveis.withColumnRenamed('price', 'label')"
   ]
  },
  {
   "cell_type": "code",
   "execution_count": 29,
   "metadata": {},
   "outputs": [],
   "source": [
    "# Separação as features X\n",
    "\n",
    "x = [\n",
    " 'bathrooms',\n",
    " 'bedrooms',\n",
    " 'floors',\n",
    " 'parkingSpaces',\n",
    " 'suites',\n",
    " 'unitFloor',\n",
    " 'unitsOnTheFloor',\n",
    " 'usableAreas',\n",
    " 'condo',\n",
    " 'iptu',\n",
    " 'Apartamento',\n",
    " 'Casa',\n",
    " 'Outros',\n",
    " 'Zona Central',\n",
    " 'Zona Norte',\n",
    " 'Zona Oeste',\n",
    " 'Zona Sul'\n",
    " ]"
   ]
  },
  {
   "cell_type": "code",
   "execution_count": 30,
   "metadata": {},
   "outputs": [],
   "source": [
    "# Importação da biblioteca que fará a Vetorização dos dados\n",
    "\n",
    "from pyspark.ml.feature import VectorAssembler\n",
    "\n",
    "# Realizando a vetorização dos meus dados\n",
    "\n",
    "assembler = VectorAssembler(inputCols=x, outputCol= 'features')"
   ]
  },
  {
   "cell_type": "code",
   "execution_count": 31,
   "metadata": {},
   "outputs": [],
   "source": [
    "# Aplicando a vetorização ao meu dataset\n",
    "\n",
    "dataset_imoveis_transformado = assembler.transform(dataset_imoveis).select('features', 'label') "
   ]
  },
  {
   "cell_type": "code",
   "execution_count": 32,
   "metadata": {},
   "outputs": [
    {
     "name": "stderr",
     "output_type": "stream",
     "text": [
      "24/08/21 21:31:02 WARN SparkStringUtils: Truncated the string representation of a plan since it was too large. This behavior can be adjusted by setting 'spark.sql.debug.maxToStringFields'.\n",
      "[Stage 66:>                                                         (0 + 1) / 1]\r"
     ]
    },
    {
     "name": "stdout",
     "output_type": "stream",
     "text": [
      "+-----------------------------------------------------------------------------+-------+\n",
      "|features                                                                     |label  |\n",
      "+-----------------------------------------------------------------------------+-------+\n",
      "|(17,[3,7,8,12,15],[1.0,62.0,150.0,1.0,1.0])                                  |45000.0|\n",
      "|(17,[0,1,3,7,8,10,15],[1.0,2.0,1.0,44.0,120.0,1.0,1.0])                      |45000.0|\n",
      "|(17,[7,8,12,15],[132.0,100.0,1.0,1.0])                                       |50000.0|\n",
      "|[2.0,3.0,3.0,1.0,1.0,2.0,4.0,60.0,400.0,120.0,1.0,0.0,0.0,0.0,0.0,1.0,0.0]   |50000.0|\n",
      "|(17,[7,12,15],[200.0,1.0,1.0])                                               |50000.0|\n",
      "|(17,[0,1,3,7,10,14],[1.0,1.0,1.0,33.0,1.0,1.0])                              |45336.0|\n",
      "|(17,[7,12,15],[120.0,1.0,1.0])                                               |45000.0|\n",
      "|(17,[7,12,15],[468.0,1.0,1.0])                                               |45000.0|\n",
      "|(17,[5,7,12,15],[1.0,180.0,1.0,1.0])                                         |50000.0|\n",
      "|(17,[7,12,15],[128.0,1.0,1.0])                                               |50000.0|\n",
      "|(17,[5,7,8,12,15],[1.0,82.0,300.0,1.0,1.0])                                  |45000.0|\n",
      "|[2.0,3.0,20.0,1.0,1.0,20.0,19.0,70.0,350.0,120.0,1.0,0.0,0.0,1.0,0.0,0.0,0.0]|45000.0|\n",
      "|[2.0,3.0,20.0,1.0,1.0,20.0,19.0,70.0,350.0,120.0,1.0,0.0,0.0,1.0,0.0,0.0,0.0]|50000.0|\n",
      "|(17,[0,1,5,7,10,15],[1.0,1.0,2.0,37.0,1.0,1.0])                              |50000.0|\n",
      "|(17,[7,12,15],[120.0,1.0,1.0])                                               |45020.0|\n",
      "|(17,[7,12,15],[120.0,1.0,1.0])                                               |45040.0|\n",
      "|(17,[7,12,15],[150.0,1.0,1.0])                                               |45000.0|\n",
      "|(17,[0,1,3,7,10,14],[1.0,2.0,1.0,30.0,1.0,1.0])                              |45000.0|\n",
      "|(17,[7,12,15],[128.0,1.0,1.0])                                               |45000.0|\n",
      "|(17,[7,12,15],[120.0,1.0,1.0])                                               |45070.0|\n",
      "+-----------------------------------------------------------------------------+-------+\n",
      "only showing top 20 rows\n",
      "\n"
     ]
    },
    {
     "name": "stderr",
     "output_type": "stream",
     "text": [
      "                                                                                \r"
     ]
    }
   ],
   "source": [
    "dataset_imoveis_transformado.show(truncate=False)"
   ]
  },
  {
   "cell_type": "code",
   "execution_count": 33,
   "metadata": {},
   "outputs": [
    {
     "name": "stderr",
     "output_type": "stream",
     "text": [
      "24/08/21 21:31:15 WARN InstanceBuilder: Failed to load implementation from:dev.ludovic.netlib.blas.JNIBLAS\n",
      "                                                                                \r"
     ]
    },
    {
     "data": {
      "text/plain": [
       "[Row(pearson(features)=DenseMatrix(17, 17, [1.0, 0.6659, -0.0446, 0.4876, 0.7529, 0.0076, -0.1074, 0.5981, ..., 0.0088, 0.1803, -0.1833, -0.0165, -0.073, -0.3084, -0.6176, 1.0], False))]"
      ]
     },
     "execution_count": 33,
     "metadata": {},
     "output_type": "execute_result"
    }
   ],
   "source": [
    "# Analisando a correlação dos dados antes de iniciar o aprendizado de máquina\n",
    "\n",
    "# Bibliotecas\n",
    "from pyspark.ml.stat import Correlation\n",
    "\n",
    "\n",
    "# Calculando a correlação \n",
    "correlacao = Correlation.corr(dataset_imoveis_transformado, 'features').collect()\n",
    "correlacao"
   ]
  },
  {
   "cell_type": "markdown",
   "metadata": {},
   "source": [
    "* Observe que o resultado do cálculo da correlação não trouxe um gráfico demonstrando a correlação, para isso deve ser coletado o objeto da linha 1 [0] e coluna 1 [0]"
   ]
  },
  {
   "cell_type": "code",
   "execution_count": 34,
   "metadata": {},
   "outputs": [
    {
     "name": "stderr",
     "output_type": "stream",
     "text": [
      "                                                                                \r"
     ]
    },
    {
     "data": {
      "text/html": [
       "<div>\n",
       "<style scoped>\n",
       "    .dataframe tbody tr th:only-of-type {\n",
       "        vertical-align: middle;\n",
       "    }\n",
       "\n",
       "    .dataframe tbody tr th {\n",
       "        vertical-align: top;\n",
       "    }\n",
       "\n",
       "    .dataframe thead th {\n",
       "        text-align: right;\n",
       "    }\n",
       "</style>\n",
       "<table border=\"1\" class=\"dataframe\">\n",
       "  <thead>\n",
       "    <tr style=\"text-align: right;\">\n",
       "      <th></th>\n",
       "      <th>bathrooms</th>\n",
       "      <th>bedrooms</th>\n",
       "      <th>floors</th>\n",
       "      <th>parkingSpaces</th>\n",
       "      <th>suites</th>\n",
       "      <th>unitFloor</th>\n",
       "      <th>unitsOnTheFloor</th>\n",
       "      <th>usableAreas</th>\n",
       "      <th>condo</th>\n",
       "      <th>iptu</th>\n",
       "      <th>Apartamento</th>\n",
       "      <th>Casa</th>\n",
       "      <th>Outros</th>\n",
       "      <th>Zona Central</th>\n",
       "      <th>Zona Norte</th>\n",
       "      <th>Zona Oeste</th>\n",
       "      <th>Zona Sul</th>\n",
       "    </tr>\n",
       "  </thead>\n",
       "  <tbody>\n",
       "    <tr>\n",
       "      <th>bathrooms</th>\n",
       "      <td>1.000000</td>\n",
       "      <td>0.665911</td>\n",
       "      <td>-0.044591</td>\n",
       "      <td>0.487590</td>\n",
       "      <td>0.752928</td>\n",
       "      <td>0.007624</td>\n",
       "      <td>-0.107437</td>\n",
       "      <td>0.598073</td>\n",
       "      <td>0.020030</td>\n",
       "      <td>0.015102</td>\n",
       "      <td>-0.275458</td>\n",
       "      <td>0.343042</td>\n",
       "      <td>-0.140183</td>\n",
       "      <td>-0.097368</td>\n",
       "      <td>-0.162497</td>\n",
       "      <td>0.242345</td>\n",
       "      <td>-0.098752</td>\n",
       "    </tr>\n",
       "    <tr>\n",
       "      <th>bedrooms</th>\n",
       "      <td>0.665911</td>\n",
       "      <td>1.000000</td>\n",
       "      <td>-0.082184</td>\n",
       "      <td>0.467161</td>\n",
       "      <td>0.601199</td>\n",
       "      <td>-0.007162</td>\n",
       "      <td>-0.130814</td>\n",
       "      <td>0.563750</td>\n",
       "      <td>0.018482</td>\n",
       "      <td>0.013639</td>\n",
       "      <td>-0.258339</td>\n",
       "      <td>0.349962</td>\n",
       "      <td>-0.205608</td>\n",
       "      <td>-0.123732</td>\n",
       "      <td>-0.111712</td>\n",
       "      <td>0.163822</td>\n",
       "      <td>-0.049433</td>\n",
       "    </tr>\n",
       "    <tr>\n",
       "      <th>floors</th>\n",
       "      <td>-0.044591</td>\n",
       "      <td>-0.082184</td>\n",
       "      <td>1.000000</td>\n",
       "      <td>-0.048486</td>\n",
       "      <td>-0.048106</td>\n",
       "      <td>0.120982</td>\n",
       "      <td>0.737717</td>\n",
       "      <td>-0.103917</td>\n",
       "      <td>0.013797</td>\n",
       "      <td>0.006688</td>\n",
       "      <td>0.153947</td>\n",
       "      <td>-0.142090</td>\n",
       "      <td>-0.051946</td>\n",
       "      <td>0.126044</td>\n",
       "      <td>-0.016926</td>\n",
       "      <td>-0.031750</td>\n",
       "      <td>0.017402</td>\n",
       "    </tr>\n",
       "    <tr>\n",
       "      <th>parkingSpaces</th>\n",
       "      <td>0.487590</td>\n",
       "      <td>0.467161</td>\n",
       "      <td>-0.048486</td>\n",
       "      <td>1.000000</td>\n",
       "      <td>0.484988</td>\n",
       "      <td>0.003768</td>\n",
       "      <td>-0.074527</td>\n",
       "      <td>0.483732</td>\n",
       "      <td>0.018012</td>\n",
       "      <td>0.009721</td>\n",
       "      <td>-0.252746</td>\n",
       "      <td>0.293326</td>\n",
       "      <td>-0.072359</td>\n",
       "      <td>-0.086437</td>\n",
       "      <td>-0.109957</td>\n",
       "      <td>0.267990</td>\n",
       "      <td>-0.178807</td>\n",
       "    </tr>\n",
       "    <tr>\n",
       "      <th>suites</th>\n",
       "      <td>0.752928</td>\n",
       "      <td>0.601199</td>\n",
       "      <td>-0.048106</td>\n",
       "      <td>0.484988</td>\n",
       "      <td>1.000000</td>\n",
       "      <td>0.005206</td>\n",
       "      <td>-0.091914</td>\n",
       "      <td>0.577636</td>\n",
       "      <td>0.023461</td>\n",
       "      <td>0.019093</td>\n",
       "      <td>-0.236217</td>\n",
       "      <td>0.282221</td>\n",
       "      <td>-0.088834</td>\n",
       "      <td>-0.084417</td>\n",
       "      <td>-0.230317</td>\n",
       "      <td>0.327546</td>\n",
       "      <td>-0.136398</td>\n",
       "    </tr>\n",
       "    <tr>\n",
       "      <th>unitFloor</th>\n",
       "      <td>0.007624</td>\n",
       "      <td>-0.007162</td>\n",
       "      <td>0.120982</td>\n",
       "      <td>0.003768</td>\n",
       "      <td>0.005206</td>\n",
       "      <td>1.000000</td>\n",
       "      <td>0.092359</td>\n",
       "      <td>-0.012748</td>\n",
       "      <td>0.003065</td>\n",
       "      <td>0.001200</td>\n",
       "      <td>0.034674</td>\n",
       "      <td>-0.031403</td>\n",
       "      <td>-0.013275</td>\n",
       "      <td>0.022315</td>\n",
       "      <td>-0.011112</td>\n",
       "      <td>0.007518</td>\n",
       "      <td>-0.004333</td>\n",
       "    </tr>\n",
       "    <tr>\n",
       "      <th>unitsOnTheFloor</th>\n",
       "      <td>-0.107437</td>\n",
       "      <td>-0.130814</td>\n",
       "      <td>0.737717</td>\n",
       "      <td>-0.074527</td>\n",
       "      <td>-0.091914</td>\n",
       "      <td>0.092359</td>\n",
       "      <td>1.000000</td>\n",
       "      <td>-0.144222</td>\n",
       "      <td>-0.000554</td>\n",
       "      <td>0.005029</td>\n",
       "      <td>0.147497</td>\n",
       "      <td>-0.137754</td>\n",
       "      <td>-0.045523</td>\n",
       "      <td>0.153639</td>\n",
       "      <td>0.030753</td>\n",
       "      <td>-0.012434</td>\n",
       "      <td>-0.055540</td>\n",
       "    </tr>\n",
       "    <tr>\n",
       "      <th>usableAreas</th>\n",
       "      <td>0.598073</td>\n",
       "      <td>0.563750</td>\n",
       "      <td>-0.103917</td>\n",
       "      <td>0.483732</td>\n",
       "      <td>0.577636</td>\n",
       "      <td>-0.012748</td>\n",
       "      <td>-0.144222</td>\n",
       "      <td>1.000000</td>\n",
       "      <td>0.019717</td>\n",
       "      <td>0.014656</td>\n",
       "      <td>-0.482170</td>\n",
       "      <td>0.459136</td>\n",
       "      <td>0.125672</td>\n",
       "      <td>-0.075256</td>\n",
       "      <td>-0.158553</td>\n",
       "      <td>0.192466</td>\n",
       "      <td>-0.051962</td>\n",
       "    </tr>\n",
       "    <tr>\n",
       "      <th>condo</th>\n",
       "      <td>0.020030</td>\n",
       "      <td>0.018482</td>\n",
       "      <td>0.013797</td>\n",
       "      <td>0.018012</td>\n",
       "      <td>0.023461</td>\n",
       "      <td>0.003065</td>\n",
       "      <td>-0.000554</td>\n",
       "      <td>0.019717</td>\n",
       "      <td>1.000000</td>\n",
       "      <td>0.226212</td>\n",
       "      <td>0.009105</td>\n",
       "      <td>-0.008624</td>\n",
       "      <td>-0.002495</td>\n",
       "      <td>-0.003553</td>\n",
       "      <td>-0.013453</td>\n",
       "      <td>-0.001055</td>\n",
       "      <td>0.014474</td>\n",
       "    </tr>\n",
       "    <tr>\n",
       "      <th>iptu</th>\n",
       "      <td>0.015102</td>\n",
       "      <td>0.013639</td>\n",
       "      <td>0.006688</td>\n",
       "      <td>0.009721</td>\n",
       "      <td>0.019093</td>\n",
       "      <td>0.001200</td>\n",
       "      <td>0.005029</td>\n",
       "      <td>0.014656</td>\n",
       "      <td>0.226212</td>\n",
       "      <td>1.000000</td>\n",
       "      <td>-0.001502</td>\n",
       "      <td>0.002291</td>\n",
       "      <td>-0.001870</td>\n",
       "      <td>-0.002438</td>\n",
       "      <td>-0.008400</td>\n",
       "      <td>-0.000428</td>\n",
       "      <td>0.008835</td>\n",
       "    </tr>\n",
       "    <tr>\n",
       "      <th>Apartamento</th>\n",
       "      <td>-0.275458</td>\n",
       "      <td>-0.258339</td>\n",
       "      <td>0.153947</td>\n",
       "      <td>-0.252746</td>\n",
       "      <td>-0.236217</td>\n",
       "      <td>0.034674</td>\n",
       "      <td>0.147497</td>\n",
       "      <td>-0.482170</td>\n",
       "      <td>0.009105</td>\n",
       "      <td>-0.001502</td>\n",
       "      <td>1.000000</td>\n",
       "      <td>-0.932270</td>\n",
       "      <td>-0.313032</td>\n",
       "      <td>0.034073</td>\n",
       "      <td>0.010312</td>\n",
       "      <td>-0.176033</td>\n",
       "      <td>0.180288</td>\n",
       "    </tr>\n",
       "    <tr>\n",
       "      <th>Casa</th>\n",
       "      <td>0.343042</td>\n",
       "      <td>0.349962</td>\n",
       "      <td>-0.142090</td>\n",
       "      <td>0.293326</td>\n",
       "      <td>0.282221</td>\n",
       "      <td>-0.031403</td>\n",
       "      <td>-0.137754</td>\n",
       "      <td>0.459136</td>\n",
       "      <td>-0.008624</td>\n",
       "      <td>0.002291</td>\n",
       "      <td>-0.932270</td>\n",
       "      <td>1.000000</td>\n",
       "      <td>-0.051751</td>\n",
       "      <td>-0.041823</td>\n",
       "      <td>-0.007961</td>\n",
       "      <td>0.178640</td>\n",
       "      <td>-0.183298</td>\n",
       "    </tr>\n",
       "    <tr>\n",
       "      <th>Outros</th>\n",
       "      <td>-0.140183</td>\n",
       "      <td>-0.205608</td>\n",
       "      <td>-0.051946</td>\n",
       "      <td>-0.072359</td>\n",
       "      <td>-0.088834</td>\n",
       "      <td>-0.013275</td>\n",
       "      <td>-0.045523</td>\n",
       "      <td>0.125672</td>\n",
       "      <td>-0.002495</td>\n",
       "      <td>-0.001870</td>\n",
       "      <td>-0.313032</td>\n",
       "      <td>-0.051751</td>\n",
       "      <td>1.000000</td>\n",
       "      <td>0.015738</td>\n",
       "      <td>-0.007568</td>\n",
       "      <td>0.016960</td>\n",
       "      <td>-0.016476</td>\n",
       "    </tr>\n",
       "    <tr>\n",
       "      <th>Zona Central</th>\n",
       "      <td>-0.097368</td>\n",
       "      <td>-0.123732</td>\n",
       "      <td>0.126044</td>\n",
       "      <td>-0.086437</td>\n",
       "      <td>-0.084417</td>\n",
       "      <td>0.022315</td>\n",
       "      <td>0.153639</td>\n",
       "      <td>-0.075256</td>\n",
       "      <td>-0.003553</td>\n",
       "      <td>-0.002438</td>\n",
       "      <td>0.034073</td>\n",
       "      <td>-0.041823</td>\n",
       "      <td>0.015738</td>\n",
       "      <td>1.000000</td>\n",
       "      <td>-0.061835</td>\n",
       "      <td>-0.123834</td>\n",
       "      <td>-0.073014</td>\n",
       "    </tr>\n",
       "    <tr>\n",
       "      <th>Zona Norte</th>\n",
       "      <td>-0.162497</td>\n",
       "      <td>-0.111712</td>\n",
       "      <td>-0.016926</td>\n",
       "      <td>-0.109957</td>\n",
       "      <td>-0.230317</td>\n",
       "      <td>-0.011112</td>\n",
       "      <td>0.030753</td>\n",
       "      <td>-0.158553</td>\n",
       "      <td>-0.013453</td>\n",
       "      <td>-0.008400</td>\n",
       "      <td>0.010312</td>\n",
       "      <td>-0.007961</td>\n",
       "      <td>-0.007568</td>\n",
       "      <td>-0.061835</td>\n",
       "      <td>1.000000</td>\n",
       "      <td>-0.522996</td>\n",
       "      <td>-0.308366</td>\n",
       "    </tr>\n",
       "    <tr>\n",
       "      <th>Zona Oeste</th>\n",
       "      <td>0.242345</td>\n",
       "      <td>0.163822</td>\n",
       "      <td>-0.031750</td>\n",
       "      <td>0.267990</td>\n",
       "      <td>0.327546</td>\n",
       "      <td>0.007518</td>\n",
       "      <td>-0.012434</td>\n",
       "      <td>0.192466</td>\n",
       "      <td>-0.001055</td>\n",
       "      <td>-0.000428</td>\n",
       "      <td>-0.176033</td>\n",
       "      <td>0.178640</td>\n",
       "      <td>0.016960</td>\n",
       "      <td>-0.123834</td>\n",
       "      <td>-0.522996</td>\n",
       "      <td>1.000000</td>\n",
       "      <td>-0.617551</td>\n",
       "    </tr>\n",
       "    <tr>\n",
       "      <th>Zona Sul</th>\n",
       "      <td>-0.098752</td>\n",
       "      <td>-0.049433</td>\n",
       "      <td>0.017402</td>\n",
       "      <td>-0.178807</td>\n",
       "      <td>-0.136398</td>\n",
       "      <td>-0.004333</td>\n",
       "      <td>-0.055540</td>\n",
       "      <td>-0.051962</td>\n",
       "      <td>0.014474</td>\n",
       "      <td>0.008835</td>\n",
       "      <td>0.180288</td>\n",
       "      <td>-0.183298</td>\n",
       "      <td>-0.016476</td>\n",
       "      <td>-0.073014</td>\n",
       "      <td>-0.308366</td>\n",
       "      <td>-0.617551</td>\n",
       "      <td>1.000000</td>\n",
       "    </tr>\n",
       "  </tbody>\n",
       "</table>\n",
       "</div>"
      ],
      "text/plain": [
       "                 bathrooms  bedrooms    floors  parkingSpaces    suites  \\\n",
       "bathrooms         1.000000  0.665911 -0.044591       0.487590  0.752928   \n",
       "bedrooms          0.665911  1.000000 -0.082184       0.467161  0.601199   \n",
       "floors           -0.044591 -0.082184  1.000000      -0.048486 -0.048106   \n",
       "parkingSpaces     0.487590  0.467161 -0.048486       1.000000  0.484988   \n",
       "suites            0.752928  0.601199 -0.048106       0.484988  1.000000   \n",
       "unitFloor         0.007624 -0.007162  0.120982       0.003768  0.005206   \n",
       "unitsOnTheFloor  -0.107437 -0.130814  0.737717      -0.074527 -0.091914   \n",
       "usableAreas       0.598073  0.563750 -0.103917       0.483732  0.577636   \n",
       "condo             0.020030  0.018482  0.013797       0.018012  0.023461   \n",
       "iptu              0.015102  0.013639  0.006688       0.009721  0.019093   \n",
       "Apartamento      -0.275458 -0.258339  0.153947      -0.252746 -0.236217   \n",
       "Casa              0.343042  0.349962 -0.142090       0.293326  0.282221   \n",
       "Outros           -0.140183 -0.205608 -0.051946      -0.072359 -0.088834   \n",
       "Zona Central     -0.097368 -0.123732  0.126044      -0.086437 -0.084417   \n",
       "Zona Norte       -0.162497 -0.111712 -0.016926      -0.109957 -0.230317   \n",
       "Zona Oeste        0.242345  0.163822 -0.031750       0.267990  0.327546   \n",
       "Zona Sul         -0.098752 -0.049433  0.017402      -0.178807 -0.136398   \n",
       "\n",
       "                 unitFloor  unitsOnTheFloor  usableAreas     condo      iptu  \\\n",
       "bathrooms         0.007624        -0.107437     0.598073  0.020030  0.015102   \n",
       "bedrooms         -0.007162        -0.130814     0.563750  0.018482  0.013639   \n",
       "floors            0.120982         0.737717    -0.103917  0.013797  0.006688   \n",
       "parkingSpaces     0.003768        -0.074527     0.483732  0.018012  0.009721   \n",
       "suites            0.005206        -0.091914     0.577636  0.023461  0.019093   \n",
       "unitFloor         1.000000         0.092359    -0.012748  0.003065  0.001200   \n",
       "unitsOnTheFloor   0.092359         1.000000    -0.144222 -0.000554  0.005029   \n",
       "usableAreas      -0.012748        -0.144222     1.000000  0.019717  0.014656   \n",
       "condo             0.003065        -0.000554     0.019717  1.000000  0.226212   \n",
       "iptu              0.001200         0.005029     0.014656  0.226212  1.000000   \n",
       "Apartamento       0.034674         0.147497    -0.482170  0.009105 -0.001502   \n",
       "Casa             -0.031403        -0.137754     0.459136 -0.008624  0.002291   \n",
       "Outros           -0.013275        -0.045523     0.125672 -0.002495 -0.001870   \n",
       "Zona Central      0.022315         0.153639    -0.075256 -0.003553 -0.002438   \n",
       "Zona Norte       -0.011112         0.030753    -0.158553 -0.013453 -0.008400   \n",
       "Zona Oeste        0.007518        -0.012434     0.192466 -0.001055 -0.000428   \n",
       "Zona Sul         -0.004333        -0.055540    -0.051962  0.014474  0.008835   \n",
       "\n",
       "                 Apartamento      Casa    Outros  Zona Central  Zona Norte  \\\n",
       "bathrooms          -0.275458  0.343042 -0.140183     -0.097368   -0.162497   \n",
       "bedrooms           -0.258339  0.349962 -0.205608     -0.123732   -0.111712   \n",
       "floors              0.153947 -0.142090 -0.051946      0.126044   -0.016926   \n",
       "parkingSpaces      -0.252746  0.293326 -0.072359     -0.086437   -0.109957   \n",
       "suites             -0.236217  0.282221 -0.088834     -0.084417   -0.230317   \n",
       "unitFloor           0.034674 -0.031403 -0.013275      0.022315   -0.011112   \n",
       "unitsOnTheFloor     0.147497 -0.137754 -0.045523      0.153639    0.030753   \n",
       "usableAreas        -0.482170  0.459136  0.125672     -0.075256   -0.158553   \n",
       "condo               0.009105 -0.008624 -0.002495     -0.003553   -0.013453   \n",
       "iptu               -0.001502  0.002291 -0.001870     -0.002438   -0.008400   \n",
       "Apartamento         1.000000 -0.932270 -0.313032      0.034073    0.010312   \n",
       "Casa               -0.932270  1.000000 -0.051751     -0.041823   -0.007961   \n",
       "Outros             -0.313032 -0.051751  1.000000      0.015738   -0.007568   \n",
       "Zona Central        0.034073 -0.041823  0.015738      1.000000   -0.061835   \n",
       "Zona Norte          0.010312 -0.007961 -0.007568     -0.061835    1.000000   \n",
       "Zona Oeste         -0.176033  0.178640  0.016960     -0.123834   -0.522996   \n",
       "Zona Sul            0.180288 -0.183298 -0.016476     -0.073014   -0.308366   \n",
       "\n",
       "                 Zona Oeste  Zona Sul  \n",
       "bathrooms          0.242345 -0.098752  \n",
       "bedrooms           0.163822 -0.049433  \n",
       "floors            -0.031750  0.017402  \n",
       "parkingSpaces      0.267990 -0.178807  \n",
       "suites             0.327546 -0.136398  \n",
       "unitFloor          0.007518 -0.004333  \n",
       "unitsOnTheFloor   -0.012434 -0.055540  \n",
       "usableAreas        0.192466 -0.051962  \n",
       "condo             -0.001055  0.014474  \n",
       "iptu              -0.000428  0.008835  \n",
       "Apartamento       -0.176033  0.180288  \n",
       "Casa               0.178640 -0.183298  \n",
       "Outros             0.016960 -0.016476  \n",
       "Zona Central      -0.123834 -0.073014  \n",
       "Zona Norte        -0.522996 -0.308366  \n",
       "Zona Oeste         1.000000 -0.617551  \n",
       "Zona Sul          -0.617551  1.000000  "
      ]
     },
     "execution_count": 34,
     "metadata": {},
     "output_type": "execute_result"
    }
   ],
   "source": [
    "# Coletando os dados para plotar a correlação de person densa\n",
    "correlacao = Correlation.corr(dataset_imoveis_transformado, 'features').collect()[0][0]\n",
    "\n",
    "# Contruindo uma lista de array para plotar a correlação\n",
    "Data_Frame_array = correlacao.toArray()\n",
    "\n",
    "# Importando pandas \n",
    "import pandas as pd\n",
    "\n",
    "# Criando um Data Frame pandas para plotar a correlação\n",
    "Data_Frame_array = pd.DataFrame(Data_Frame_array, columns=x, index=x)\n",
    "Data_Frame_array"
   ]
  },
  {
   "cell_type": "code",
   "execution_count": 35,
   "metadata": {},
   "outputs": [
    {
     "data": {
      "text/plain": [
       "<Axes: >"
      ]
     },
     "execution_count": 35,
     "metadata": {},
     "output_type": "execute_result"
    },
    {
     "data": {
      "image/png": "[encoded data removed]",
      "text/plain": [
       "<Figure size 1200x1000 with 2 Axes>"
      ]
     },
     "metadata": {},
     "output_type": "display_data"
    }
   ],
   "source": [
    "# Importação de Matplotlib para plotar a correlação\n",
    "import matplotlib.pyplot as plt\n",
    "import seaborn as sns\n",
    "\n",
    "# Plotando \n",
    "plt.figure(figsize=(12,10))\n",
    "paleta = sns.color_palette(\"ch:s=.25,rot=-.25\", as_cmap=True)\n",
    "sns.heatmap(Data_Frame_array.round(1), annot=True, cmap=paleta)"
   ]
  },
  {
   "cell_type": "markdown",
   "metadata": {},
   "source": [
    "### 3.1.2 Previsão"
   ]
  },
  {
   "cell_type": "code",
   "execution_count": 75,
   "metadata": {},
   "outputs": [],
   "source": [
    "# importação da biblioteca para gerar a previsão\n",
    "from pyspark.ml.regression import LinearRegression\n",
    "\n",
    "# Dividindo o DataSet em teste e treino\n",
    "teste, treino = dataset_imoveis_transformado.randomSplit([0.3, 0.7], seed=101)"
   ]
  },
  {
   "cell_type": "code",
   "execution_count": 76,
   "metadata": {},
   "outputs": [
    {
     "name": "stderr",
     "output_type": "stream",
     "text": [
      "24/08/21 21:53:26 WARN Instrumentation: [a3b44d56] regParam is zero, which might cause numerical instability and overfitting.\n",
      "24/08/21 21:53:28 WARN Instrumentation: [a3b44d56] Cholesky solver failed due to singular covariance matrix. Retrying with Quasi-Newton solver.\n",
      "                                                                                \r"
     ]
    }
   ],
   "source": [
    "# Criando um modelo de regressão linear\n",
    "lr = LinearRegression()\n",
    "\n",
    "# Realizando o treinamento com regressão\n",
    "modelo_lr = lr.fit(treino)"
   ]
  },
  {
   "cell_type": "code",
   "execution_count": 77,
   "metadata": {},
   "outputs": [
    {
     "name": "stderr",
     "output_type": "stream",
     "text": [
      "[Stage 4561:>                                                       (0 + 1) / 1]\r"
     ]
    },
    {
     "name": "stdout",
     "output_type": "stream",
     "text": [
      "+--------------------+--------+------------------+\n",
      "|            features|   label|        prediction|\n",
      "+--------------------+--------+------------------+\n",
      "|(17,[0,1,2,3,4,5,...|500000.0|1141075.7508833194|\n",
      "|(17,[0,1,2,3,4,5,...|308615.0| 91523.59866230481|\n",
      "|(17,[0,1,2,3,4,5,...|279000.0| 103348.7868345239|\n",
      "|(17,[0,1,2,3,4,5,...|199000.0|216671.55184572842|\n",
      "|(17,[0,1,2,3,4,5,...|350000.0| 605431.3994218715|\n",
      "|(17,[0,1,2,3,4,5,...|449000.0|396213.05468546925|\n",
      "|(17,[0,1,2,3,4,5,...|420000.0| 684891.1497766905|\n",
      "|(17,[0,1,2,3,4,5,...|490000.0| 830906.1428562853|\n",
      "|(17,[0,1,2,3,4,5,...|379900.0| 441401.9609484724|\n",
      "|(17,[0,1,2,3,4,5,...|340000.0| 510531.4604253443|\n",
      "|(17,[0,1,2,3,4,5,...|430000.0|449303.42811357696|\n",
      "|(17,[0,1,2,3,4,5,...|190000.0|409003.35066157184|\n",
      "|(17,[0,1,2,3,4,5,...|600000.0|  799335.090521926|\n",
      "|(17,[0,1,2,3,4,5,...|896000.0| 596277.5755183351|\n",
      "|(17,[0,1,2,3,4,5,...|439000.0| 534708.1060561001|\n",
      "|(17,[0,1,2,3,4,5,...|333000.0|337035.15630267095|\n",
      "|(17,[0,1,2,3,4,5,...|948000.0| 603902.9214502362|\n",
      "|(17,[0,1,2,3,4,5,...|727000.0| 411427.2818657481|\n",
      "|(17,[0,1,2,3,4,5,...|880000.0| 744031.4186479648|\n",
      "|(17,[0,1,2,3,4,5,...|960100.0| 982492.0424553243|\n",
      "+--------------------+--------+------------------+\n",
      "only showing top 20 rows\n",
      "\n"
     ]
    },
    {
     "name": "stderr",
     "output_type": "stream",
     "text": [
      "                                                                                \r"
     ]
    }
   ],
   "source": [
    "# Criando uma previsão com os dados de treino\n",
    "previsoes_lr_treino = modelo_lr.transform(treino)\n",
    "previsoes_lr_treino.show() "
   ]
  },
  {
   "cell_type": "markdown",
   "metadata": {},
   "source": [
    "### Podemos avaliar que foi criado a coluna prediction, visualmente é possivel validar que o modelo não teve uma performance alta, em alguns casos a distância entre Label (Custo real) e prediction (Custo previsto) é grande, esse modelo gerou pouca confiança."
   ]
  },
  {
   "cell_type": "markdown",
   "metadata": {},
   "source": [
    "### 3.1.3 Análise do modelo e Cálculo de métricas "
   ]
  },
  {
   "cell_type": "markdown",
   "metadata": {},
   "source": [
    "* Estaremos utilizando as métricas R2 e RMSE\n",
    "\n",
    "R2 - R² (Coeficiente de Determinação), O R² mede a proporção da variabilidade nos dados de saída que é explicada pelo modelo. É uma métrica que indica o quão bem as previsões do modelo se ajustam aos dados observados.\n",
    "\n",
    "RMSE - (Erro Quadrático Médio da Raiz), O RMSE é a raiz quadrada da média dos quadrados dos erros entre os valores previstos pelo modelo e os valores reais. Ele mede a média da magnitude dos erros de previsão."
   ]
  },
  {
   "cell_type": "code",
   "execution_count": 78,
   "metadata": {},
   "outputs": [
    {
     "name": "stderr",
     "output_type": "stream",
     "text": [
      "                                                                                \r"
     ]
    }
   ],
   "source": [
    "# Trazendo um resumo do treino\n",
    "previsoes_lr_treino =  modelo_lr.summary\n",
    "\n",
    "# Aferindo o modelo com os dados de Teste\n",
    "previsoes_lr_teste = modelo_lr.evaluate(teste)"
   ]
  },
  {
   "cell_type": "markdown",
   "metadata": {},
   "source": [
    "### 3.1.4 Criando uma tabela com a performance do modelo"
   ]
  },
  {
   "cell_type": "code",
   "execution_count": 79,
   "metadata": {},
   "outputs": [
    {
     "name": "stdout",
     "output_type": "stream",
     "text": [
      "Linear Regression\n",
      "******************************\n",
      "Dados de Treino\n",
      "******************************\n",
      "R²: 0.661251\n",
      "RMSE: 809660.946724\n",
      "\n",
      "******************************\n",
      "Dados de Teste\n",
      "******************************\n",
      "R²: 0.668878\n",
      "RMSE: 802037.226067\n"
     ]
    }
   ],
   "source": [
    "# Impressão das métricas\n",
    "\n",
    "print('Linear Regression')\n",
    "print(\"*\"*30)\n",
    "print(\"Dados de Treino\")\n",
    "print(\"*\"*30)\n",
    "print(\"R²: %f\" % previsoes_lr_treino.r2)\n",
    "print(\"RMSE: %f\" % previsoes_lr_treino.rootMeanSquaredError)\n",
    "#print(\"Acurácia: %f\" % resumo_treino_lr.accuracy)\n",
    "print(\"\")\n",
    "print(\"*\"*30)\n",
    "print(\"Dados de Teste\")\n",
    "print(\"*\"*30)\n",
    "print(\"R²: %f\" % previsoes_lr_teste.r2)\n",
    "print(\"RMSE: %f\" % previsoes_lr_teste.rootMeanSquaredError)"
   ]
  },
  {
   "cell_type": "markdown",
   "metadata": {},
   "source": [
    "# 3.2 Modelo decision tree"
   ]
  },
  {
   "cell_type": "markdown",
   "metadata": {},
   "source": [
    "### 3.2.1 Previsão"
   ]
  },
  {
   "cell_type": "code",
   "execution_count": 41,
   "metadata": {},
   "outputs": [],
   "source": [
    "# Biblioteca da arvore de decisão\n",
    "from pyspark.ml.regression import DecisionTreeRegressor\n",
    "\n",
    "# Criando o modelo de arvore de decisão\n",
    "dtr = DecisionTreeRegressor(seed=101, maxDepth=7)\n",
    "\n",
    "# maxDepth = Profundidade de minha arvore ou a quantidade de decisoes\n",
    "# seed = Uma numeração que faz o resultado não ser aleatorio todas as vezes que rodar o codigo"
   ]
  },
  {
   "cell_type": "code",
   "execution_count": 42,
   "metadata": {},
   "outputs": [
    {
     "name": "stderr",
     "output_type": "stream",
     "text": [
      "                                                                                \r"
     ]
    }
   ],
   "source": [
    "# Treinar modelo\n",
    "modelo_dtr = dtr.fit(treino)"
   ]
  },
  {
   "cell_type": "code",
   "execution_count": 43,
   "metadata": {},
   "outputs": [
    {
     "name": "stderr",
     "output_type": "stream",
     "text": [
      "[Stage 212:>                                                        (0 + 1) / 1]\r"
     ]
    },
    {
     "name": "stdout",
     "output_type": "stream",
     "text": [
      "+--------------------+--------+-----------------+\n",
      "|            features|   label|       prediction|\n",
      "+--------------------+--------+-----------------+\n",
      "|(17,[0,1,2,3,4,5,...|500000.0|552138.8790173624|\n",
      "|(17,[0,1,2,3,4,5,...|308615.0|384955.1514670896|\n",
      "|(17,[0,1,2,3,4,5,...|279000.0|384955.1514670896|\n",
      "|(17,[0,1,2,3,4,5,...|199000.0|384955.1514670896|\n",
      "|(17,[0,1,2,3,4,5,...|350000.0|856313.1838955387|\n",
      "|(17,[0,1,2,3,4,5,...|449000.0|552138.8790173624|\n",
      "|(17,[0,1,2,3,4,5,...|420000.0|552138.8790173624|\n",
      "|(17,[0,1,2,3,4,5,...|490000.0|856313.1838955387|\n",
      "|(17,[0,1,2,3,4,5,...|379900.0|384955.1514670896|\n",
      "|(17,[0,1,2,3,4,5,...|340000.0|552138.8790173624|\n",
      "|(17,[0,1,2,3,4,5,...|430000.0|552138.8790173624|\n",
      "|(17,[0,1,2,3,4,5,...|190000.0|384955.1514670896|\n",
      "|(17,[0,1,2,3,4,5,...|600000.0|552138.8790173624|\n",
      "|(17,[0,1,2,3,4,5,...|896000.0|552138.8790173624|\n",
      "|(17,[0,1,2,3,4,5,...|439000.0|552138.8790173624|\n",
      "|(17,[0,1,2,3,4,5,...|333000.0|384955.1514670896|\n",
      "|(17,[0,1,2,3,4,5,...|948000.0|743208.3542094455|\n",
      "|(17,[0,1,2,3,4,5,...|727000.0|552138.8790173624|\n",
      "|(17,[0,1,2,3,4,5,...|880000.0|552138.8790173624|\n",
      "|(17,[0,1,2,3,4,5,...|960100.0|856313.1838955387|\n",
      "+--------------------+--------+-----------------+\n",
      "only showing top 20 rows\n",
      "\n"
     ]
    },
    {
     "name": "stderr",
     "output_type": "stream",
     "text": [
      "                                                                                \r"
     ]
    }
   ],
   "source": [
    "# Criando uma previsão\n",
    "previsoes_dtr_treino = modelo_dtr.transform(treino)\n",
    "previsoes_dtr_treino.show()"
   ]
  },
  {
   "cell_type": "markdown",
   "metadata": {},
   "source": [
    "### 3.2.2 Métricas"
   ]
  },
  {
   "cell_type": "code",
   "execution_count": 44,
   "metadata": {},
   "outputs": [
    {
     "name": "stderr",
     "output_type": "stream",
     "text": [
      "                                                                                \r"
     ]
    },
    {
     "name": "stdout",
     "output_type": "stream",
     "text": [
      "0.7915828521370596\n"
     ]
    },
    {
     "name": "stderr",
     "output_type": "stream",
     "text": [
      "                                                                                \r"
     ]
    },
    {
     "name": "stdout",
     "output_type": "stream",
     "text": [
      "635083.755221057\n"
     ]
    },
    {
     "name": "stderr",
     "output_type": "stream",
     "text": [
      "[Stage 253:===============================================>         (5 + 1) / 6]\r"
     ]
    },
    {
     "name": "stdout",
     "output_type": "stream",
     "text": [
      "348728.1456563371\n"
     ]
    },
    {
     "name": "stderr",
     "output_type": "stream",
     "text": [
      "                                                                                \r"
     ]
    }
   ],
   "source": [
    "# Biblioteca para métrificar meu modelo\n",
    "from pyspark.ml.evaluation import RegressionEvaluator\n",
    "\n",
    "# Realizando os cálculo de R2 e RMSE\n",
    "evaluator = RegressionEvaluator()\n",
    "print(evaluator.evaluate(previsoes_dtr_treino, {evaluator.metricName: \"r2\"}))\n",
    "print(evaluator.evaluate(previsoes_dtr_treino, {evaluator.metricName: \"rmse\"}))\n",
    "print(evaluator.evaluate(previsoes_dtr_treino, {evaluator.metricName: \"mae\"}))"
   ]
  },
  {
   "cell_type": "code",
   "execution_count": 45,
   "metadata": {},
   "outputs": [
    {
     "name": "stderr",
     "output_type": "stream",
     "text": [
      "[Stage 267:>                                                        (0 + 1) / 1]\r"
     ]
    },
    {
     "name": "stdout",
     "output_type": "stream",
     "text": [
      "+--------------------+--------+------------------+\n",
      "|            features|   label|        prediction|\n",
      "+--------------------+--------+------------------+\n",
      "|(17,[0,1,2,3,4,5,...|260000.0| 384955.1514670896|\n",
      "|(17,[0,1,2,3,4,5,...|545000.0| 384955.1514670896|\n",
      "|(17,[0,1,2,3,4,5,...|479000.0| 384955.1514670896|\n",
      "|(17,[0,1,2,3,4,5,...|265000.0| 552138.8790173624|\n",
      "|(17,[0,1,2,3,4,5,...|650000.0| 743208.3542094455|\n",
      "|(17,[0,1,2,3,4,5,...|449000.0| 384955.1514670896|\n",
      "|(17,[0,1,2,3,4,5,...|679000.0| 856313.1838955387|\n",
      "|(17,[0,1,2,3,4,5,...|620000.0| 552138.8790173624|\n",
      "|(17,[0,1,2,3,4,5,...|435000.0| 384955.1514670896|\n",
      "|(17,[0,1,2,3,4,5,...|780000.0| 743208.3542094455|\n",
      "|(17,[0,1,2,3,4,5,...|273944.0| 384955.1514670896|\n",
      "|(17,[0,1,2,3,4,5,...|447600.0| 384955.1514670896|\n",
      "|(17,[0,1,2,3,4,5,...|950000.0| 856313.1838955387|\n",
      "|(17,[0,1,2,3,4,5,...|948375.0|1258351.4085850557|\n",
      "|(17,[0,1,2,3,4,5,...|279000.0| 384955.1514670896|\n",
      "|(17,[0,1,2,3,4,5,...|599000.0| 552138.8790173624|\n",
      "|(17,[0,1,2,3,4,5,...|741000.0| 552138.8790173624|\n",
      "|(17,[0,1,2,3,4,5,...|485000.0| 552138.8790173624|\n",
      "|(17,[0,1,2,3,4,5,...|440000.0| 384955.1514670896|\n",
      "|(17,[0,1,2,3,4,5,...|310000.0| 384955.1514670896|\n",
      "+--------------------+--------+------------------+\n",
      "only showing top 20 rows\n",
      "\n"
     ]
    },
    {
     "name": "stderr",
     "output_type": "stream",
     "text": [
      "                                                                                \r"
     ]
    }
   ],
   "source": [
    "# Gerando previsão com dados de teste\n",
    "previsoes_dtr_teste = modelo_dtr.transform(teste)\n",
    "previsoes_dtr_teste.show()"
   ]
  },
  {
   "cell_type": "code",
   "execution_count": 46,
   "metadata": {},
   "outputs": [
    {
     "name": "stdout",
     "output_type": "stream",
     "text": [
      "Decision Tree Regression\n",
      "******************************\n",
      "Dados de Treino\n",
      "******************************\n"
     ]
    },
    {
     "name": "stderr",
     "output_type": "stream",
     "text": [
      "                                                                                \r"
     ]
    },
    {
     "name": "stdout",
     "output_type": "stream",
     "text": [
      "R²: 0.791583\n"
     ]
    },
    {
     "name": "stderr",
     "output_type": "stream",
     "text": [
      "                                                                                \r"
     ]
    },
    {
     "name": "stdout",
     "output_type": "stream",
     "text": [
      "RMSE: 635083.755221\n"
     ]
    },
    {
     "name": "stderr",
     "output_type": "stream",
     "text": [
      "                                                                                \r"
     ]
    },
    {
     "name": "stdout",
     "output_type": "stream",
     "text": [
      "MAE: 348728.145656\n",
      "\n",
      "******************************\n",
      "Dados de Teste\n",
      "******************************\n"
     ]
    },
    {
     "name": "stderr",
     "output_type": "stream",
     "text": [
      "                                                                                \r"
     ]
    },
    {
     "name": "stdout",
     "output_type": "stream",
     "text": [
      "R²: 0.782521\n"
     ]
    },
    {
     "name": "stderr",
     "output_type": "stream",
     "text": [
      "                                                                                \r"
     ]
    },
    {
     "name": "stdout",
     "output_type": "stream",
     "text": [
      "RMSE: 649993.977709\n"
     ]
    },
    {
     "name": "stderr",
     "output_type": "stream",
     "text": [
      "[Stage 350:===============================================>         (5 + 1) / 6]\r"
     ]
    },
    {
     "name": "stdout",
     "output_type": "stream",
     "text": [
      "MAE: 350791.348070\n"
     ]
    },
    {
     "name": "stderr",
     "output_type": "stream",
     "text": [
      "                                                                                \r"
     ]
    }
   ],
   "source": [
    "# Impressão das métricas\n",
    "\n",
    "print('Decision Tree Regression')\n",
    "print(\"*\"*30)\n",
    "print(\"Dados de Treino\")\n",
    "print(\"*\"*30)\n",
    "print(\"R²: %f\" % evaluator.evaluate(previsoes_dtr_treino, {evaluator.metricName: \"r2\"}))\n",
    "print(\"RMSE: %f\" % evaluator.evaluate(previsoes_dtr_treino, {evaluator.metricName: \"rmse\"}))\n",
    "print(\"MAE: %f\" % evaluator.evaluate(previsoes_dtr_treino, {evaluator.metricName: \"mae\"}))\n",
    "print(\"\")\n",
    "print(\"*\"*30)\n",
    "print(\"Dados de Teste\")\n",
    "print(\"*\"*30)\n",
    "print(\"R²: %f\" % evaluator.evaluate(previsoes_dtr_teste, {evaluator.metricName: \"r2\"}))\n",
    "print(\"RMSE: %f\" % evaluator.evaluate(previsoes_dtr_teste, {evaluator.metricName: \"rmse\"}))\n",
    "print(\"MAE: %f\" % evaluator.evaluate(previsoes_dtr_teste, {evaluator.metricName: \"mae\"}))"
   ]
  },
  {
   "cell_type": "markdown",
   "metadata": {},
   "source": [
    "# 3.3 Random Forest"
   ]
  },
  {
   "cell_type": "markdown",
   "metadata": {},
   "source": [
    "### 3.3.1 Previsão"
   ]
  },
  {
   "cell_type": "code",
   "execution_count": 47,
   "metadata": {},
   "outputs": [],
   "source": [
    "# Biblioteca da arvore de decisão\n",
    "from pyspark.ml.regression import RandomForestRegressor\n",
    "\n",
    "# Criando o modelo de arvore de decisão\n",
    "rfr = RandomForestRegressor(seed=101, maxDepth=7, numTrees=10)\n",
    "\n",
    "# numTrees = Quantidade de arvores de decisão\n",
    "# maxDepth = Profundidade de minha arvore ou a quantidade de decisoes\n",
    "# seed = Uma numeração que faz o resultado não ser aleatorio todas as vezes que rodar o codigo"
   ]
  },
  {
   "cell_type": "code",
   "execution_count": 48,
   "metadata": {},
   "outputs": [
    {
     "name": "stderr",
     "output_type": "stream",
     "text": [
      "                                                                                \r"
     ]
    }
   ],
   "source": [
    "# Treinar modelo\n",
    "modelo_rfr = rfr.fit(treino)"
   ]
  },
  {
   "cell_type": "code",
   "execution_count": 49,
   "metadata": {},
   "outputs": [
    {
     "name": "stderr",
     "output_type": "stream",
     "text": [
      "[Stage 394:>                                                        (0 + 1) / 1]\r"
     ]
    },
    {
     "name": "stdout",
     "output_type": "stream",
     "text": [
      "+--------------------+--------+------------------+\n",
      "|            features|   label|        prediction|\n",
      "+--------------------+--------+------------------+\n",
      "|(17,[0,1,2,3,4,5,...|500000.0| 482001.2774540945|\n",
      "|(17,[0,1,2,3,4,5,...|308615.0|361593.81618668174|\n",
      "|(17,[0,1,2,3,4,5,...|279000.0|361593.81618668174|\n",
      "|(17,[0,1,2,3,4,5,...|199000.0|361593.81618668174|\n",
      "|(17,[0,1,2,3,4,5,...|350000.0| 829357.0074953727|\n",
      "|(17,[0,1,2,3,4,5,...|449000.0|435697.14635560254|\n",
      "|(17,[0,1,2,3,4,5,...|420000.0| 868402.1089412209|\n",
      "|(17,[0,1,2,3,4,5,...|490000.0| 829357.0074953727|\n",
      "|(17,[0,1,2,3,4,5,...|379900.0| 421651.2948244383|\n",
      "|(17,[0,1,2,3,4,5,...|340000.0|444446.36645585066|\n",
      "|(17,[0,1,2,3,4,5,...|430000.0| 499324.3329343723|\n",
      "|(17,[0,1,2,3,4,5,...|190000.0|361593.81618668174|\n",
      "|(17,[0,1,2,3,4,5,...|600000.0| 548366.0223437531|\n",
      "|(17,[0,1,2,3,4,5,...|896000.0| 617145.5345525459|\n",
      "|(17,[0,1,2,3,4,5,...|439000.0|512865.28285370686|\n",
      "|(17,[0,1,2,3,4,5,...|333000.0|361593.81618668174|\n",
      "|(17,[0,1,2,3,4,5,...|948000.0|  683121.845715644|\n",
      "|(17,[0,1,2,3,4,5,...|727000.0| 537911.1687580793|\n",
      "|(17,[0,1,2,3,4,5,...|880000.0| 548366.0223437531|\n",
      "|(17,[0,1,2,3,4,5,...|960100.0| 829357.0074953727|\n",
      "+--------------------+--------+------------------+\n",
      "only showing top 20 rows\n",
      "\n"
     ]
    },
    {
     "name": "stderr",
     "output_type": "stream",
     "text": [
      "                                                                                \r"
     ]
    }
   ],
   "source": [
    "# Criando uma previsão\n",
    "previsoes_rfr_treino = modelo_rfr.transform(treino)\n",
    "previsoes_rfr_treino.show()"
   ]
  },
  {
   "cell_type": "markdown",
   "metadata": {},
   "source": [
    "### 3.3.2 Métricas"
   ]
  },
  {
   "cell_type": "code",
   "execution_count": 50,
   "metadata": {},
   "outputs": [
    {
     "name": "stderr",
     "output_type": "stream",
     "text": [
      "                                                                                \r"
     ]
    },
    {
     "name": "stdout",
     "output_type": "stream",
     "text": [
      "0.8019566768137769\n"
     ]
    },
    {
     "name": "stderr",
     "output_type": "stream",
     "text": [
      "                                                                                \r"
     ]
    },
    {
     "name": "stdout",
     "output_type": "stream",
     "text": [
      "619076.5910757844\n"
     ]
    },
    {
     "name": "stderr",
     "output_type": "stream",
     "text": [
      "[Stage 435:===============================================>         (5 + 1) / 6]\r"
     ]
    },
    {
     "name": "stdout",
     "output_type": "stream",
     "text": [
      "339963.81368590967\n"
     ]
    },
    {
     "name": "stderr",
     "output_type": "stream",
     "text": [
      "                                                                                \r"
     ]
    }
   ],
   "source": [
    "# Biblioteca para métrificar meu modelo\n",
    "from pyspark.ml.evaluation import RegressionEvaluator\n",
    "\n",
    "# Realizando os cálculo de R2 e RMSE\n",
    "evaluator = RegressionEvaluator()\n",
    "print(evaluator.evaluate(previsoes_rfr_treino, {evaluator.metricName: \"r2\"}))\n",
    "print(evaluator.evaluate(previsoes_rfr_treino, {evaluator.metricName: \"rmse\"}))\n",
    "print(evaluator.evaluate(previsoes_rfr_treino, {evaluator.metricName: \"mae\"}))"
   ]
  },
  {
   "cell_type": "code",
   "execution_count": 51,
   "metadata": {},
   "outputs": [
    {
     "name": "stderr",
     "output_type": "stream",
     "text": [
      "                                                                                \r"
     ]
    },
    {
     "name": "stdout",
     "output_type": "stream",
     "text": [
      "0.7825209033490699\n"
     ]
    },
    {
     "name": "stderr",
     "output_type": "stream",
     "text": [
      "[Stage 463:===============================================>         (5 + 1) / 6]\r"
     ]
    },
    {
     "name": "stdout",
     "output_type": "stream",
     "text": [
      "649993.9777087782\n"
     ]
    },
    {
     "name": "stderr",
     "output_type": "stream",
     "text": [
      "                                                                                \r"
     ]
    }
   ],
   "source": [
    "# Gerando previsão com dados de treino\n",
    "previsoes_rfr_teste = modelo_dtr.transform(teste)\n",
    "\n",
    "# Realizando os cálculo de R2 e RMSE\n",
    "evaluator = RegressionEvaluator()\n",
    "print(evaluator.evaluate(previsoes_rfr_teste, {evaluator.metricName: \"r2\"}))\n",
    "print(evaluator.evaluate(previsoes_rfr_teste, {evaluator.metricName: \"rmse\"}))"
   ]
  },
  {
   "cell_type": "code",
   "execution_count": 52,
   "metadata": {},
   "outputs": [
    {
     "name": "stdout",
     "output_type": "stream",
     "text": [
      "Random Forest Regressor\n",
      "******************************\n",
      "Dados de Treino\n",
      "******************************\n"
     ]
    },
    {
     "name": "stderr",
     "output_type": "stream",
     "text": [
      "                                                                                \r"
     ]
    },
    {
     "name": "stdout",
     "output_type": "stream",
     "text": [
      "R²: 0.801957\n"
     ]
    },
    {
     "name": "stderr",
     "output_type": "stream",
     "text": [
      "                                                                                \r"
     ]
    },
    {
     "name": "stdout",
     "output_type": "stream",
     "text": [
      "RMSE: 619076.591076\n",
      "\n",
      "******************************\n",
      "Dados de Teste\n",
      "******************************\n"
     ]
    },
    {
     "name": "stderr",
     "output_type": "stream",
     "text": [
      "                                                                                \r"
     ]
    },
    {
     "name": "stdout",
     "output_type": "stream",
     "text": [
      "R²: 0.782521\n"
     ]
    },
    {
     "name": "stderr",
     "output_type": "stream",
     "text": [
      "[Stage 519:===============================================>         (5 + 1) / 6]\r"
     ]
    },
    {
     "name": "stdout",
     "output_type": "stream",
     "text": [
      "RMSE: 649993.977709\n"
     ]
    },
    {
     "name": "stderr",
     "output_type": "stream",
     "text": [
      "                                                                                \r"
     ]
    }
   ],
   "source": [
    "# Impressão das métricas\n",
    "print('Random Forest Regressor')\n",
    "print(\"*\"*30)\n",
    "print(\"Dados de Treino\")\n",
    "print(\"*\"*30)\n",
    "print(\"R²: %f\" % evaluator.evaluate(previsoes_rfr_treino, {evaluator.metricName: \"r2\"}))\n",
    "print(\"RMSE: %f\" % evaluator.evaluate(previsoes_rfr_treino, {evaluator.metricName: \"rmse\"}))\n",
    "print(\"\")\n",
    "print(\"*\"*30)\n",
    "print(\"Dados de Teste\")\n",
    "print(\"*\"*30)\n",
    "print(\"R²: %f\" % evaluator.evaluate(previsoes_rfr_teste, {evaluator.metricName: \"r2\"}))\n",
    "print(\"RMSE: %f\" % evaluator.evaluate(previsoes_rfr_teste, {evaluator.metricName: \"rmse\"}))\n"
   ]
  },
  {
   "cell_type": "markdown",
   "metadata": {},
   "source": [
    "# 3.4 Otimização de modelo\n",
    "\n",
    "### 3.4.1 Técnica cross validation com Arvore de decisão"
   ]
  },
  {
   "cell_type": "code",
   "execution_count": 53,
   "metadata": {},
   "outputs": [],
   "source": [
    "# importando bibliotecas para aplicar técnica\n",
    "from pyspark.ml.tuning import CrossValidator, ParamGridBuilder\n"
   ]
  },
  {
   "cell_type": "code",
   "execution_count": 54,
   "metadata": {},
   "outputs": [],
   "source": [
    "# Instanciando o modelo de arvore de decisao\n",
    "dtr = DecisionTreeRegressor()"
   ]
  },
  {
   "cell_type": "code",
   "execution_count": 55,
   "metadata": {},
   "outputs": [],
   "source": [
    "# Criando um grid de paramentros que precisa testar, ou seja quais configurações podem ser verificadas para encontrar uma \n",
    "# melhor solução ou parametros que faça meu modelo se ajustar melhor aos meus dados\n",
    "\n",
    "grid = ParamGridBuilder()\\\n",
    "    .addGrid(dtr.maxDepth, [2, 5, 10])\\\n",
    "    .addGrid(dtr.maxBins, [10, 32, 45])\\\n",
    "    .build()\n",
    "\n",
    "# maxDepth\n",
    "# Relembrando que maxDepth é a profundidade da arvore\n",
    "\n",
    "#------------------------------------------------------------\n",
    "\n",
    "# maxBins\n",
    "# maxBins: Número de compartimentos usados ao discretizar recursos contínuos.\n",
    "\n",
    "# O aumento de maxBins permite que o algoritmo considere mais candidatos a divisão e tome decisões de divisão refinadas. \n",
    "# No entanto, também aumenta a computação e a comunicação.\n",
    "\n",
    "# Observe que o parâmetro maxBins deve ter pelo menos o número máximo de categorias."
   ]
  },
  {
   "cell_type": "code",
   "execution_count": 56,
   "metadata": {},
   "outputs": [],
   "source": [
    "# Aplicando a técnica de cross validation para o modelo de arvore de decisão\n",
    "\n",
    "evaluator = RegressionEvaluator()\n",
    "\n",
    "dtr_cv = CrossValidator(\n",
    "    estimator=dtr,\n",
    "    estimatorParamMaps=grid,\n",
    "    evaluator=evaluator,\n",
    "    numFolds=3,\n",
    "    seed=101\n",
    ")\n",
    "\n",
    "# estimator = Modelo criado\n",
    "# estimatorParamMaps = os parametros que serão testados nas diferente tentativas\n",
    "# evaluator = tecnica de medicao\n",
    "# numFolds = quantidade de quebras dos dados de treino e teste\n",
    "# seed = padronizar um resultado"
   ]
  },
  {
   "cell_type": "code",
   "execution_count": 57,
   "metadata": {},
   "outputs": [
    {
     "name": "stderr",
     "output_type": "stream",
     "text": [
      "                                                                                \r"
     ]
    }
   ],
   "source": [
    "# Treinando modelo\n",
    "\n",
    "modelo_dtr_cv = dtr_cv.fit(treino)"
   ]
  },
  {
   "cell_type": "code",
   "execution_count": 58,
   "metadata": {},
   "outputs": [
    {
     "name": "stdout",
     "output_type": "stream",
     "text": [
      "Decision Tree Regressor\n",
      "******************************\n",
      "Sem Cross validation\n",
      "******************************\n"
     ]
    },
    {
     "name": "stderr",
     "output_type": "stream",
     "text": [
      "                                                                                \r"
     ]
    },
    {
     "name": "stdout",
     "output_type": "stream",
     "text": [
      "R²: 0.782521\n"
     ]
    },
    {
     "name": "stderr",
     "output_type": "stream",
     "text": [
      "                                                                                \r"
     ]
    },
    {
     "name": "stdout",
     "output_type": "stream",
     "text": [
      "RMSE: 649993.977709\n",
      "\n",
      "******************************\n",
      "Com Cross validation\n",
      "******************************\n"
     ]
    },
    {
     "name": "stderr",
     "output_type": "stream",
     "text": [
      "                                                                                \r"
     ]
    },
    {
     "name": "stdout",
     "output_type": "stream",
     "text": [
      "R²: 0.802372\n"
     ]
    },
    {
     "name": "stderr",
     "output_type": "stream",
     "text": [
      "[Stage 1157:==============================================>         (5 + 1) / 6]\r"
     ]
    },
    {
     "name": "stdout",
     "output_type": "stream",
     "text": [
      "RMSE: 619618.754523\n"
     ]
    },
    {
     "name": "stderr",
     "output_type": "stream",
     "text": [
      "                                                                                \r"
     ]
    }
   ],
   "source": [
    "# Gerando as previsões\n",
    "previsoes_dtr_cv_teste = modelo_dtr_cv.transform(teste)\n",
    "\n",
    "# Comparando as métricas sem cross validation e com cross validation\n",
    "print('Decision Tree Regressor')\n",
    "print(\"*\"*30)\n",
    "print(\"Sem Cross validation\")\n",
    "print(\"*\"*30)\n",
    "print(\"R²: %f\" % evaluator.evaluate(previsoes_dtr_teste, {evaluator.metricName: \"r2\"}))\n",
    "print(\"RMSE: %f\" % evaluator.evaluate(previsoes_dtr_teste, {evaluator.metricName: \"rmse\"}))\n",
    "print(\"\")\n",
    "print(\"*\"*30)\n",
    "print(\"Com Cross validation\")\n",
    "print(\"*\"*30)\n",
    "print(\"R²: %f\" % evaluator.evaluate(previsoes_dtr_cv_teste, {evaluator.metricName: \"r2\"}))\n",
    "print(\"RMSE: %f\" % evaluator.evaluate(previsoes_dtr_cv_teste, {evaluator.metricName: \"rmse\"}))"
   ]
  },
  {
   "cell_type": "markdown",
   "metadata": {},
   "source": [
    "### 3.4.2 Técnica cross validation com Random Forest"
   ]
  },
  {
   "cell_type": "code",
   "execution_count": 59,
   "metadata": {},
   "outputs": [],
   "source": [
    "# Instanciando o modelo de Random Forest Regressor\n",
    "rfr = RandomForestRegressor()"
   ]
  },
  {
   "cell_type": "code",
   "execution_count": 60,
   "metadata": {},
   "outputs": [],
   "source": [
    "# Criando um grid de paramentros que preciso testar\n",
    "\n",
    "grid = ParamGridBuilder()\\\n",
    "    .addGrid(rfr.numTrees, [10, 20, 30])\\\n",
    "    .addGrid(rfr.maxDepth, [2, 5, 10])\\\n",
    "    .addGrid(rfr.maxBins, [10, 32, 45])\\\n",
    "    .build()"
   ]
  },
  {
   "cell_type": "code",
   "execution_count": 61,
   "metadata": {},
   "outputs": [],
   "source": [
    "# Aplicando a técnica de cross validation para o modelo de Random Forest Regressor\n",
    "\n",
    "rfr_cv = CrossValidator(\n",
    "    estimator=rfr,\n",
    "    estimatorParamMaps=grid,\n",
    "    evaluator=evaluator,\n",
    "    numFolds=3,\n",
    "    seed=101\n",
    ")"
   ]
  },
  {
   "cell_type": "code",
   "execution_count": 62,
   "metadata": {},
   "outputs": [
    {
     "name": "stderr",
     "output_type": "stream",
     "text": [
      "24/08/21 21:34:51 WARN DAGScheduler: Broadcasting large task binary with size 1445.9 KiB\n",
      "24/08/21 21:34:53 WARN DAGScheduler: Broadcasting large task binary with size 1491.5 KiB\n",
      "24/08/21 21:34:55 WARN DAGScheduler: Broadcasting large task binary with size 1475.7 KiB\n",
      "24/08/21 21:35:04 WARN DAGScheduler: Broadcasting large task binary with size 1623.1 KiB\n",
      "24/08/21 21:35:05 WARN DAGScheduler: Broadcasting large task binary with size 2.7 MiB\n",
      "24/08/21 21:35:08 WARN DAGScheduler: Broadcasting large task binary with size 1640.9 KiB\n",
      "24/08/21 21:35:08 WARN DAGScheduler: Broadcasting large task binary with size 2.7 MiB\n",
      "24/08/21 21:35:12 WARN DAGScheduler: Broadcasting large task binary with size 1623.2 KiB\n",
      "24/08/21 21:35:12 WARN DAGScheduler: Broadcasting large task binary with size 2.7 MiB\n",
      "24/08/21 21:35:23 WARN DAGScheduler: Broadcasting large task binary with size 1345.6 KiB\n",
      "24/08/21 21:35:24 WARN DAGScheduler: Broadcasting large task binary with size 2.3 MiB\n",
      "24/08/21 21:35:25 WARN DAGScheduler: Broadcasting large task binary with size 3.9 MiB\n",
      "24/08/21 21:35:28 WARN DAGScheduler: Broadcasting large task binary with size 1355.6 KiB\n",
      "24/08/21 21:35:29 WARN DAGScheduler: Broadcasting large task binary with size 2.3 MiB\n",
      "24/08/21 21:35:30 WARN DAGScheduler: Broadcasting large task binary with size 3.9 MiB\n",
      "24/08/21 21:35:34 WARN DAGScheduler: Broadcasting large task binary with size 1351.4 KiB\n",
      "24/08/21 21:35:35 WARN DAGScheduler: Broadcasting large task binary with size 2.3 MiB\n",
      "24/08/21 21:35:36 WARN DAGScheduler: Broadcasting large task binary with size 3.9 MiB\n",
      "24/08/21 21:35:52 WARN DAGScheduler: Broadcasting large task binary with size 1439.4 KiB\n",
      "24/08/21 21:35:54 WARN DAGScheduler: Broadcasting large task binary with size 1466.5 KiB\n",
      "24/08/21 21:35:56 WARN DAGScheduler: Broadcasting large task binary with size 1453.0 KiB\n",
      "24/08/21 21:36:04 WARN DAGScheduler: Broadcasting large task binary with size 1633.2 KiB\n",
      "24/08/21 21:36:04 WARN DAGScheduler: Broadcasting large task binary with size 2.7 MiB\n",
      "24/08/21 21:36:07 WARN DAGScheduler: Broadcasting large task binary with size 1619.6 KiB\n",
      "24/08/21 21:36:08 WARN DAGScheduler: Broadcasting large task binary with size 2.6 MiB\n",
      "24/08/21 21:36:11 WARN DAGScheduler: Broadcasting large task binary with size 1627.3 KiB\n",
      "24/08/21 21:36:11 WARN DAGScheduler: Broadcasting large task binary with size 2.7 MiB\n",
      "24/08/21 21:36:22 WARN DAGScheduler: Broadcasting large task binary with size 1341.8 KiB\n",
      "24/08/21 21:36:23 WARN DAGScheduler: Broadcasting large task binary with size 2.3 MiB\n",
      "24/08/21 21:36:23 WARN DAGScheduler: Broadcasting large task binary with size 3.9 MiB\n",
      "24/08/21 21:36:28 WARN DAGScheduler: Broadcasting large task binary with size 1346.8 KiB\n",
      "24/08/21 21:36:29 WARN DAGScheduler: Broadcasting large task binary with size 2.3 MiB\n",
      "24/08/21 21:36:30 WARN DAGScheduler: Broadcasting large task binary with size 3.9 MiB\n",
      "24/08/21 21:36:34 WARN DAGScheduler: Broadcasting large task binary with size 1351.4 KiB\n",
      "24/08/21 21:36:34 WARN DAGScheduler: Broadcasting large task binary with size 2.3 MiB\n",
      "24/08/21 21:36:36 WARN DAGScheduler: Broadcasting large task binary with size 3.9 MiB\n",
      "24/08/21 21:36:51 WARN DAGScheduler: Broadcasting large task binary with size 1495.7 KiB\n",
      "24/08/21 21:36:53 WARN DAGScheduler: Broadcasting large task binary with size 1475.8 KiB\n",
      "24/08/21 21:36:55 WARN DAGScheduler: Broadcasting large task binary with size 1487.1 KiB\n",
      "24/08/21 21:37:03 WARN DAGScheduler: Broadcasting large task binary with size 1647.6 KiB\n",
      "24/08/21 21:37:04 WARN DAGScheduler: Broadcasting large task binary with size 2.7 MiB\n",
      "24/08/21 21:37:07 WARN DAGScheduler: Broadcasting large task binary with size 1618.4 KiB\n",
      "24/08/21 21:37:07 WARN DAGScheduler: Broadcasting large task binary with size 2.7 MiB\n",
      "24/08/21 21:37:11 WARN DAGScheduler: Broadcasting large task binary with size 1615.3 KiB\n",
      "24/08/21 21:37:11 WARN DAGScheduler: Broadcasting large task binary with size 2.6 MiB\n",
      "24/08/21 21:37:21 WARN DAGScheduler: Broadcasting large task binary with size 1337.7 KiB\n",
      "24/08/21 21:37:22 WARN DAGScheduler: Broadcasting large task binary with size 2.3 MiB\n",
      "24/08/21 21:37:23 WARN DAGScheduler: Broadcasting large task binary with size 3.9 MiB\n",
      "24/08/21 21:37:26 WARN DAGScheduler: Broadcasting large task binary with size 1348.3 KiB\n",
      "24/08/21 21:37:27 WARN DAGScheduler: Broadcasting large task binary with size 2.3 MiB\n",
      "24/08/21 21:37:28 WARN DAGScheduler: Broadcasting large task binary with size 3.9 MiB\n",
      "24/08/21 21:37:31 WARN DAGScheduler: Broadcasting large task binary with size 1346.9 KiB\n",
      "24/08/21 21:37:32 WARN DAGScheduler: Broadcasting large task binary with size 2.3 MiB\n",
      "24/08/21 21:37:33 WARN DAGScheduler: Broadcasting large task binary with size 3.9 MiB\n",
      "24/08/21 21:37:47 WARN DAGScheduler: Broadcasting large task binary with size 1353.9 KiB\n",
      "24/08/21 21:37:48 WARN DAGScheduler: Broadcasting large task binary with size 2.3 MiB\n",
      "24/08/21 21:37:49 WARN DAGScheduler: Broadcasting large task binary with size 4.1 MiB\n",
      "24/08/21 21:37:50 WARN DAGScheduler: Broadcasting large task binary with size 1000.9 KiB\n",
      "                                                                                \r"
     ]
    }
   ],
   "source": [
    "# Treinando modelo\n",
    "\n",
    "modelo_rfr_cv = rfr_cv.fit(treino)"
   ]
  },
  {
   "cell_type": "code",
   "execution_count": 63,
   "metadata": {},
   "outputs": [
    {
     "name": "stdout",
     "output_type": "stream",
     "text": [
      "Decision Tree Regressor\n",
      "******************************\n",
      "Sem Cross validation\n",
      "******************************\n"
     ]
    },
    {
     "name": "stderr",
     "output_type": "stream",
     "text": [
      "                                                                                \r"
     ]
    },
    {
     "name": "stdout",
     "output_type": "stream",
     "text": [
      "R²: 0.782521\n"
     ]
    },
    {
     "name": "stderr",
     "output_type": "stream",
     "text": [
      "                                                                                \r"
     ]
    },
    {
     "name": "stdout",
     "output_type": "stream",
     "text": [
      "RMSE: 649993.977709\n",
      "\n",
      "******************************\n",
      "Com Cross validation\n",
      "******************************\n"
     ]
    },
    {
     "name": "stderr",
     "output_type": "stream",
     "text": [
      "                                                                                \r"
     ]
    },
    {
     "name": "stdout",
     "output_type": "stream",
     "text": [
      "R²: 0.831682\n"
     ]
    },
    {
     "name": "stderr",
     "output_type": "stream",
     "text": [
      "[Stage 2731:==============================================>         (5 + 1) / 6]\r"
     ]
    },
    {
     "name": "stdout",
     "output_type": "stream",
     "text": [
      "RMSE: 571827.760479\n"
     ]
    },
    {
     "name": "stderr",
     "output_type": "stream",
     "text": [
      "                                                                                \r"
     ]
    }
   ],
   "source": [
    "# Gerando as previsões\n",
    "previsoes_rfr_cv_teste = modelo_rfr_cv.transform(teste)\n",
    "\n",
    "# Comparando as métricas sem cross validation e com cross validation\n",
    "print('Decision Tree Regressor')\n",
    "print(\"*\"*30)\n",
    "print(\"Sem Cross validation\")\n",
    "print(\"*\"*30)\n",
    "print(\"R²: %f\" % evaluator.evaluate(previsoes_rfr_teste, {evaluator.metricName: \"r2\"}))\n",
    "print(\"RMSE: %f\" % evaluator.evaluate(previsoes_rfr_teste, {evaluator.metricName: \"rmse\"}))\n",
    "print(\"\")\n",
    "print(\"*\"*30)\n",
    "print(\"Com Cross validation\")\n",
    "print(\"*\"*30)\n",
    "print(\"R²: %f\" % evaluator.evaluate(previsoes_rfr_cv_teste, {evaluator.metricName: \"r2\"}))\n",
    "print(\"RMSE: %f\" % evaluator.evaluate(previsoes_rfr_cv_teste, {evaluator.metricName: \"rmse\"}))"
   ]
  },
  {
   "cell_type": "markdown",
   "metadata": {},
   "source": [
    "### 3.4.3 Técnica de cross validation com linear regression"
   ]
  },
  {
   "cell_type": "code",
   "execution_count": 86,
   "metadata": {},
   "outputs": [
    {
     "name": "stderr",
     "output_type": "stream",
     "text": [
      "24/08/21 22:10:46 WARN Instrumentation: [f08ebc97] regParam is zero, which might cause numerical instability and overfitting.\n",
      "24/08/21 22:10:46 WARN Instrumentation: [f08ebc97] Cholesky solver failed due to singular covariance matrix. Retrying with Quasi-Newton solver.\n",
      "24/08/21 22:10:50 WARN Instrumentation: [41972a97] regParam is zero, which might cause numerical instability and overfitting.\n",
      "24/08/21 22:10:50 WARN Instrumentation: [41972a97] Cholesky solver failed due to singular covariance matrix. Retrying with Quasi-Newton solver.\n",
      "24/08/21 22:10:51 WARN Instrumentation: [d24fa8ab] regParam is zero, which might cause numerical instability and overfitting.\n",
      "24/08/21 22:10:51 WARN Instrumentation: [d24fa8ab] Cholesky solver failed due to singular covariance matrix. Retrying with Quasi-Newton solver.\n",
      "24/08/21 22:10:51 WARN Instrumentation: [d2dade87] regParam is zero, which might cause numerical instability and overfitting.\n",
      "24/08/21 22:10:51 WARN Instrumentation: [d2dade87] Cholesky solver failed due to singular covariance matrix. Retrying with Quasi-Newton solver.\n",
      "24/08/21 22:10:51 WARN Instrumentation: [cf29a28c] regParam is zero, which might cause numerical instability and overfitting.\n",
      "24/08/21 22:10:51 WARN Instrumentation: [cf29a28c] Cholesky solver failed due to singular covariance matrix. Retrying with Quasi-Newton solver.\n",
      "24/08/21 22:10:52 WARN Instrumentation: [017600bc] regParam is zero, which might cause numerical instability and overfitting.\n",
      "24/08/21 22:10:52 WARN Instrumentation: [017600bc] Cholesky solver failed due to singular covariance matrix. Retrying with Quasi-Newton solver.\n",
      "24/08/21 22:10:52 WARN Instrumentation: [d0f71806] regParam is zero, which might cause numerical instability and overfitting.\n",
      "24/08/21 22:10:52 WARN Instrumentation: [d0f71806] Cholesky solver failed due to singular covariance matrix. Retrying with Quasi-Newton solver.\n",
      "24/08/21 22:10:52 WARN Instrumentation: [33cea9a4] regParam is zero, which might cause numerical instability and overfitting.\n",
      "24/08/21 22:10:52 WARN Instrumentation: [33cea9a4] Cholesky solver failed due to singular covariance matrix. Retrying with Quasi-Newton solver.\n",
      "24/08/21 22:10:53 WARN Instrumentation: [504dcd26] regParam is zero, which might cause numerical instability and overfitting.\n",
      "24/08/21 22:10:53 WARN Instrumentation: [504dcd26] Cholesky solver failed due to singular covariance matrix. Retrying with Quasi-Newton solver.\n",
      "24/08/21 22:10:57 WARN Instrumentation: [4d098303] regParam is zero, which might cause numerical instability and overfitting.\n",
      "24/08/21 22:11:01 WARN Instrumentation: [b596ba66] regParam is zero, which might cause numerical instability and overfitting.\n",
      "24/08/21 22:11:01 WARN Instrumentation: [11393cb0] regParam is zero, which might cause numerical instability and overfitting.\n",
      "24/08/21 22:11:02 WARN Instrumentation: [0f2fa56d] regParam is zero, which might cause numerical instability and overfitting.\n",
      "24/08/21 22:11:02 WARN Instrumentation: [34214e7f] regParam is zero, which might cause numerical instability and overfitting.\n",
      "24/08/21 22:11:02 WARN Instrumentation: [735f0093] regParam is zero, which might cause numerical instability and overfitting.\n",
      "24/08/21 22:11:03 WARN Instrumentation: [0486659b] regParam is zero, which might cause numerical instability and overfitting.\n",
      "24/08/21 22:11:03 WARN Instrumentation: [ad9a1d10] regParam is zero, which might cause numerical instability and overfitting.\n",
      "24/08/21 22:11:03 WARN Instrumentation: [4430a0cc] regParam is zero, which might cause numerical instability and overfitting.\n",
      "24/08/21 22:11:07 WARN Instrumentation: [c1fb6716] regParam is zero, which might cause numerical instability and overfitting.\n",
      "24/08/21 22:11:08 WARN Instrumentation: [c1fb6716] Cholesky solver failed due to singular covariance matrix. Retrying with Quasi-Newton solver.\n",
      "24/08/21 22:11:11 WARN Instrumentation: [a7d89b4d] regParam is zero, which might cause numerical instability and overfitting.\n",
      "24/08/21 22:11:11 WARN Instrumentation: [a7d89b4d] Cholesky solver failed due to singular covariance matrix. Retrying with Quasi-Newton solver.\n",
      "24/08/21 22:11:12 WARN Instrumentation: [c3f788e7] regParam is zero, which might cause numerical instability and overfitting.\n",
      "24/08/21 22:11:12 WARN Instrumentation: [c3f788e7] Cholesky solver failed due to singular covariance matrix. Retrying with Quasi-Newton solver.\n",
      "24/08/21 22:11:12 WARN Instrumentation: [b3bf1fa2] regParam is zero, which might cause numerical instability and overfitting.\n",
      "24/08/21 22:11:12 WARN Instrumentation: [b3bf1fa2] Cholesky solver failed due to singular covariance matrix. Retrying with Quasi-Newton solver.\n",
      "24/08/21 22:11:12 WARN Instrumentation: [2ed11c5e] regParam is zero, which might cause numerical instability and overfitting.\n",
      "24/08/21 22:11:12 WARN Instrumentation: [2ed11c5e] Cholesky solver failed due to singular covariance matrix. Retrying with Quasi-Newton solver.\n",
      "24/08/21 22:11:13 WARN Instrumentation: [a2dfe067] regParam is zero, which might cause numerical instability and overfitting.\n",
      "24/08/21 22:11:13 WARN Instrumentation: [a2dfe067] Cholesky solver failed due to singular covariance matrix. Retrying with Quasi-Newton solver.\n",
      "24/08/21 22:11:13 WARN Instrumentation: [981a14b8] regParam is zero, which might cause numerical instability and overfitting.\n",
      "24/08/21 22:11:13 WARN Instrumentation: [981a14b8] Cholesky solver failed due to singular covariance matrix. Retrying with Quasi-Newton solver.\n",
      "24/08/21 22:11:13 WARN Instrumentation: [93e26798] regParam is zero, which might cause numerical instability and overfitting.\n",
      "24/08/21 22:11:13 WARN Instrumentation: [93e26798] Cholesky solver failed due to singular covariance matrix. Retrying with Quasi-Newton solver.\n",
      "24/08/21 22:11:14 WARN Instrumentation: [04f3ee23] regParam is zero, which might cause numerical instability and overfitting.\n",
      "24/08/21 22:11:14 WARN Instrumentation: [04f3ee23] Cholesky solver failed due to singular covariance matrix. Retrying with Quasi-Newton solver.\n",
      "24/08/21 22:11:18 WARN Instrumentation: [03b30bfe] regParam is zero, which might cause numerical instability and overfitting.\n",
      "24/08/21 22:11:20 WARN Instrumentation: [03b30bfe] Cholesky solver failed due to singular covariance matrix. Retrying with Quasi-Newton solver.\n",
      "                                                                                \r"
     ]
    }
   ],
   "source": [
    "lr = LinearRegression()\n",
    "\n",
    "grid = ParamGridBuilder()\\\n",
    "    .addGrid(rfr.maxDepth, [2, 5, 10])\\\n",
    "    .addGrid(rfr.maxBins, [10, 32, 45])\\\n",
    "    .build()\n",
    "\n",
    "lr_cv = CrossValidator(\n",
    "    estimator=lr,\n",
    "    estimatorParamMaps=grid,\n",
    "    evaluator=evaluator,\n",
    "    numFolds=3,\n",
    "    seed=101\n",
    ")\n",
    "\n",
    "modelo_lr_cv = lr_cv.fit(treino)\n"
   ]
  },
  {
   "cell_type": "code",
   "execution_count": 87,
   "metadata": {},
   "outputs": [
    {
     "name": "stdout",
     "output_type": "stream",
     "text": [
      "Decision Tree Regressor\n",
      "******************************\n",
      "Sem Cross validation\n",
      "******************************\n",
      "R²: 0.661251\n",
      "RMSE: 809660.946724\n",
      "\n",
      "******************************\n",
      "Com Cross validation\n",
      "******************************\n"
     ]
    },
    {
     "name": "stderr",
     "output_type": "stream",
     "text": [
      "                                                                                \r"
     ]
    },
    {
     "name": "stdout",
     "output_type": "stream",
     "text": [
      "R²: 0.668878\n"
     ]
    },
    {
     "name": "stderr",
     "output_type": "stream",
     "text": [
      "[Stage 6186:==============================================>         (5 + 1) / 6]\r"
     ]
    },
    {
     "name": "stdout",
     "output_type": "stream",
     "text": [
      "RMSE: 802037.226067\n"
     ]
    },
    {
     "name": "stderr",
     "output_type": "stream",
     "text": [
      "                                                                                \r"
     ]
    }
   ],
   "source": [
    "# Gerando as previsões\n",
    "previsoes_lr_cv_teste = modelo_lr_cv.transform(teste)\n",
    "\n",
    "# Comparando as métricas sem cross validation e com cross validation\n",
    "print('Decision Tree Regressor')\n",
    "print(\"*\"*30)\n",
    "print(\"Sem Cross validation\")\n",
    "print(\"*\"*30)\n",
    "print(\"R²: %f\" % previsoes_lr_treino.r2)\n",
    "print(\"RMSE: %f\" % previsoes_lr_treino.rootMeanSquaredError)\n",
    "print(\"\")\n",
    "print(\"*\"*30)\n",
    "print(\"Com Cross validation\")\n",
    "print(\"*\"*30)\n",
    "print(\"R²: %f\" % evaluator.evaluate(previsoes_lr_cv_teste, {evaluator.metricName: \"r2\"}))\n",
    "print(\"RMSE: %f\" % evaluator.evaluate(previsoes_lr_cv_teste, {evaluator.metricName: \"rmse\"}))"
   ]
  },
  {
   "cell_type": "markdown",
   "metadata": {},
   "source": [
    "# 3.5 Prevendo valores\n",
    "\n",
    "* Após criar os modelos e testar-los, podemos usar para gerar previsão de acordo com dados de entrada"
   ]
  },
  {
   "cell_type": "code",
   "execution_count": 64,
   "metadata": {},
   "outputs": [],
   "source": [
    "# Criando uma lista de dicionario com os dados de entrada, e apartir destes dados podemos gerar o valor do imovel\n",
    "\n",
    "novo_imovel = [{\n",
    " 'bathrooms': 2,\n",
    " 'bedrooms': 3,\n",
    " 'floors': 2,\n",
    " 'parkingSpaces': 4,\n",
    " 'suites': 2,\n",
    " 'unitFloor':0,\n",
    " 'unitsOnTheFloor':0,\n",
    " 'usableAreas': 234,\n",
    " 'condo': 234,\n",
    " 'iptu': 0,\n",
    " 'Apartamento':1,\n",
    " 'Casa':0,\n",
    " 'Outros':0,\n",
    " 'Zona Central':0,\n",
    " 'Zona Norte': 1,\n",
    " 'Zona Oeste':0,\n",
    " 'Zona Sul':0,\n",
    " 'label': 0\n",
    "}]"
   ]
  },
  {
   "cell_type": "code",
   "execution_count": 65,
   "metadata": {},
   "outputs": [],
   "source": [
    "# Criando um dataFrame Spark com os dados do novo imovel\n",
    "meu_imovel = spark.createDataFrame(novo_imovel)"
   ]
  },
  {
   "cell_type": "code",
   "execution_count": 66,
   "metadata": {},
   "outputs": [
    {
     "name": "stderr",
     "output_type": "stream",
     "text": [
      "                                                                                \r"
     ]
    },
    {
     "name": "stdout",
     "output_type": "stream",
     "text": [
      "+-----------+----+------+------------+----------+----------+--------+---------+--------+-----+------+----+-----+-------------+------+---------+---------------+-----------+\n",
      "|Apartamento|Casa|Outros|Zona Central|Zona Norte|Zona Oeste|Zona Sul|bathrooms|bedrooms|condo|floors|iptu|label|parkingSpaces|suites|unitFloor|unitsOnTheFloor|usableAreas|\n",
      "+-----------+----+------+------------+----------+----------+--------+---------+--------+-----+------+----+-----+-------------+------+---------+---------------+-----------+\n",
      "|          1|   0|     0|           0|         1|         0|       0|        2|       3|  234|     2|   0|    0|            4|     2|        0|              0|        234|\n",
      "+-----------+----+------+------------+----------+----------+--------+---------+--------+-----+------+----+-----+-------------+------+---------+---------------+-----------+\n",
      "\n"
     ]
    }
   ],
   "source": [
    "meu_imovel.show()"
   ]
  },
  {
   "cell_type": "code",
   "execution_count": 67,
   "metadata": {},
   "outputs": [],
   "source": [
    "# Vetorizar meu dados de novo imovel\n",
    "assembler = VectorAssembler(inputCols=x, outputCol='features')\n",
    "meu_novo_lar_vetorizado = assembler.transform(meu_imovel).select('features', 'label')   \n"
   ]
  },
  {
   "cell_type": "code",
   "execution_count": 68,
   "metadata": {},
   "outputs": [
    {
     "name": "stdout",
     "output_type": "stream",
     "text": [
      "+--------------------+-----+---------------+\n",
      "|            features|label|     prediction|\n",
      "+--------------------+-----+---------------+\n",
      "|(17,[0,1,2,3,4,7,...|    0|1186668.9544442|\n",
      "+--------------------+-----+---------------+\n",
      "\n"
     ]
    }
   ],
   "source": [
    "# Extraindo minha previsão utilizando o modelo Random Forest com a técnica de cross validation\n",
    "modelo_rfr_cv.transform(meu_novo_lar_vetorizado).show()"
   ]
  },
  {
   "cell_type": "markdown",
   "metadata": {},
   "source": [
    "# 3.6 Registrando métricas (Avaliação dos modelos)"
   ]
  },
  {
   "cell_type": "code",
   "execution_count": 88,
   "metadata": {},
   "outputs": [
    {
     "name": "stderr",
     "output_type": "stream",
     "text": [
      "                                                                                \r"
     ]
    }
   ],
   "source": [
    "# Criando Json para registrar métricas dos modelos\n",
    "\n",
    "# Pasta e Nomenclatura Arquivo Json\n",
    "import datetime\n",
    "now = datetime.datetime.now()\n",
    "datatime_json = now.strftime(\"%Y-%m-%d_%H-%M-%S\") # Formato de data e hora\n",
    "path_json_output =\"Metrics/\" # Salvando na pasta Metrics\n",
    "name_json = path_json_output + \"metrics_model_validation_\" + datatime_json + \".json\"\n",
    "\n",
    "# Linear regression\n",
    "linear_regression_metric_json = {\n",
    "    \"R2 Treino\": round(previsoes_lr_treino.r2,2),\n",
    "    \"RMSE Treino\": previsoes_lr_treino.rootMeanSquaredError,\n",
    "    \"MAE Treino\": previsoes_lr_treino.meanAbsoluteError,\n",
    "    \"R2 Teste\": round(previsoes_lr_teste.r2,2),\n",
    "    \"RMSE Teste\": previsoes_lr_teste.rootMeanSquaredError,\n",
    "    \"MAE Teste\": previsoes_lr_teste.meanAbsoluteError,\n",
    "    \"R2 Teste CV\": round(evaluator.evaluate(previsoes_lr_cv_teste, {evaluator.metricName: \"r2\"}), 2),\n",
    "    \"RMSE Teste CV\": evaluator.evaluate(previsoes_lr_cv_teste, {evaluator.metricName: \"rmse\"}),\n",
    "    \"MAE Teste CV\": evaluator.evaluate(previsoes_lr_cv_teste, {evaluator.metricName: \"mae\"})\t\n",
    "}\n",
    "\n",
    "# Decision Tree Regressor\n",
    "decision_tree_regressor_metric_json = {\n",
    "    \"R2 Treino\": round( evaluator.evaluate(previsoes_dtr_teste, {evaluator.metricName: \"r2\"}),2),\n",
    "    \"RMSE Treino\": evaluator.evaluate(previsoes_dtr_teste, {evaluator.metricName: \"rmse\"}),\n",
    "    \"MAE Treino\": evaluator.evaluate(previsoes_dtr_teste, {evaluator.metricName: \"mae\"}),\n",
    "    \"R2 Teste\": round(evaluator.evaluate(previsoes_dtr_treino, {evaluator.metricName: \"r2\"}), 2),\n",
    "    \"RMSE Teste\": evaluator.evaluate(previsoes_dtr_treino, {evaluator.metricName: \"rmse\"}),\n",
    "    \"MAE Teste\": evaluator.evaluate(previsoes_dtr_treino, {evaluator.metricName: \"mae\"}),\n",
    "    \"R2 Teste CV\": round(evaluator.evaluate(previsoes_dtr_cv_teste, {evaluator.metricName: \"r2\"}), 2),\n",
    "    \"RMSE Teste CV\": evaluator.evaluate(previsoes_dtr_cv_teste, {evaluator.metricName: \"rmse\"}),\n",
    "    \"MAE Teste CV\": evaluator.evaluate(previsoes_dtr_cv_teste, {evaluator.metricName: \"mae\"})\n",
    "}\n",
    "\n",
    "# Random Forest Regressor\n",
    "Randon_Forest_regressor_metric_json = {\n",
    "    \"R2 Treino\": round( evaluator.evaluate(previsoes_rfr_treino, {evaluator.metricName: \"r2\"}),2),\n",
    "    \"RMSE Treino\": evaluator.evaluate(previsoes_rfr_treino, {evaluator.metricName: \"rmse\"}),\n",
    "    \"MAE Treino\": evaluator.evaluate(previsoes_rfr_treino, {evaluator.metricName: \"mae\"}),\n",
    "    \"R2 Teste\": round(evaluator.evaluate(previsoes_rfr_teste, {evaluator.metricName: \"r2\"}), 2),\n",
    "    \"RMSE Teste\": evaluator.evaluate(previsoes_rfr_teste, {evaluator.metricName: \"rmse\"}),\n",
    "    \"MAE Teste\": evaluator.evaluate(previsoes_rfr_teste, {evaluator.metricName: \"mae\"}),\n",
    "    \"R2 Teste CV\": round(evaluator.evaluate(previsoes_rfr_cv_teste, {evaluator.metricName: \"r2\"}), 2),\n",
    "    \"RMSE Teste CV\": evaluator.evaluate(previsoes_rfr_cv_teste, {evaluator.metricName: \"rmse\"}),\n",
    "    \"MAE Teste CV\": evaluator.evaluate(previsoes_rfr_cv_teste, {evaluator.metricName: \"mae\"}) \n",
    "}\n",
    "\n",
    "# criando Json para registrar todas as métricas\n",
    "metricas = {\n",
    "    \"Linear Regression\": linear_regression_metric_json,\n",
    "    \"Decision Tree\": decision_tree_regressor_metric_json,\n",
    "    \"Random Forest\": Randon_Forest_regressor_metric_json\n",
    "}\n",
    "\n",
    "# Impressão do Json métricas de forma identada\n",
    "# print(json.dumps(metricas, indent=2))\n",
    "\n",
    "# Salvando o arquivo Json com encoding utf-8\n",
    "import json\n",
    "\n",
    "with open(name_json, 'w', encoding=\"utf-8\") as f:\n",
    "    json.dump(metricas, f, indent=2)"
   ]
  }
 ],
 "metadata": {
  "kernelspec": {
   "display_name": "Python 3",
   "language": "python",
   "name": "python3"
  },
  "language_info": {
   "codemirror_mode": {
    "name": "ipython",
    "version": 3
   },
   "file_extension": ".py",
   "mimetype": "text/x-python",
   "name": "python",
   "nbconvert_exporter": "python",
   "pygments_lexer": "ipython3",
   "version": "3.10.12"
  }
 },
 "nbformat": 4,
 "nbformat_minor": 2
}
